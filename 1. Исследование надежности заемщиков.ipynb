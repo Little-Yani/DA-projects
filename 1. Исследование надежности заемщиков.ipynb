{
 "cells": [
  {
   "cell_type": "markdown",
   "metadata": {},
   "source": [
    "# Исследование надёжности заёмщиков\n",
    "\n",
    "Заказчик — кредитный отдел банка. Нужно разобраться, влияет ли семейное положение и количество детей клиента на факт погашения кредита в срок. Входные данные от банка — статистика о платёжеспособности клиентов.\n",
    "\n",
    "Результаты исследования будут учтены при построении модели **кредитного скоринга** — специальной системы, которая оценивает способность потенциального заёмщика вернуть кредит банку."
   ]
  },
  {
   "cell_type": "markdown",
   "metadata": {},
   "source": [
    "\n",
    "<b>Описание данных</b>\n",
    "<ul>\n",
    "    <li>children — количество детей в семье</li>\n",
    "    <li>days_employed — общий трудовой стаж в днях</li>\n",
    "    <li>dob_years — возраст клиента в годах</li>\n",
    "    <li>education — уровень образования клиента</li>\n",
    "    <li>education_id — идентификатор уровня образования</li>\n",
    "    <li>family_status — семейное положение</li>\n",
    "    <li>family_status_id — идентификатор семейного положения</li>\n",
    "    <li>gender — пол клиента</li>\n",
    "    <li>income_type — тип занятости</li>\n",
    "    <li>debt — имел ли задолженность по возврату кредитов</li>\n",
    "    <li>total_income — ежемесячный доход</li>\n",
    "    <li>purpose — цель получения кредита</li>\n",
    "</ul>"
   ]
  },
  {
   "cell_type": "markdown",
   "metadata": {},
   "source": [
    "<b>Задачи исследования</b>\n",
    "<ol>\n",
    "    <li>Просмотр данных</li>\n",
    "    <ol>\n",
    "        <li>посмотреть общую информацию о датасете</li>\n",
    "        <li>посмотреть информацию в начале и в конце датасета</li>\n",
    "        <li>сделать предварительные выводы</li>\n",
    "        <li>найти аномалии</li>\n",
    "    </ol>    \n",
    "    <li>Обработка данных</li>\n",
    "    <ol>\n",
    "        <li>найти и обработать пропуски</li>\n",
    "        <li>заменить некорректные типы данных</li>\n",
    "        <li>удалить дубликаты</li>\n",
    "        <li>выделить леммы</li>\n",
    "        <li>Категоризировать данные</li>\n",
    "    </ol> \n",
    "    <li>Ответы на вопросы</li>\n",
    "    <ol>\n",
    "        <li>Есть ли зависимость между наличием детей и возвратом кредита в срок?</li>\n",
    "        <li>Есть ли зависимость между семейным положением и возвратом кредита в срок?</li>\n",
    "        <li>Есть ли зависимость между уровнем дохода и возвратом кредита в срок?</li>\n",
    "        <li>Как разные цели кредита влияют на его возврат в срок?</li>\n",
    "    </ol> \n",
    "    <li>Итоговые результаты исследования</li>\n",
    "    <ol>\n",
    "        <li>Выводы, рекомендации</li>\n",
    "    </ol> \n",
    "</ol>"
   ]
  },
  {
   "cell_type": "markdown",
   "metadata": {},
   "source": [
    "## Шаг 1. Откройте файл с данными и изучите общую информацию"
   ]
  },
  {
   "cell_type": "code",
   "execution_count": 1,
   "metadata": {},
   "outputs": [],
   "source": [
    "import pandas as pd #импортирую библиотеку\n",
    "df = pd.read_csv ('/datasets/data.csv') #читаю данные датасета\n",
    "df.head(10)#просматриваю первые 10 строк датасета\n",
    "\n",
    "from pymystem3 import Mystem\n",
    "from collections import Counter"
   ]
  },
  {
   "cell_type": "code",
   "execution_count": 2,
   "metadata": {},
   "outputs": [
    {
     "data": {
      "text/html": [
       "<div>\n",
       "<style scoped>\n",
       "    .dataframe tbody tr th:only-of-type {\n",
       "        vertical-align: middle;\n",
       "    }\n",
       "\n",
       "    .dataframe tbody tr th {\n",
       "        vertical-align: top;\n",
       "    }\n",
       "\n",
       "    .dataframe thead th {\n",
       "        text-align: right;\n",
       "    }\n",
       "</style>\n",
       "<table border=\"1\" class=\"dataframe\">\n",
       "  <thead>\n",
       "    <tr style=\"text-align: right;\">\n",
       "      <th></th>\n",
       "      <th>children</th>\n",
       "      <th>days_employed</th>\n",
       "      <th>dob_years</th>\n",
       "      <th>education</th>\n",
       "      <th>education_id</th>\n",
       "      <th>family_status</th>\n",
       "      <th>family_status_id</th>\n",
       "      <th>gender</th>\n",
       "      <th>income_type</th>\n",
       "      <th>debt</th>\n",
       "      <th>total_income</th>\n",
       "      <th>purpose</th>\n",
       "    </tr>\n",
       "  </thead>\n",
       "  <tbody>\n",
       "    <tr>\n",
       "      <td>0</td>\n",
       "      <td>1</td>\n",
       "      <td>-8437.673028</td>\n",
       "      <td>42</td>\n",
       "      <td>высшее</td>\n",
       "      <td>0</td>\n",
       "      <td>женат / замужем</td>\n",
       "      <td>0</td>\n",
       "      <td>F</td>\n",
       "      <td>сотрудник</td>\n",
       "      <td>0</td>\n",
       "      <td>253875.639453</td>\n",
       "      <td>покупка жилья</td>\n",
       "    </tr>\n",
       "    <tr>\n",
       "      <td>1</td>\n",
       "      <td>1</td>\n",
       "      <td>-4024.803754</td>\n",
       "      <td>36</td>\n",
       "      <td>среднее</td>\n",
       "      <td>1</td>\n",
       "      <td>женат / замужем</td>\n",
       "      <td>0</td>\n",
       "      <td>F</td>\n",
       "      <td>сотрудник</td>\n",
       "      <td>0</td>\n",
       "      <td>112080.014102</td>\n",
       "      <td>приобретение автомобиля</td>\n",
       "    </tr>\n",
       "    <tr>\n",
       "      <td>2</td>\n",
       "      <td>0</td>\n",
       "      <td>-5623.422610</td>\n",
       "      <td>33</td>\n",
       "      <td>Среднее</td>\n",
       "      <td>1</td>\n",
       "      <td>женат / замужем</td>\n",
       "      <td>0</td>\n",
       "      <td>M</td>\n",
       "      <td>сотрудник</td>\n",
       "      <td>0</td>\n",
       "      <td>145885.952297</td>\n",
       "      <td>покупка жилья</td>\n",
       "    </tr>\n",
       "    <tr>\n",
       "      <td>3</td>\n",
       "      <td>3</td>\n",
       "      <td>-4124.747207</td>\n",
       "      <td>32</td>\n",
       "      <td>среднее</td>\n",
       "      <td>1</td>\n",
       "      <td>женат / замужем</td>\n",
       "      <td>0</td>\n",
       "      <td>M</td>\n",
       "      <td>сотрудник</td>\n",
       "      <td>0</td>\n",
       "      <td>267628.550329</td>\n",
       "      <td>дополнительное образование</td>\n",
       "    </tr>\n",
       "    <tr>\n",
       "      <td>4</td>\n",
       "      <td>0</td>\n",
       "      <td>340266.072047</td>\n",
       "      <td>53</td>\n",
       "      <td>среднее</td>\n",
       "      <td>1</td>\n",
       "      <td>гражданский брак</td>\n",
       "      <td>1</td>\n",
       "      <td>F</td>\n",
       "      <td>пенсионер</td>\n",
       "      <td>0</td>\n",
       "      <td>158616.077870</td>\n",
       "      <td>сыграть свадьбу</td>\n",
       "    </tr>\n",
       "    <tr>\n",
       "      <td>5</td>\n",
       "      <td>0</td>\n",
       "      <td>-926.185831</td>\n",
       "      <td>27</td>\n",
       "      <td>высшее</td>\n",
       "      <td>0</td>\n",
       "      <td>гражданский брак</td>\n",
       "      <td>1</td>\n",
       "      <td>M</td>\n",
       "      <td>компаньон</td>\n",
       "      <td>0</td>\n",
       "      <td>255763.565419</td>\n",
       "      <td>покупка жилья</td>\n",
       "    </tr>\n",
       "    <tr>\n",
       "      <td>6</td>\n",
       "      <td>0</td>\n",
       "      <td>-2879.202052</td>\n",
       "      <td>43</td>\n",
       "      <td>высшее</td>\n",
       "      <td>0</td>\n",
       "      <td>женат / замужем</td>\n",
       "      <td>0</td>\n",
       "      <td>F</td>\n",
       "      <td>компаньон</td>\n",
       "      <td>0</td>\n",
       "      <td>240525.971920</td>\n",
       "      <td>операции с жильем</td>\n",
       "    </tr>\n",
       "    <tr>\n",
       "      <td>7</td>\n",
       "      <td>0</td>\n",
       "      <td>-152.779569</td>\n",
       "      <td>50</td>\n",
       "      <td>СРЕДНЕЕ</td>\n",
       "      <td>1</td>\n",
       "      <td>женат / замужем</td>\n",
       "      <td>0</td>\n",
       "      <td>M</td>\n",
       "      <td>сотрудник</td>\n",
       "      <td>0</td>\n",
       "      <td>135823.934197</td>\n",
       "      <td>образование</td>\n",
       "    </tr>\n",
       "    <tr>\n",
       "      <td>8</td>\n",
       "      <td>2</td>\n",
       "      <td>-6929.865299</td>\n",
       "      <td>35</td>\n",
       "      <td>ВЫСШЕЕ</td>\n",
       "      <td>0</td>\n",
       "      <td>гражданский брак</td>\n",
       "      <td>1</td>\n",
       "      <td>F</td>\n",
       "      <td>сотрудник</td>\n",
       "      <td>0</td>\n",
       "      <td>95856.832424</td>\n",
       "      <td>на проведение свадьбы</td>\n",
       "    </tr>\n",
       "    <tr>\n",
       "      <td>9</td>\n",
       "      <td>0</td>\n",
       "      <td>-2188.756445</td>\n",
       "      <td>41</td>\n",
       "      <td>среднее</td>\n",
       "      <td>1</td>\n",
       "      <td>женат / замужем</td>\n",
       "      <td>0</td>\n",
       "      <td>M</td>\n",
       "      <td>сотрудник</td>\n",
       "      <td>0</td>\n",
       "      <td>144425.938277</td>\n",
       "      <td>покупка жилья для семьи</td>\n",
       "    </tr>\n",
       "  </tbody>\n",
       "</table>\n",
       "</div>"
      ],
      "text/plain": [
       "   children  days_employed  dob_years education  education_id  \\\n",
       "0         1   -8437.673028         42    высшее             0   \n",
       "1         1   -4024.803754         36   среднее             1   \n",
       "2         0   -5623.422610         33   Среднее             1   \n",
       "3         3   -4124.747207         32   среднее             1   \n",
       "4         0  340266.072047         53   среднее             1   \n",
       "5         0    -926.185831         27    высшее             0   \n",
       "6         0   -2879.202052         43    высшее             0   \n",
       "7         0    -152.779569         50   СРЕДНЕЕ             1   \n",
       "8         2   -6929.865299         35    ВЫСШЕЕ             0   \n",
       "9         0   -2188.756445         41   среднее             1   \n",
       "\n",
       "      family_status  family_status_id gender income_type  debt   total_income  \\\n",
       "0   женат / замужем                 0      F   сотрудник     0  253875.639453   \n",
       "1   женат / замужем                 0      F   сотрудник     0  112080.014102   \n",
       "2   женат / замужем                 0      M   сотрудник     0  145885.952297   \n",
       "3   женат / замужем                 0      M   сотрудник     0  267628.550329   \n",
       "4  гражданский брак                 1      F   пенсионер     0  158616.077870   \n",
       "5  гражданский брак                 1      M   компаньон     0  255763.565419   \n",
       "6   женат / замужем                 0      F   компаньон     0  240525.971920   \n",
       "7   женат / замужем                 0      M   сотрудник     0  135823.934197   \n",
       "8  гражданский брак                 1      F   сотрудник     0   95856.832424   \n",
       "9   женат / замужем                 0      M   сотрудник     0  144425.938277   \n",
       "\n",
       "                      purpose  \n",
       "0               покупка жилья  \n",
       "1     приобретение автомобиля  \n",
       "2               покупка жилья  \n",
       "3  дополнительное образование  \n",
       "4             сыграть свадьбу  \n",
       "5               покупка жилья  \n",
       "6           операции с жильем  \n",
       "7                 образование  \n",
       "8       на проведение свадьбы  \n",
       "9     покупка жилья для семьи  "
      ]
     },
     "execution_count": 2,
     "metadata": {},
     "output_type": "execute_result"
    }
   ],
   "source": [
    "df.head(10)#просматриваю первые 10 строк датасета"
   ]
  },
  {
   "cell_type": "code",
   "execution_count": 3,
   "metadata": {},
   "outputs": [
    {
     "data": {
      "text/html": [
       "<div>\n",
       "<style scoped>\n",
       "    .dataframe tbody tr th:only-of-type {\n",
       "        vertical-align: middle;\n",
       "    }\n",
       "\n",
       "    .dataframe tbody tr th {\n",
       "        vertical-align: top;\n",
       "    }\n",
       "\n",
       "    .dataframe thead th {\n",
       "        text-align: right;\n",
       "    }\n",
       "</style>\n",
       "<table border=\"1\" class=\"dataframe\">\n",
       "  <thead>\n",
       "    <tr style=\"text-align: right;\">\n",
       "      <th></th>\n",
       "      <th>children</th>\n",
       "      <th>days_employed</th>\n",
       "      <th>dob_years</th>\n",
       "      <th>education</th>\n",
       "      <th>education_id</th>\n",
       "      <th>family_status</th>\n",
       "      <th>family_status_id</th>\n",
       "      <th>gender</th>\n",
       "      <th>income_type</th>\n",
       "      <th>debt</th>\n",
       "      <th>total_income</th>\n",
       "      <th>purpose</th>\n",
       "    </tr>\n",
       "  </thead>\n",
       "  <tbody>\n",
       "    <tr>\n",
       "      <td>21515</td>\n",
       "      <td>1</td>\n",
       "      <td>-467.685130</td>\n",
       "      <td>28</td>\n",
       "      <td>среднее</td>\n",
       "      <td>1</td>\n",
       "      <td>женат / замужем</td>\n",
       "      <td>0</td>\n",
       "      <td>F</td>\n",
       "      <td>сотрудник</td>\n",
       "      <td>1</td>\n",
       "      <td>109486.327999</td>\n",
       "      <td>заняться образованием</td>\n",
       "    </tr>\n",
       "    <tr>\n",
       "      <td>21516</td>\n",
       "      <td>0</td>\n",
       "      <td>-914.391429</td>\n",
       "      <td>42</td>\n",
       "      <td>высшее</td>\n",
       "      <td>0</td>\n",
       "      <td>женат / замужем</td>\n",
       "      <td>0</td>\n",
       "      <td>F</td>\n",
       "      <td>компаньон</td>\n",
       "      <td>0</td>\n",
       "      <td>322807.776603</td>\n",
       "      <td>покупка своего жилья</td>\n",
       "    </tr>\n",
       "    <tr>\n",
       "      <td>21517</td>\n",
       "      <td>0</td>\n",
       "      <td>-404.679034</td>\n",
       "      <td>42</td>\n",
       "      <td>высшее</td>\n",
       "      <td>0</td>\n",
       "      <td>гражданский брак</td>\n",
       "      <td>1</td>\n",
       "      <td>F</td>\n",
       "      <td>компаньон</td>\n",
       "      <td>0</td>\n",
       "      <td>178059.553491</td>\n",
       "      <td>на покупку своего автомобиля</td>\n",
       "    </tr>\n",
       "    <tr>\n",
       "      <td>21518</td>\n",
       "      <td>0</td>\n",
       "      <td>373995.710838</td>\n",
       "      <td>59</td>\n",
       "      <td>СРЕДНЕЕ</td>\n",
       "      <td>1</td>\n",
       "      <td>женат / замужем</td>\n",
       "      <td>0</td>\n",
       "      <td>F</td>\n",
       "      <td>пенсионер</td>\n",
       "      <td>0</td>\n",
       "      <td>153864.650328</td>\n",
       "      <td>сделка с автомобилем</td>\n",
       "    </tr>\n",
       "    <tr>\n",
       "      <td>21519</td>\n",
       "      <td>1</td>\n",
       "      <td>-2351.431934</td>\n",
       "      <td>37</td>\n",
       "      <td>ученая степень</td>\n",
       "      <td>4</td>\n",
       "      <td>в разводе</td>\n",
       "      <td>3</td>\n",
       "      <td>M</td>\n",
       "      <td>сотрудник</td>\n",
       "      <td>0</td>\n",
       "      <td>115949.039788</td>\n",
       "      <td>покупка коммерческой недвижимости</td>\n",
       "    </tr>\n",
       "    <tr>\n",
       "      <td>21520</td>\n",
       "      <td>1</td>\n",
       "      <td>-4529.316663</td>\n",
       "      <td>43</td>\n",
       "      <td>среднее</td>\n",
       "      <td>1</td>\n",
       "      <td>гражданский брак</td>\n",
       "      <td>1</td>\n",
       "      <td>F</td>\n",
       "      <td>компаньон</td>\n",
       "      <td>0</td>\n",
       "      <td>224791.862382</td>\n",
       "      <td>операции с жильем</td>\n",
       "    </tr>\n",
       "    <tr>\n",
       "      <td>21521</td>\n",
       "      <td>0</td>\n",
       "      <td>343937.404131</td>\n",
       "      <td>67</td>\n",
       "      <td>среднее</td>\n",
       "      <td>1</td>\n",
       "      <td>женат / замужем</td>\n",
       "      <td>0</td>\n",
       "      <td>F</td>\n",
       "      <td>пенсионер</td>\n",
       "      <td>0</td>\n",
       "      <td>155999.806512</td>\n",
       "      <td>сделка с автомобилем</td>\n",
       "    </tr>\n",
       "    <tr>\n",
       "      <td>21522</td>\n",
       "      <td>1</td>\n",
       "      <td>-2113.346888</td>\n",
       "      <td>38</td>\n",
       "      <td>среднее</td>\n",
       "      <td>1</td>\n",
       "      <td>гражданский брак</td>\n",
       "      <td>1</td>\n",
       "      <td>M</td>\n",
       "      <td>сотрудник</td>\n",
       "      <td>1</td>\n",
       "      <td>89672.561153</td>\n",
       "      <td>недвижимость</td>\n",
       "    </tr>\n",
       "    <tr>\n",
       "      <td>21523</td>\n",
       "      <td>3</td>\n",
       "      <td>-3112.481705</td>\n",
       "      <td>38</td>\n",
       "      <td>среднее</td>\n",
       "      <td>1</td>\n",
       "      <td>женат / замужем</td>\n",
       "      <td>0</td>\n",
       "      <td>M</td>\n",
       "      <td>сотрудник</td>\n",
       "      <td>1</td>\n",
       "      <td>244093.050500</td>\n",
       "      <td>на покупку своего автомобиля</td>\n",
       "    </tr>\n",
       "    <tr>\n",
       "      <td>21524</td>\n",
       "      <td>2</td>\n",
       "      <td>-1984.507589</td>\n",
       "      <td>40</td>\n",
       "      <td>среднее</td>\n",
       "      <td>1</td>\n",
       "      <td>женат / замужем</td>\n",
       "      <td>0</td>\n",
       "      <td>F</td>\n",
       "      <td>сотрудник</td>\n",
       "      <td>0</td>\n",
       "      <td>82047.418899</td>\n",
       "      <td>на покупку автомобиля</td>\n",
       "    </tr>\n",
       "  </tbody>\n",
       "</table>\n",
       "</div>"
      ],
      "text/plain": [
       "       children  days_employed  dob_years       education  education_id  \\\n",
       "21515         1    -467.685130         28         среднее             1   \n",
       "21516         0    -914.391429         42          высшее             0   \n",
       "21517         0    -404.679034         42          высшее             0   \n",
       "21518         0  373995.710838         59         СРЕДНЕЕ             1   \n",
       "21519         1   -2351.431934         37  ученая степень             4   \n",
       "21520         1   -4529.316663         43         среднее             1   \n",
       "21521         0  343937.404131         67         среднее             1   \n",
       "21522         1   -2113.346888         38         среднее             1   \n",
       "21523         3   -3112.481705         38         среднее             1   \n",
       "21524         2   -1984.507589         40         среднее             1   \n",
       "\n",
       "          family_status  family_status_id gender income_type  debt  \\\n",
       "21515   женат / замужем                 0      F   сотрудник     1   \n",
       "21516   женат / замужем                 0      F   компаньон     0   \n",
       "21517  гражданский брак                 1      F   компаньон     0   \n",
       "21518   женат / замужем                 0      F   пенсионер     0   \n",
       "21519         в разводе                 3      M   сотрудник     0   \n",
       "21520  гражданский брак                 1      F   компаньон     0   \n",
       "21521   женат / замужем                 0      F   пенсионер     0   \n",
       "21522  гражданский брак                 1      M   сотрудник     1   \n",
       "21523   женат / замужем                 0      M   сотрудник     1   \n",
       "21524   женат / замужем                 0      F   сотрудник     0   \n",
       "\n",
       "        total_income                            purpose  \n",
       "21515  109486.327999              заняться образованием  \n",
       "21516  322807.776603               покупка своего жилья  \n",
       "21517  178059.553491       на покупку своего автомобиля  \n",
       "21518  153864.650328               сделка с автомобилем  \n",
       "21519  115949.039788  покупка коммерческой недвижимости  \n",
       "21520  224791.862382                  операции с жильем  \n",
       "21521  155999.806512               сделка с автомобилем  \n",
       "21522   89672.561153                       недвижимость  \n",
       "21523  244093.050500       на покупку своего автомобиля  \n",
       "21524   82047.418899              на покупку автомобиля  "
      ]
     },
     "execution_count": 3,
     "metadata": {},
     "output_type": "execute_result"
    }
   ],
   "source": [
    "df.tail(10)#просматриваю последние 10 строк датасета"
   ]
  },
  {
   "cell_type": "code",
   "execution_count": 4,
   "metadata": {},
   "outputs": [
    {
     "data": {
      "text/html": [
       "<div>\n",
       "<style scoped>\n",
       "    .dataframe tbody tr th:only-of-type {\n",
       "        vertical-align: middle;\n",
       "    }\n",
       "\n",
       "    .dataframe tbody tr th {\n",
       "        vertical-align: top;\n",
       "    }\n",
       "\n",
       "    .dataframe thead th {\n",
       "        text-align: right;\n",
       "    }\n",
       "</style>\n",
       "<table border=\"1\" class=\"dataframe\">\n",
       "  <thead>\n",
       "    <tr style=\"text-align: right;\">\n",
       "      <th></th>\n",
       "      <th>children</th>\n",
       "      <th>days_employed</th>\n",
       "      <th>dob_years</th>\n",
       "      <th>education_id</th>\n",
       "      <th>family_status_id</th>\n",
       "      <th>debt</th>\n",
       "      <th>total_income</th>\n",
       "    </tr>\n",
       "  </thead>\n",
       "  <tbody>\n",
       "    <tr>\n",
       "      <td>count</td>\n",
       "      <td>21525.000000</td>\n",
       "      <td>19351.000000</td>\n",
       "      <td>21525.000000</td>\n",
       "      <td>21525.000000</td>\n",
       "      <td>21525.000000</td>\n",
       "      <td>21525.000000</td>\n",
       "      <td>1.935100e+04</td>\n",
       "    </tr>\n",
       "    <tr>\n",
       "      <td>mean</td>\n",
       "      <td>0.538908</td>\n",
       "      <td>63046.497661</td>\n",
       "      <td>43.293380</td>\n",
       "      <td>0.817236</td>\n",
       "      <td>0.972544</td>\n",
       "      <td>0.080883</td>\n",
       "      <td>1.674223e+05</td>\n",
       "    </tr>\n",
       "    <tr>\n",
       "      <td>std</td>\n",
       "      <td>1.381587</td>\n",
       "      <td>140827.311974</td>\n",
       "      <td>12.574584</td>\n",
       "      <td>0.548138</td>\n",
       "      <td>1.420324</td>\n",
       "      <td>0.272661</td>\n",
       "      <td>1.029716e+05</td>\n",
       "    </tr>\n",
       "    <tr>\n",
       "      <td>min</td>\n",
       "      <td>-1.000000</td>\n",
       "      <td>-18388.949901</td>\n",
       "      <td>0.000000</td>\n",
       "      <td>0.000000</td>\n",
       "      <td>0.000000</td>\n",
       "      <td>0.000000</td>\n",
       "      <td>2.066726e+04</td>\n",
       "    </tr>\n",
       "    <tr>\n",
       "      <td>25%</td>\n",
       "      <td>0.000000</td>\n",
       "      <td>-2747.423625</td>\n",
       "      <td>33.000000</td>\n",
       "      <td>1.000000</td>\n",
       "      <td>0.000000</td>\n",
       "      <td>0.000000</td>\n",
       "      <td>1.030532e+05</td>\n",
       "    </tr>\n",
       "    <tr>\n",
       "      <td>50%</td>\n",
       "      <td>0.000000</td>\n",
       "      <td>-1203.369529</td>\n",
       "      <td>42.000000</td>\n",
       "      <td>1.000000</td>\n",
       "      <td>0.000000</td>\n",
       "      <td>0.000000</td>\n",
       "      <td>1.450179e+05</td>\n",
       "    </tr>\n",
       "    <tr>\n",
       "      <td>75%</td>\n",
       "      <td>1.000000</td>\n",
       "      <td>-291.095954</td>\n",
       "      <td>53.000000</td>\n",
       "      <td>1.000000</td>\n",
       "      <td>1.000000</td>\n",
       "      <td>0.000000</td>\n",
       "      <td>2.034351e+05</td>\n",
       "    </tr>\n",
       "    <tr>\n",
       "      <td>max</td>\n",
       "      <td>20.000000</td>\n",
       "      <td>401755.400475</td>\n",
       "      <td>75.000000</td>\n",
       "      <td>4.000000</td>\n",
       "      <td>4.000000</td>\n",
       "      <td>1.000000</td>\n",
       "      <td>2.265604e+06</td>\n",
       "    </tr>\n",
       "  </tbody>\n",
       "</table>\n",
       "</div>"
      ],
      "text/plain": [
       "           children  days_employed     dob_years  education_id  \\\n",
       "count  21525.000000   19351.000000  21525.000000  21525.000000   \n",
       "mean       0.538908   63046.497661     43.293380      0.817236   \n",
       "std        1.381587  140827.311974     12.574584      0.548138   \n",
       "min       -1.000000  -18388.949901      0.000000      0.000000   \n",
       "25%        0.000000   -2747.423625     33.000000      1.000000   \n",
       "50%        0.000000   -1203.369529     42.000000      1.000000   \n",
       "75%        1.000000    -291.095954     53.000000      1.000000   \n",
       "max       20.000000  401755.400475     75.000000      4.000000   \n",
       "\n",
       "       family_status_id          debt  total_income  \n",
       "count      21525.000000  21525.000000  1.935100e+04  \n",
       "mean           0.972544      0.080883  1.674223e+05  \n",
       "std            1.420324      0.272661  1.029716e+05  \n",
       "min            0.000000      0.000000  2.066726e+04  \n",
       "25%            0.000000      0.000000  1.030532e+05  \n",
       "50%            0.000000      0.000000  1.450179e+05  \n",
       "75%            1.000000      0.000000  2.034351e+05  \n",
       "max            4.000000      1.000000  2.265604e+06  "
      ]
     },
     "execution_count": 4,
     "metadata": {},
     "output_type": "execute_result"
    }
   ],
   "source": [
    "df.describe()#просматриваю описательную статистику датасета"
   ]
  },
  {
   "cell_type": "markdown",
   "metadata": {},
   "source": [
    "<b>Наблюдения</b>\n",
    "<ul>\n",
    "    <li>В столбце <b>\"children\"</b> есть минимальное значение -1 (такого быть не может, а значит - ошибка). Предположу, что должно быть просто 1</li>\n",
    "    <li>Максимальное значение в столбце <b>\"children\"</b> - 20. Необходимо проверить, сколько всего таких строк имеется в датафрейме. Возможно здесь ошибка.</li>\n",
    "    <li>Отрицательные значения по количеству отработанных дней <b>\"days_employed\"</b>. Пока неочень понятно как так, но может нужно взять просто модуль</li>\n",
    "    <li>Среднее значение по количеству отработанных дней <b>\"days_employed\"</b> - 63046 дней (~173 года). Такого просто не может быть</li>\n",
    "    <li>По некоторым строкам возраст <b>\"dob_years\"</b> равен 0. Возможно, эти данные были пропущены, но при оформлении кредита обязательно должны заполнять такие поля</li>\n",
    "</ul>"
   ]
  },
  {
   "cell_type": "code",
   "execution_count": 5,
   "metadata": {},
   "outputs": [
    {
     "name": "stdout",
     "output_type": "stream",
     "text": [
      "<class 'pandas.core.frame.DataFrame'>\n",
      "RangeIndex: 21525 entries, 0 to 21524\n",
      "Data columns (total 12 columns):\n",
      "children            21525 non-null int64\n",
      "days_employed       19351 non-null float64\n",
      "dob_years           21525 non-null int64\n",
      "education           21525 non-null object\n",
      "education_id        21525 non-null int64\n",
      "family_status       21525 non-null object\n",
      "family_status_id    21525 non-null int64\n",
      "gender              21525 non-null object\n",
      "income_type         21525 non-null object\n",
      "debt                21525 non-null int64\n",
      "total_income        19351 non-null float64\n",
      "purpose             21525 non-null object\n",
      "dtypes: float64(2), int64(5), object(5)\n",
      "memory usage: 2.0+ MB\n"
     ]
    }
   ],
   "source": [
    "df.info() #просматриваю общую информацию о датасете"
   ]
  },
  {
   "cell_type": "markdown",
   "metadata": {},
   "source": [
    "<b>Наблюдения</b>\n",
    "<ul>\n",
    "    <li>Отсутствуют значения только в столбцах <b>\"days_employed\"</b> и <b>\"debt\"</b>.</li>\n",
    "    <li>Столбцам <b>\"days_employed\"</b> и <b>\"debt\"</b> стоит присвоить целочисленные значения. Так будет удобнее работать</li>\n",
    "</ul>"
   ]
  },
  {
   "cell_type": "markdown",
   "metadata": {},
   "source": [
    "## Шаг 2. Предобработка данных"
   ]
  },
  {
   "cell_type": "markdown",
   "metadata": {},
   "source": [
    "Переименую столбцы, чтобы названия колонок были понятнее и отображали суть"
   ]
  },
  {
   "cell_type": "code",
   "execution_count": 6,
   "metadata": {},
   "outputs": [],
   "source": [
    "df = df.rename(columns={'children' : 'number_of_children', 'dob_years' : 'client_age_in_years', 'debt':'credit_status', 'income_type':'employment_type', 'total_income':'monthly_income', 'purpose' : 'credit_purpose'})"
   ]
  },
  {
   "cell_type": "code",
   "execution_count": 7,
   "metadata": {},
   "outputs": [
    {
     "data": {
      "text/plain": [
       "Index(['number_of_children', 'days_employed', 'client_age_in_years',\n",
       "       'education', 'education_id', 'family_status', 'family_status_id',\n",
       "       'gender', 'employment_type', 'credit_status', 'monthly_income',\n",
       "       'credit_purpose'],\n",
       "      dtype='object')"
      ]
     },
     "execution_count": 7,
     "metadata": {},
     "output_type": "execute_result"
    }
   ],
   "source": [
    "df.columns #проверяю, что столбцы переименованы"
   ]
  },
  {
   "cell_type": "markdown",
   "metadata": {},
   "source": [
    "### Обработка пропусков"
   ]
  },
  {
   "cell_type": "code",
   "execution_count": 8,
   "metadata": {},
   "outputs": [
    {
     "data": {
      "text/plain": [
       "number_of_children        0\n",
       "days_employed          2174\n",
       "client_age_in_years       0\n",
       "education                 0\n",
       "education_id              0\n",
       "family_status             0\n",
       "family_status_id          0\n",
       "gender                    0\n",
       "employment_type           0\n",
       "credit_status             0\n",
       "monthly_income         2174\n",
       "credit_purpose            0\n",
       "dtype: int64"
      ]
     },
     "execution_count": 8,
     "metadata": {},
     "output_type": "execute_result"
    }
   ],
   "source": [
    "#посчитаем сумму по всем пропускам\n",
    "df.isnull().sum()"
   ]
  },
  {
   "cell_type": "markdown",
   "metadata": {},
   "source": [
    "**Вывод**\n",
    "Одинаковое количество пропусков в днях работы и в доходе в месяц. Возможно, произошла ошибка при выгрузке данных, либо эти люди никогда не работали."
   ]
  },
  {
   "cell_type": "code",
   "execution_count": 9,
   "metadata": {},
   "outputs": [],
   "source": [
    "# Заменим пропуски на нули, так как при подстановке среднего значения может повыситься шанс на кредит\n",
    "df['days_employed'] = df['days_employed'].fillna(0) \n",
    "df['monthly_income'] = df['monthly_income'].fillna(0)"
   ]
  },
  {
   "cell_type": "code",
   "execution_count": 10,
   "metadata": {
    "scrolled": true
   },
   "outputs": [
    {
     "data": {
      "text/plain": [
       "number_of_children     0\n",
       "days_employed          0\n",
       "client_age_in_years    0\n",
       "education              0\n",
       "education_id           0\n",
       "family_status          0\n",
       "family_status_id       0\n",
       "gender                 0\n",
       "employment_type        0\n",
       "credit_status          0\n",
       "monthly_income         0\n",
       "credit_purpose         0\n",
       "dtype: int64"
      ]
     },
     "execution_count": 10,
     "metadata": {},
     "output_type": "execute_result"
    }
   ],
   "source": [
    "df.isnull().sum()# Проверим замену"
   ]
  },
  {
   "cell_type": "code",
   "execution_count": 11,
   "metadata": {
    "scrolled": true
   },
   "outputs": [
    {
     "data": {
      "text/plain": [
       "15"
      ]
     },
     "execution_count": 11,
     "metadata": {},
     "output_type": "execute_result"
    }
   ],
   "source": [
    "# Разберемся с образованием\n",
    "len(df['education'].unique())"
   ]
  },
  {
   "cell_type": "code",
   "execution_count": 12,
   "metadata": {},
   "outputs": [
    {
     "data": {
      "text/plain": [
       "array([0, 1, 2, 3, 4])"
      ]
     },
     "execution_count": 12,
     "metadata": {},
     "output_type": "execute_result"
    }
   ],
   "source": [
    "df['education_id'].unique()"
   ]
  },
  {
   "cell_type": "markdown",
   "metadata": {},
   "source": [
    "Видим, что уровней образования 15, а id всего 5. Посмотрим, что не так"
   ]
  },
  {
   "cell_type": "code",
   "execution_count": 13,
   "metadata": {},
   "outputs": [
    {
     "data": {
      "text/plain": [
       "array(['высшее', 'среднее', 'Среднее', 'СРЕДНЕЕ', 'ВЫСШЕЕ',\n",
       "       'неоконченное высшее', 'начальное', 'Высшее',\n",
       "       'НЕОКОНЧЕННОЕ ВЫСШЕЕ', 'Неоконченное высшее', 'НАЧАЛЬНОЕ',\n",
       "       'Начальное', 'Ученая степень', 'УЧЕНАЯ СТЕПЕНЬ', 'ученая степень'],\n",
       "      dtype=object)"
      ]
     },
     "execution_count": 13,
     "metadata": {},
     "output_type": "execute_result"
    }
   ],
   "source": [
    "df['education'].unique()#получаем набор уникальных значений в столбце education"
   ]
  },
  {
   "cell_type": "markdown",
   "metadata": {},
   "source": [
    "Теперь всё понятно. Значения записаны в разном регистре. Исправим это"
   ]
  },
  {
   "cell_type": "code",
   "execution_count": 14,
   "metadata": {},
   "outputs": [],
   "source": [
    "# Значения из столбца \"образование\" запишем в едином стиле (в low-индекс)\n",
    "df['education'] = df['education'].str.lower()"
   ]
  },
  {
   "cell_type": "code",
   "execution_count": 15,
   "metadata": {},
   "outputs": [
    {
     "data": {
      "text/plain": [
       "array(['высшее', 'среднее', 'неоконченное высшее', 'начальное',\n",
       "       'ученая степень'], dtype=object)"
      ]
     },
     "execution_count": 15,
     "metadata": {},
     "output_type": "execute_result"
    }
   ],
   "source": [
    "df['education'].unique()#проверяем набор уникальных значений в столбце education"
   ]
  },
  {
   "cell_type": "markdown",
   "metadata": {},
   "source": [
    "Теперь количество уникальных значений соответствует количеству id"
   ]
  },
  {
   "cell_type": "code",
   "execution_count": 16,
   "metadata": {},
   "outputs": [
    {
     "data": {
      "text/plain": [
       "array([ 1,  0,  3,  2, -1,  4, 20,  5])"
      ]
     },
     "execution_count": 16,
     "metadata": {},
     "output_type": "execute_result"
    }
   ],
   "source": [
    "# Посмотрим что с детьми\n",
    "df['number_of_children'].unique()"
   ]
  },
  {
   "cell_type": "markdown",
   "metadata": {},
   "source": [
    "-1 и 20 явно выбиваются из остальных данных. Нужно это проверить"
   ]
  },
  {
   "cell_type": "code",
   "execution_count": 17,
   "metadata": {},
   "outputs": [
    {
     "data": {
      "text/plain": [
       "47"
      ]
     },
     "execution_count": 17,
     "metadata": {},
     "output_type": "execute_result"
    }
   ],
   "source": [
    "# Подсчитаем кол-во строк со значением -1\n",
    "df[df['number_of_children'] == -1]['number_of_children'].count()"
   ]
  },
  {
   "cell_type": "code",
   "execution_count": 18,
   "metadata": {},
   "outputs": [],
   "source": [
    "# Заменим -1 на 1\n",
    "df['number_of_children'] = df['number_of_children'].replace(-1, 1)"
   ]
  },
  {
   "cell_type": "code",
   "execution_count": 19,
   "metadata": {},
   "outputs": [
    {
     "data": {
      "text/plain": [
       "0"
      ]
     },
     "execution_count": 19,
     "metadata": {},
     "output_type": "execute_result"
    }
   ],
   "source": [
    "# Проверим, сработала ли замена. Снова подсчитаем кол-во строк со значением -1\n",
    "df[df['number_of_children'] == -1]['number_of_children'].count()"
   ]
  },
  {
   "cell_type": "markdown",
   "metadata": {},
   "source": [
    "Отлично. Замена -1 сработала. Теперь необходимо разобраться со значение 20 (может быть такое действительно возможно)"
   ]
  },
  {
   "cell_type": "markdown",
   "metadata": {},
   "source": []
  },
  {
   "cell_type": "code",
   "execution_count": 20,
   "metadata": {},
   "outputs": [
    {
     "data": {
      "text/plain": [
       "76"
      ]
     },
     "execution_count": 20,
     "metadata": {},
     "output_type": "execute_result"
    }
   ],
   "source": [
    "# Подсчитаем количество строк с 20 детьми\n",
    "df[df['number_of_children'] == 20]['number_of_children'].count()"
   ]
  },
  {
   "cell_type": "markdown",
   "metadata": {},
   "source": [
    "Да, в данных явно есть какая-то ошибка. Возможно тех. ошибка при выгрузке данных"
   ]
  },
  {
   "cell_type": "code",
   "execution_count": 21,
   "metadata": {},
   "outputs": [
    {
     "data": {
      "text/plain": [
       "client_age_in_years\n",
       "0     1\n",
       "21    1\n",
       "23    1\n",
       "24    1\n",
       "25    1\n",
       "26    1\n",
       "27    2\n",
       "29    2\n",
       "30    3\n",
       "31    2\n",
       "32    2\n",
       "33    2\n",
       "34    3\n",
       "35    2\n",
       "36    2\n",
       "37    4\n",
       "38    1\n",
       "39    1\n",
       "40    4\n",
       "41    2\n",
       "42    3\n",
       "43    2\n",
       "44    2\n",
       "45    3\n",
       "46    3\n",
       "48    1\n",
       "49    3\n",
       "50    3\n",
       "51    1\n",
       "52    1\n",
       "53    1\n",
       "54    1\n",
       "55    1\n",
       "56    5\n",
       "57    1\n",
       "59    2\n",
       "60    1\n",
       "61    1\n",
       "62    1\n",
       "64    1\n",
       "69    1\n",
       "Name: client_age_in_years, dtype: int64"
      ]
     },
     "execution_count": 21,
     "metadata": {},
     "output_type": "execute_result"
    }
   ],
   "source": [
    "#сгруппируем по возрасту, чтобы убедиться в корректности данных\n",
    "df[df['number_of_children'] == 20].groupby('client_age_in_years')['client_age_in_years'].count()"
   ]
  },
  {
   "cell_type": "code",
   "execution_count": 22,
   "metadata": {
    "scrolled": true
   },
   "outputs": [
    {
     "data": {
      "text/plain": [
       "0     14149\n",
       "1      4865\n",
       "2      2055\n",
       "3       330\n",
       "20       76\n",
       "4        41\n",
       "5         9\n",
       "Name: number_of_children, dtype: int64"
      ]
     },
     "execution_count": 22,
     "metadata": {},
     "output_type": "execute_result"
    }
   ],
   "source": [
    "df['number_of_children'].value_counts()#Найдем все уникальные значения столбца number_of_children и их кол-ва"
   ]
  },
  {
   "cell_type": "markdown",
   "metadata": {},
   "source": [
    "Выглядит всё таки странно. Предполагаю, что это ошибка, и должно быть значение 2. Заменяю 20 на 2."
   ]
  },
  {
   "cell_type": "code",
   "execution_count": 23,
   "metadata": {},
   "outputs": [],
   "source": [
    "df['number_of_children'] = df['number_of_children'].replace(20, 2)"
   ]
  },
  {
   "cell_type": "code",
   "execution_count": 24,
   "metadata": {},
   "outputs": [
    {
     "data": {
      "text/plain": [
       "array([1, 0, 3, 2, 4, 5])"
      ]
     },
     "execution_count": 24,
     "metadata": {},
     "output_type": "execute_result"
    }
   ],
   "source": [
    "#проверяем\n",
    "df['number_of_children'].unique()"
   ]
  },
  {
   "cell_type": "markdown",
   "metadata": {},
   "source": [
    "Теперь проверю столбец с семейным статусом **family_status**"
   ]
  },
  {
   "cell_type": "code",
   "execution_count": 25,
   "metadata": {
    "scrolled": true
   },
   "outputs": [
    {
     "data": {
      "text/plain": [
       "array(['женат / замужем', 'гражданский брак', 'вдовец / вдова',\n",
       "       'в разводе', 'Не женат / не замужем'], dtype=object)"
      ]
     },
     "execution_count": 25,
     "metadata": {},
     "output_type": "execute_result"
    }
   ],
   "source": [
    "df['family_status'].unique()"
   ]
  },
  {
   "cell_type": "code",
   "execution_count": 26,
   "metadata": {},
   "outputs": [
    {
     "data": {
      "text/plain": [
       "array([0, 1, 2, 3, 4])"
      ]
     },
     "execution_count": 26,
     "metadata": {},
     "output_type": "execute_result"
    }
   ],
   "source": [
    "df['family_status_id'].unique()"
   ]
  },
  {
   "cell_type": "markdown",
   "metadata": {},
   "source": [
    "Количество уникальных значений семейного статуса и id совпадают. Но в столбце family_status необходимо перевести данные в нижний регистр"
   ]
  },
  {
   "cell_type": "code",
   "execution_count": 27,
   "metadata": {},
   "outputs": [],
   "source": [
    "# Значения из столбца \"семейный статус\" запишем в едином стиле (в low-индекс)\n",
    "df['family_status'] = df['family_status'].str.lower()"
   ]
  },
  {
   "cell_type": "code",
   "execution_count": 28,
   "metadata": {},
   "outputs": [
    {
     "data": {
      "text/plain": [
       "array(['женат / замужем', 'гражданский брак', 'вдовец / вдова',\n",
       "       'в разводе', 'не женат / не замужем'], dtype=object)"
      ]
     },
     "execution_count": 28,
     "metadata": {},
     "output_type": "execute_result"
    }
   ],
   "source": [
    "#проверяем\n",
    "df['family_status'].unique()"
   ]
  },
  {
   "cell_type": "code",
   "execution_count": 29,
   "metadata": {},
   "outputs": [
    {
     "data": {
      "text/plain": [
       "array(['F', 'M', 'XNA'], dtype=object)"
      ]
     },
     "execution_count": 29,
     "metadata": {},
     "output_type": "execute_result"
    }
   ],
   "source": [
    "#Теперь посмотрим, что с полом\n",
    "df['gender'].unique()"
   ]
  },
  {
   "cell_type": "markdown",
   "metadata": {},
   "source": [
    "Кроме женского и мужского есть что-то непонятное XNA"
   ]
  },
  {
   "cell_type": "code",
   "execution_count": 30,
   "metadata": {},
   "outputs": [
    {
     "data": {
      "text/plain": [
       "number_of_children     1\n",
       "days_employed          1\n",
       "client_age_in_years    1\n",
       "education              1\n",
       "education_id           1\n",
       "family_status          1\n",
       "family_status_id       1\n",
       "gender                 1\n",
       "employment_type        1\n",
       "credit_status          1\n",
       "monthly_income         1\n",
       "credit_purpose         1\n",
       "dtype: int64"
      ]
     },
     "execution_count": 30,
     "metadata": {},
     "output_type": "execute_result"
    }
   ],
   "source": [
    "#Посчитаем кол-во строк, в которых есть этот странный пол\n",
    "df[df['gender'] == 'XNA'].count()"
   ]
  },
  {
   "cell_type": "markdown",
   "metadata": {},
   "source": [
    "Возможно, человек действительно относит себя к такому полу. Оставлю, как есть и не буду ничего заменять (толерантность :) ). Это никак не повлияет на результат исследования."
   ]
  },
  {
   "cell_type": "code",
   "execution_count": 31,
   "metadata": {},
   "outputs": [
    {
     "data": {
      "text/plain": [
       "array(['сотрудник', 'пенсионер', 'компаньон', 'госслужащий',\n",
       "       'безработный', 'предприниматель', 'студент', 'в декрете'],\n",
       "      dtype=object)"
      ]
     },
     "execution_count": 31,
     "metadata": {},
     "output_type": "execute_result"
    }
   ],
   "source": [
    "#Посмотрим на столбец с типом занятости \"employment_type\"\n",
    "df['employment_type'].unique()"
   ]
  },
  {
   "cell_type": "markdown",
   "metadata": {},
   "source": [
    "Тут, вроде, всё хорошо"
   ]
  },
  {
   "cell_type": "code",
   "execution_count": 32,
   "metadata": {},
   "outputs": [
    {
     "data": {
      "text/plain": [
       "count    21525.000000\n",
       "mean        43.293380\n",
       "std         12.574584\n",
       "min          0.000000\n",
       "25%         33.000000\n",
       "50%         42.000000\n",
       "75%         53.000000\n",
       "max         75.000000\n",
       "Name: client_age_in_years, dtype: float64"
      ]
     },
     "execution_count": 32,
     "metadata": {},
     "output_type": "execute_result"
    }
   ],
   "source": [
    "# Разберемся с возрастом\n",
    "df['client_age_in_years'].describe()"
   ]
  },
  {
   "cell_type": "code",
   "execution_count": 33,
   "metadata": {},
   "outputs": [
    {
     "name": "stdout",
     "output_type": "stream",
     "text": [
      "Количество строк с возрастом 0 - 101\n",
      "Количество строк с возрастом < 18 - 101\n"
     ]
    }
   ],
   "source": [
    "# смотрим количество нулей по возрасту (столбец 'dob_years') и количество несовершеннолетних\n",
    "print(\"Количество строк с возрастом 0 -\", df[df['client_age_in_years'] == 0].count()[0])\n",
    "print(\"Количество строк с возрастом < 18 -\", df[df['client_age_in_years'] < 18].count()[0])"
   ]
  },
  {
   "cell_type": "markdown",
   "metadata": {},
   "source": [
    "Количество совпадает, следовательно, это одни и те же люди. Заменим 0 на среднее значение для каждой группы (по типу занятости)"
   ]
  },
  {
   "cell_type": "code",
   "execution_count": 34,
   "metadata": {},
   "outputs": [],
   "source": [
    "df['client_age_in_years'] = df.groupby('employment_type')['client_age_in_years'].transform(lambda x: x.replace(0, int(x.mean())))"
   ]
  },
  {
   "cell_type": "code",
   "execution_count": 35,
   "metadata": {},
   "outputs": [
    {
     "name": "stdout",
     "output_type": "stream",
     "text": [
      "Количество строк с возрастом 0 - 0\n"
     ]
    }
   ],
   "source": [
    "#проверим, что замена прошла успешно\n",
    "print(\"Количество строк с возрастом 0 -\", df[df['client_age_in_years'] == 0].count()[0])"
   ]
  },
  {
   "cell_type": "markdown",
   "metadata": {},
   "source": [
    "Теперь необходимо разобраться со столбцом **days_employed** (трудовой стаж в днях)."
   ]
  },
  {
   "cell_type": "code",
   "execution_count": 36,
   "metadata": {},
   "outputs": [
    {
     "data": {
      "text/plain": [
       "count     21525.000000\n",
       "mean      56678.874622\n",
       "std      134870.763085\n",
       "min      -18388.949901\n",
       "25%       -2518.168900\n",
       "50%        -982.531720\n",
       "75%           0.000000\n",
       "max      401755.400475\n",
       "Name: days_employed, dtype: float64"
      ]
     },
     "execution_count": 36,
     "metadata": {},
     "output_type": "execute_result"
    }
   ],
   "source": [
    "df['days_employed'].describe()"
   ]
  },
  {
   "cell_type": "code",
   "execution_count": 37,
   "metadata": {},
   "outputs": [],
   "source": [
    "#для начала стоит разобраться с отрицательными значениями\n",
    "df['days_employed'] = df['days_employed'].abs()"
   ]
  },
  {
   "cell_type": "code",
   "execution_count": 38,
   "metadata": {},
   "outputs": [
    {
     "data": {
      "text/plain": [
       "count     21525.000000\n",
       "mean      60156.419005\n",
       "std      133355.929525\n",
       "min           0.000000\n",
       "25%         610.652074\n",
       "50%        1808.053434\n",
       "75%        4779.587738\n",
       "max      401755.400475\n",
       "Name: days_employed, dtype: float64"
      ]
     },
     "execution_count": 38,
     "metadata": {},
     "output_type": "execute_result"
    }
   ],
   "source": [
    "df['days_employed'].describe()#проверяем"
   ]
  },
  {
   "cell_type": "markdown",
   "metadata": {},
   "source": [
    "Теперь удобнее работать с данными. Значение максимум смущает. Слишком большой стаж. Необходимо проверить."
   ]
  },
  {
   "cell_type": "code",
   "execution_count": 39,
   "metadata": {},
   "outputs": [
    {
     "data": {
      "text/plain": [
       "21535"
      ]
     },
     "execution_count": 39,
     "metadata": {},
     "output_type": "execute_result"
    }
   ],
   "source": [
    "#считаю, что официальное трудоустройство разрешено с 16 лет\n",
    "#нахожу самого старшего человека в наборе\n",
    "max_days_of_employment = (df['client_age_in_years'].max() - 16) * 365\n",
    "max_days_of_employment # Получим количество дней, по которым можно сделать отсев"
   ]
  },
  {
   "cell_type": "markdown",
   "metadata": {},
   "source": [
    "Самый великовозрастный человек проработал 21535 дней. Это значение на порядок меньше максимального в столбце. Найду долю таких странных максимальных значений в столбце \"days_employed\""
   ]
  },
  {
   "cell_type": "code",
   "execution_count": 40,
   "metadata": {},
   "outputs": [
    {
     "data": {
      "text/plain": [
       "16.004645760743323"
      ]
     },
     "execution_count": 40,
     "metadata": {},
     "output_type": "execute_result"
    }
   ],
   "source": [
    "df[df['days_employed'] > max_days_of_employment]['days_employed'].count() / df['days_employed'].count() * 100"
   ]
  },
  {
   "cell_type": "markdown",
   "metadata": {},
   "source": [
    "16% от всего набора. Это немало. Переведу значения в года и добавлю новый столбец. Так будет убодней работать, и вряд ли люди знают, сколько дней они проработали. В годах считать удобней"
   ]
  },
  {
   "cell_type": "code",
   "execution_count": 41,
   "metadata": {},
   "outputs": [],
   "source": [
    "df['years_employed'] = df['days_employed'] / 365"
   ]
  },
  {
   "cell_type": "code",
   "execution_count": 42,
   "metadata": {},
   "outputs": [
    {
     "data": {
      "text/html": [
       "<div>\n",
       "<style scoped>\n",
       "    .dataframe tbody tr th:only-of-type {\n",
       "        vertical-align: middle;\n",
       "    }\n",
       "\n",
       "    .dataframe tbody tr th {\n",
       "        vertical-align: top;\n",
       "    }\n",
       "\n",
       "    .dataframe thead th {\n",
       "        text-align: right;\n",
       "    }\n",
       "</style>\n",
       "<table border=\"1\" class=\"dataframe\">\n",
       "  <thead>\n",
       "    <tr style=\"text-align: right;\">\n",
       "      <th></th>\n",
       "      <th>number_of_children</th>\n",
       "      <th>days_employed</th>\n",
       "      <th>client_age_in_years</th>\n",
       "      <th>education</th>\n",
       "      <th>education_id</th>\n",
       "      <th>family_status</th>\n",
       "      <th>family_status_id</th>\n",
       "      <th>gender</th>\n",
       "      <th>employment_type</th>\n",
       "      <th>credit_status</th>\n",
       "      <th>monthly_income</th>\n",
       "      <th>credit_purpose</th>\n",
       "      <th>years_employed</th>\n",
       "    </tr>\n",
       "  </thead>\n",
       "  <tbody>\n",
       "    <tr>\n",
       "      <td>0</td>\n",
       "      <td>1</td>\n",
       "      <td>8437.673028</td>\n",
       "      <td>42</td>\n",
       "      <td>высшее</td>\n",
       "      <td>0</td>\n",
       "      <td>женат / замужем</td>\n",
       "      <td>0</td>\n",
       "      <td>F</td>\n",
       "      <td>сотрудник</td>\n",
       "      <td>0</td>\n",
       "      <td>253875.639453</td>\n",
       "      <td>покупка жилья</td>\n",
       "      <td>23.116912</td>\n",
       "    </tr>\n",
       "    <tr>\n",
       "      <td>1</td>\n",
       "      <td>1</td>\n",
       "      <td>4024.803754</td>\n",
       "      <td>36</td>\n",
       "      <td>среднее</td>\n",
       "      <td>1</td>\n",
       "      <td>женат / замужем</td>\n",
       "      <td>0</td>\n",
       "      <td>F</td>\n",
       "      <td>сотрудник</td>\n",
       "      <td>0</td>\n",
       "      <td>112080.014102</td>\n",
       "      <td>приобретение автомобиля</td>\n",
       "      <td>11.026860</td>\n",
       "    </tr>\n",
       "    <tr>\n",
       "      <td>2</td>\n",
       "      <td>0</td>\n",
       "      <td>5623.422610</td>\n",
       "      <td>33</td>\n",
       "      <td>среднее</td>\n",
       "      <td>1</td>\n",
       "      <td>женат / замужем</td>\n",
       "      <td>0</td>\n",
       "      <td>M</td>\n",
       "      <td>сотрудник</td>\n",
       "      <td>0</td>\n",
       "      <td>145885.952297</td>\n",
       "      <td>покупка жилья</td>\n",
       "      <td>15.406637</td>\n",
       "    </tr>\n",
       "    <tr>\n",
       "      <td>3</td>\n",
       "      <td>3</td>\n",
       "      <td>4124.747207</td>\n",
       "      <td>32</td>\n",
       "      <td>среднее</td>\n",
       "      <td>1</td>\n",
       "      <td>женат / замужем</td>\n",
       "      <td>0</td>\n",
       "      <td>M</td>\n",
       "      <td>сотрудник</td>\n",
       "      <td>0</td>\n",
       "      <td>267628.550329</td>\n",
       "      <td>дополнительное образование</td>\n",
       "      <td>11.300677</td>\n",
       "    </tr>\n",
       "    <tr>\n",
       "      <td>4</td>\n",
       "      <td>0</td>\n",
       "      <td>340266.072047</td>\n",
       "      <td>53</td>\n",
       "      <td>среднее</td>\n",
       "      <td>1</td>\n",
       "      <td>гражданский брак</td>\n",
       "      <td>1</td>\n",
       "      <td>F</td>\n",
       "      <td>пенсионер</td>\n",
       "      <td>0</td>\n",
       "      <td>158616.077870</td>\n",
       "      <td>сыграть свадьбу</td>\n",
       "      <td>932.235814</td>\n",
       "    </tr>\n",
       "    <tr>\n",
       "      <td>5</td>\n",
       "      <td>0</td>\n",
       "      <td>926.185831</td>\n",
       "      <td>27</td>\n",
       "      <td>высшее</td>\n",
       "      <td>0</td>\n",
       "      <td>гражданский брак</td>\n",
       "      <td>1</td>\n",
       "      <td>M</td>\n",
       "      <td>компаньон</td>\n",
       "      <td>0</td>\n",
       "      <td>255763.565419</td>\n",
       "      <td>покупка жилья</td>\n",
       "      <td>2.537495</td>\n",
       "    </tr>\n",
       "    <tr>\n",
       "      <td>6</td>\n",
       "      <td>0</td>\n",
       "      <td>2879.202052</td>\n",
       "      <td>43</td>\n",
       "      <td>высшее</td>\n",
       "      <td>0</td>\n",
       "      <td>женат / замужем</td>\n",
       "      <td>0</td>\n",
       "      <td>F</td>\n",
       "      <td>компаньон</td>\n",
       "      <td>0</td>\n",
       "      <td>240525.971920</td>\n",
       "      <td>операции с жильем</td>\n",
       "      <td>7.888225</td>\n",
       "    </tr>\n",
       "    <tr>\n",
       "      <td>7</td>\n",
       "      <td>0</td>\n",
       "      <td>152.779569</td>\n",
       "      <td>50</td>\n",
       "      <td>среднее</td>\n",
       "      <td>1</td>\n",
       "      <td>женат / замужем</td>\n",
       "      <td>0</td>\n",
       "      <td>M</td>\n",
       "      <td>сотрудник</td>\n",
       "      <td>0</td>\n",
       "      <td>135823.934197</td>\n",
       "      <td>образование</td>\n",
       "      <td>0.418574</td>\n",
       "    </tr>\n",
       "    <tr>\n",
       "      <td>8</td>\n",
       "      <td>2</td>\n",
       "      <td>6929.865299</td>\n",
       "      <td>35</td>\n",
       "      <td>высшее</td>\n",
       "      <td>0</td>\n",
       "      <td>гражданский брак</td>\n",
       "      <td>1</td>\n",
       "      <td>F</td>\n",
       "      <td>сотрудник</td>\n",
       "      <td>0</td>\n",
       "      <td>95856.832424</td>\n",
       "      <td>на проведение свадьбы</td>\n",
       "      <td>18.985932</td>\n",
       "    </tr>\n",
       "    <tr>\n",
       "      <td>9</td>\n",
       "      <td>0</td>\n",
       "      <td>2188.756445</td>\n",
       "      <td>41</td>\n",
       "      <td>среднее</td>\n",
       "      <td>1</td>\n",
       "      <td>женат / замужем</td>\n",
       "      <td>0</td>\n",
       "      <td>M</td>\n",
       "      <td>сотрудник</td>\n",
       "      <td>0</td>\n",
       "      <td>144425.938277</td>\n",
       "      <td>покупка жилья для семьи</td>\n",
       "      <td>5.996593</td>\n",
       "    </tr>\n",
       "    <tr>\n",
       "      <td>10</td>\n",
       "      <td>2</td>\n",
       "      <td>4171.483647</td>\n",
       "      <td>36</td>\n",
       "      <td>высшее</td>\n",
       "      <td>0</td>\n",
       "      <td>женат / замужем</td>\n",
       "      <td>0</td>\n",
       "      <td>M</td>\n",
       "      <td>компаньон</td>\n",
       "      <td>0</td>\n",
       "      <td>113943.491460</td>\n",
       "      <td>покупка недвижимости</td>\n",
       "      <td>11.428722</td>\n",
       "    </tr>\n",
       "    <tr>\n",
       "      <td>11</td>\n",
       "      <td>0</td>\n",
       "      <td>792.701887</td>\n",
       "      <td>40</td>\n",
       "      <td>среднее</td>\n",
       "      <td>1</td>\n",
       "      <td>женат / замужем</td>\n",
       "      <td>0</td>\n",
       "      <td>F</td>\n",
       "      <td>сотрудник</td>\n",
       "      <td>0</td>\n",
       "      <td>77069.234271</td>\n",
       "      <td>покупка коммерческой недвижимости</td>\n",
       "      <td>2.171786</td>\n",
       "    </tr>\n",
       "    <tr>\n",
       "      <td>12</td>\n",
       "      <td>0</td>\n",
       "      <td>0.000000</td>\n",
       "      <td>65</td>\n",
       "      <td>среднее</td>\n",
       "      <td>1</td>\n",
       "      <td>гражданский брак</td>\n",
       "      <td>1</td>\n",
       "      <td>M</td>\n",
       "      <td>пенсионер</td>\n",
       "      <td>0</td>\n",
       "      <td>0.000000</td>\n",
       "      <td>сыграть свадьбу</td>\n",
       "      <td>0.000000</td>\n",
       "    </tr>\n",
       "    <tr>\n",
       "      <td>13</td>\n",
       "      <td>0</td>\n",
       "      <td>1846.641941</td>\n",
       "      <td>54</td>\n",
       "      <td>неоконченное высшее</td>\n",
       "      <td>2</td>\n",
       "      <td>женат / замужем</td>\n",
       "      <td>0</td>\n",
       "      <td>F</td>\n",
       "      <td>сотрудник</td>\n",
       "      <td>0</td>\n",
       "      <td>130458.228857</td>\n",
       "      <td>приобретение автомобиля</td>\n",
       "      <td>5.059293</td>\n",
       "    </tr>\n",
       "    <tr>\n",
       "      <td>14</td>\n",
       "      <td>0</td>\n",
       "      <td>1844.956182</td>\n",
       "      <td>56</td>\n",
       "      <td>высшее</td>\n",
       "      <td>0</td>\n",
       "      <td>гражданский брак</td>\n",
       "      <td>1</td>\n",
       "      <td>F</td>\n",
       "      <td>компаньон</td>\n",
       "      <td>1</td>\n",
       "      <td>165127.911772</td>\n",
       "      <td>покупка жилой недвижимости</td>\n",
       "      <td>5.054674</td>\n",
       "    </tr>\n",
       "  </tbody>\n",
       "</table>\n",
       "</div>"
      ],
      "text/plain": [
       "    number_of_children  days_employed  client_age_in_years  \\\n",
       "0                    1    8437.673028                   42   \n",
       "1                    1    4024.803754                   36   \n",
       "2                    0    5623.422610                   33   \n",
       "3                    3    4124.747207                   32   \n",
       "4                    0  340266.072047                   53   \n",
       "5                    0     926.185831                   27   \n",
       "6                    0    2879.202052                   43   \n",
       "7                    0     152.779569                   50   \n",
       "8                    2    6929.865299                   35   \n",
       "9                    0    2188.756445                   41   \n",
       "10                   2    4171.483647                   36   \n",
       "11                   0     792.701887                   40   \n",
       "12                   0       0.000000                   65   \n",
       "13                   0    1846.641941                   54   \n",
       "14                   0    1844.956182                   56   \n",
       "\n",
       "              education  education_id     family_status  family_status_id  \\\n",
       "0                высшее             0   женат / замужем                 0   \n",
       "1               среднее             1   женат / замужем                 0   \n",
       "2               среднее             1   женат / замужем                 0   \n",
       "3               среднее             1   женат / замужем                 0   \n",
       "4               среднее             1  гражданский брак                 1   \n",
       "5                высшее             0  гражданский брак                 1   \n",
       "6                высшее             0   женат / замужем                 0   \n",
       "7               среднее             1   женат / замужем                 0   \n",
       "8                высшее             0  гражданский брак                 1   \n",
       "9               среднее             1   женат / замужем                 0   \n",
       "10               высшее             0   женат / замужем                 0   \n",
       "11              среднее             1   женат / замужем                 0   \n",
       "12              среднее             1  гражданский брак                 1   \n",
       "13  неоконченное высшее             2   женат / замужем                 0   \n",
       "14               высшее             0  гражданский брак                 1   \n",
       "\n",
       "   gender employment_type  credit_status  monthly_income  \\\n",
       "0       F       сотрудник              0   253875.639453   \n",
       "1       F       сотрудник              0   112080.014102   \n",
       "2       M       сотрудник              0   145885.952297   \n",
       "3       M       сотрудник              0   267628.550329   \n",
       "4       F       пенсионер              0   158616.077870   \n",
       "5       M       компаньон              0   255763.565419   \n",
       "6       F       компаньон              0   240525.971920   \n",
       "7       M       сотрудник              0   135823.934197   \n",
       "8       F       сотрудник              0    95856.832424   \n",
       "9       M       сотрудник              0   144425.938277   \n",
       "10      M       компаньон              0   113943.491460   \n",
       "11      F       сотрудник              0    77069.234271   \n",
       "12      M       пенсионер              0        0.000000   \n",
       "13      F       сотрудник              0   130458.228857   \n",
       "14      F       компаньон              1   165127.911772   \n",
       "\n",
       "                       credit_purpose  years_employed  \n",
       "0                       покупка жилья       23.116912  \n",
       "1             приобретение автомобиля       11.026860  \n",
       "2                       покупка жилья       15.406637  \n",
       "3          дополнительное образование       11.300677  \n",
       "4                     сыграть свадьбу      932.235814  \n",
       "5                       покупка жилья        2.537495  \n",
       "6                   операции с жильем        7.888225  \n",
       "7                         образование        0.418574  \n",
       "8               на проведение свадьбы       18.985932  \n",
       "9             покупка жилья для семьи        5.996593  \n",
       "10               покупка недвижимости       11.428722  \n",
       "11  покупка коммерческой недвижимости        2.171786  \n",
       "12                    сыграть свадьбу        0.000000  \n",
       "13            приобретение автомобиля        5.059293  \n",
       "14         покупка жилой недвижимости        5.054674  "
      ]
     },
     "execution_count": 42,
     "metadata": {},
     "output_type": "execute_result"
    }
   ],
   "source": [
    "df.head(15)"
   ]
  },
  {
   "cell_type": "markdown",
   "metadata": {},
   "source": [
    "### Замена типа данных"
   ]
  },
  {
   "cell_type": "markdown",
   "metadata": {},
   "source": [
    "Используем функцию astype, т.к. столбцы у нас имеют чистый формат 'float64', то есть перевод в 'int' будет безопасным."
   ]
  },
  {
   "cell_type": "code",
   "execution_count": 43,
   "metadata": {},
   "outputs": [],
   "source": [
    "#Месячную зарплату monthly_income, стаж в днях days_employed и стаж в годах years_employed переводим в int.\n",
    "df['days_employed'] = df['days_employed'].astype('int')\n",
    "df['years_employed'] = df['years_employed'].astype('int')\n",
    "df['monthly_income'] = df['monthly_income'].astype('int')"
   ]
  },
  {
   "cell_type": "code",
   "execution_count": 44,
   "metadata": {},
   "outputs": [
    {
     "data": {
      "text/plain": [
       "number_of_children      int64\n",
       "days_employed           int64\n",
       "client_age_in_years     int64\n",
       "education              object\n",
       "education_id            int64\n",
       "family_status          object\n",
       "family_status_id        int64\n",
       "gender                 object\n",
       "employment_type        object\n",
       "credit_status           int64\n",
       "monthly_income          int64\n",
       "credit_purpose         object\n",
       "years_employed          int64\n",
       "dtype: object"
      ]
     },
     "execution_count": 44,
     "metadata": {},
     "output_type": "execute_result"
    }
   ],
   "source": [
    "df.dtypes #выводим информацию о типах данных в таблице"
   ]
  },
  {
   "cell_type": "markdown",
   "metadata": {},
   "source": [
    "**Вывод** Все данные датасета представлены в удобном формате. Месячную зарплату, стаж в днях и стаж в годах перевели в 'int', чтобы видеть целочисленные значения. Остальные типы данных везде выглядят хорошо"
   ]
  },
  {
   "cell_type": "markdown",
   "metadata": {},
   "source": []
  },
  {
   "cell_type": "markdown",
   "metadata": {},
   "source": [
    "### Обработка дубликатов"
   ]
  },
  {
   "cell_type": "markdown",
   "metadata": {},
   "source": [
    "Используем стандартный метод \"duplicated()\", выводим суммарное количество дубликатов по датафрейму"
   ]
  },
  {
   "cell_type": "code",
   "execution_count": 45,
   "metadata": {
    "scrolled": true
   },
   "outputs": [
    {
     "data": {
      "text/plain": [
       "71"
      ]
     },
     "execution_count": 45,
     "metadata": {},
     "output_type": "execute_result"
    }
   ],
   "source": [
    "df.duplicated().sum()"
   ]
  },
  {
   "cell_type": "code",
   "execution_count": 46,
   "metadata": {},
   "outputs": [],
   "source": [
    "# Удалим дубли и сбросим индекс\n",
    "df = df.drop_duplicates().reset_index(drop=True)"
   ]
  },
  {
   "cell_type": "code",
   "execution_count": 47,
   "metadata": {},
   "outputs": [
    {
     "data": {
      "text/plain": [
       "0"
      ]
     },
     "execution_count": 47,
     "metadata": {},
     "output_type": "execute_result"
    }
   ],
   "source": [
    "# Проверим удалились ли дубли\n",
    "df.duplicated().sum()"
   ]
  },
  {
   "cell_type": "code",
   "execution_count": 48,
   "metadata": {},
   "outputs": [
    {
     "data": {
      "text/html": [
       "<div>\n",
       "<style scoped>\n",
       "    .dataframe tbody tr th:only-of-type {\n",
       "        vertical-align: middle;\n",
       "    }\n",
       "\n",
       "    .dataframe tbody tr th {\n",
       "        vertical-align: top;\n",
       "    }\n",
       "\n",
       "    .dataframe thead th {\n",
       "        text-align: right;\n",
       "    }\n",
       "</style>\n",
       "<table border=\"1\" class=\"dataframe\">\n",
       "  <thead>\n",
       "    <tr style=\"text-align: right;\">\n",
       "      <th></th>\n",
       "      <th>number_of_children</th>\n",
       "      <th>days_employed</th>\n",
       "      <th>client_age_in_years</th>\n",
       "      <th>education</th>\n",
       "      <th>education_id</th>\n",
       "      <th>family_status</th>\n",
       "      <th>family_status_id</th>\n",
       "      <th>gender</th>\n",
       "      <th>employment_type</th>\n",
       "      <th>credit_status</th>\n",
       "      <th>monthly_income</th>\n",
       "      <th>credit_purpose</th>\n",
       "      <th>years_employed</th>\n",
       "    </tr>\n",
       "  </thead>\n",
       "  <tbody>\n",
       "    <tr>\n",
       "      <td>0</td>\n",
       "      <td>1</td>\n",
       "      <td>8437</td>\n",
       "      <td>42</td>\n",
       "      <td>высшее</td>\n",
       "      <td>0</td>\n",
       "      <td>женат / замужем</td>\n",
       "      <td>0</td>\n",
       "      <td>F</td>\n",
       "      <td>сотрудник</td>\n",
       "      <td>0</td>\n",
       "      <td>253875</td>\n",
       "      <td>покупка жилья</td>\n",
       "      <td>23</td>\n",
       "    </tr>\n",
       "    <tr>\n",
       "      <td>1</td>\n",
       "      <td>1</td>\n",
       "      <td>4024</td>\n",
       "      <td>36</td>\n",
       "      <td>среднее</td>\n",
       "      <td>1</td>\n",
       "      <td>женат / замужем</td>\n",
       "      <td>0</td>\n",
       "      <td>F</td>\n",
       "      <td>сотрудник</td>\n",
       "      <td>0</td>\n",
       "      <td>112080</td>\n",
       "      <td>приобретение автомобиля</td>\n",
       "      <td>11</td>\n",
       "    </tr>\n",
       "    <tr>\n",
       "      <td>2</td>\n",
       "      <td>0</td>\n",
       "      <td>5623</td>\n",
       "      <td>33</td>\n",
       "      <td>среднее</td>\n",
       "      <td>1</td>\n",
       "      <td>женат / замужем</td>\n",
       "      <td>0</td>\n",
       "      <td>M</td>\n",
       "      <td>сотрудник</td>\n",
       "      <td>0</td>\n",
       "      <td>145885</td>\n",
       "      <td>покупка жилья</td>\n",
       "      <td>15</td>\n",
       "    </tr>\n",
       "    <tr>\n",
       "      <td>3</td>\n",
       "      <td>3</td>\n",
       "      <td>4124</td>\n",
       "      <td>32</td>\n",
       "      <td>среднее</td>\n",
       "      <td>1</td>\n",
       "      <td>женат / замужем</td>\n",
       "      <td>0</td>\n",
       "      <td>M</td>\n",
       "      <td>сотрудник</td>\n",
       "      <td>0</td>\n",
       "      <td>267628</td>\n",
       "      <td>дополнительное образование</td>\n",
       "      <td>11</td>\n",
       "    </tr>\n",
       "    <tr>\n",
       "      <td>4</td>\n",
       "      <td>0</td>\n",
       "      <td>340266</td>\n",
       "      <td>53</td>\n",
       "      <td>среднее</td>\n",
       "      <td>1</td>\n",
       "      <td>гражданский брак</td>\n",
       "      <td>1</td>\n",
       "      <td>F</td>\n",
       "      <td>пенсионер</td>\n",
       "      <td>0</td>\n",
       "      <td>158616</td>\n",
       "      <td>сыграть свадьбу</td>\n",
       "      <td>932</td>\n",
       "    </tr>\n",
       "    <tr>\n",
       "      <td>5</td>\n",
       "      <td>0</td>\n",
       "      <td>926</td>\n",
       "      <td>27</td>\n",
       "      <td>высшее</td>\n",
       "      <td>0</td>\n",
       "      <td>гражданский брак</td>\n",
       "      <td>1</td>\n",
       "      <td>M</td>\n",
       "      <td>компаньон</td>\n",
       "      <td>0</td>\n",
       "      <td>255763</td>\n",
       "      <td>покупка жилья</td>\n",
       "      <td>2</td>\n",
       "    </tr>\n",
       "    <tr>\n",
       "      <td>6</td>\n",
       "      <td>0</td>\n",
       "      <td>2879</td>\n",
       "      <td>43</td>\n",
       "      <td>высшее</td>\n",
       "      <td>0</td>\n",
       "      <td>женат / замужем</td>\n",
       "      <td>0</td>\n",
       "      <td>F</td>\n",
       "      <td>компаньон</td>\n",
       "      <td>0</td>\n",
       "      <td>240525</td>\n",
       "      <td>операции с жильем</td>\n",
       "      <td>7</td>\n",
       "    </tr>\n",
       "    <tr>\n",
       "      <td>7</td>\n",
       "      <td>0</td>\n",
       "      <td>152</td>\n",
       "      <td>50</td>\n",
       "      <td>среднее</td>\n",
       "      <td>1</td>\n",
       "      <td>женат / замужем</td>\n",
       "      <td>0</td>\n",
       "      <td>M</td>\n",
       "      <td>сотрудник</td>\n",
       "      <td>0</td>\n",
       "      <td>135823</td>\n",
       "      <td>образование</td>\n",
       "      <td>0</td>\n",
       "    </tr>\n",
       "    <tr>\n",
       "      <td>8</td>\n",
       "      <td>2</td>\n",
       "      <td>6929</td>\n",
       "      <td>35</td>\n",
       "      <td>высшее</td>\n",
       "      <td>0</td>\n",
       "      <td>гражданский брак</td>\n",
       "      <td>1</td>\n",
       "      <td>F</td>\n",
       "      <td>сотрудник</td>\n",
       "      <td>0</td>\n",
       "      <td>95856</td>\n",
       "      <td>на проведение свадьбы</td>\n",
       "      <td>18</td>\n",
       "    </tr>\n",
       "    <tr>\n",
       "      <td>9</td>\n",
       "      <td>0</td>\n",
       "      <td>2188</td>\n",
       "      <td>41</td>\n",
       "      <td>среднее</td>\n",
       "      <td>1</td>\n",
       "      <td>женат / замужем</td>\n",
       "      <td>0</td>\n",
       "      <td>M</td>\n",
       "      <td>сотрудник</td>\n",
       "      <td>0</td>\n",
       "      <td>144425</td>\n",
       "      <td>покупка жилья для семьи</td>\n",
       "      <td>5</td>\n",
       "    </tr>\n",
       "    <tr>\n",
       "      <td>10</td>\n",
       "      <td>2</td>\n",
       "      <td>4171</td>\n",
       "      <td>36</td>\n",
       "      <td>высшее</td>\n",
       "      <td>0</td>\n",
       "      <td>женат / замужем</td>\n",
       "      <td>0</td>\n",
       "      <td>M</td>\n",
       "      <td>компаньон</td>\n",
       "      <td>0</td>\n",
       "      <td>113943</td>\n",
       "      <td>покупка недвижимости</td>\n",
       "      <td>11</td>\n",
       "    </tr>\n",
       "    <tr>\n",
       "      <td>11</td>\n",
       "      <td>0</td>\n",
       "      <td>792</td>\n",
       "      <td>40</td>\n",
       "      <td>среднее</td>\n",
       "      <td>1</td>\n",
       "      <td>женат / замужем</td>\n",
       "      <td>0</td>\n",
       "      <td>F</td>\n",
       "      <td>сотрудник</td>\n",
       "      <td>0</td>\n",
       "      <td>77069</td>\n",
       "      <td>покупка коммерческой недвижимости</td>\n",
       "      <td>2</td>\n",
       "    </tr>\n",
       "    <tr>\n",
       "      <td>12</td>\n",
       "      <td>0</td>\n",
       "      <td>0</td>\n",
       "      <td>65</td>\n",
       "      <td>среднее</td>\n",
       "      <td>1</td>\n",
       "      <td>гражданский брак</td>\n",
       "      <td>1</td>\n",
       "      <td>M</td>\n",
       "      <td>пенсионер</td>\n",
       "      <td>0</td>\n",
       "      <td>0</td>\n",
       "      <td>сыграть свадьбу</td>\n",
       "      <td>0</td>\n",
       "    </tr>\n",
       "    <tr>\n",
       "      <td>13</td>\n",
       "      <td>0</td>\n",
       "      <td>1846</td>\n",
       "      <td>54</td>\n",
       "      <td>неоконченное высшее</td>\n",
       "      <td>2</td>\n",
       "      <td>женат / замужем</td>\n",
       "      <td>0</td>\n",
       "      <td>F</td>\n",
       "      <td>сотрудник</td>\n",
       "      <td>0</td>\n",
       "      <td>130458</td>\n",
       "      <td>приобретение автомобиля</td>\n",
       "      <td>5</td>\n",
       "    </tr>\n",
       "    <tr>\n",
       "      <td>14</td>\n",
       "      <td>0</td>\n",
       "      <td>1844</td>\n",
       "      <td>56</td>\n",
       "      <td>высшее</td>\n",
       "      <td>0</td>\n",
       "      <td>гражданский брак</td>\n",
       "      <td>1</td>\n",
       "      <td>F</td>\n",
       "      <td>компаньон</td>\n",
       "      <td>1</td>\n",
       "      <td>165127</td>\n",
       "      <td>покупка жилой недвижимости</td>\n",
       "      <td>5</td>\n",
       "    </tr>\n",
       "  </tbody>\n",
       "</table>\n",
       "</div>"
      ],
      "text/plain": [
       "    number_of_children  days_employed  client_age_in_years  \\\n",
       "0                    1           8437                   42   \n",
       "1                    1           4024                   36   \n",
       "2                    0           5623                   33   \n",
       "3                    3           4124                   32   \n",
       "4                    0         340266                   53   \n",
       "5                    0            926                   27   \n",
       "6                    0           2879                   43   \n",
       "7                    0            152                   50   \n",
       "8                    2           6929                   35   \n",
       "9                    0           2188                   41   \n",
       "10                   2           4171                   36   \n",
       "11                   0            792                   40   \n",
       "12                   0              0                   65   \n",
       "13                   0           1846                   54   \n",
       "14                   0           1844                   56   \n",
       "\n",
       "              education  education_id     family_status  family_status_id  \\\n",
       "0                высшее             0   женат / замужем                 0   \n",
       "1               среднее             1   женат / замужем                 0   \n",
       "2               среднее             1   женат / замужем                 0   \n",
       "3               среднее             1   женат / замужем                 0   \n",
       "4               среднее             1  гражданский брак                 1   \n",
       "5                высшее             0  гражданский брак                 1   \n",
       "6                высшее             0   женат / замужем                 0   \n",
       "7               среднее             1   женат / замужем                 0   \n",
       "8                высшее             0  гражданский брак                 1   \n",
       "9               среднее             1   женат / замужем                 0   \n",
       "10               высшее             0   женат / замужем                 0   \n",
       "11              среднее             1   женат / замужем                 0   \n",
       "12              среднее             1  гражданский брак                 1   \n",
       "13  неоконченное высшее             2   женат / замужем                 0   \n",
       "14               высшее             0  гражданский брак                 1   \n",
       "\n",
       "   gender employment_type  credit_status  monthly_income  \\\n",
       "0       F       сотрудник              0          253875   \n",
       "1       F       сотрудник              0          112080   \n",
       "2       M       сотрудник              0          145885   \n",
       "3       M       сотрудник              0          267628   \n",
       "4       F       пенсионер              0          158616   \n",
       "5       M       компаньон              0          255763   \n",
       "6       F       компаньон              0          240525   \n",
       "7       M       сотрудник              0          135823   \n",
       "8       F       сотрудник              0           95856   \n",
       "9       M       сотрудник              0          144425   \n",
       "10      M       компаньон              0          113943   \n",
       "11      F       сотрудник              0           77069   \n",
       "12      M       пенсионер              0               0   \n",
       "13      F       сотрудник              0          130458   \n",
       "14      F       компаньон              1          165127   \n",
       "\n",
       "                       credit_purpose  years_employed  \n",
       "0                       покупка жилья              23  \n",
       "1             приобретение автомобиля              11  \n",
       "2                       покупка жилья              15  \n",
       "3          дополнительное образование              11  \n",
       "4                     сыграть свадьбу             932  \n",
       "5                       покупка жилья               2  \n",
       "6                   операции с жильем               7  \n",
       "7                         образование               0  \n",
       "8               на проведение свадьбы              18  \n",
       "9             покупка жилья для семьи               5  \n",
       "10               покупка недвижимости              11  \n",
       "11  покупка коммерческой недвижимости               2  \n",
       "12                    сыграть свадьбу               0  \n",
       "13            приобретение автомобиля               5  \n",
       "14         покупка жилой недвижимости               5  "
      ]
     },
     "execution_count": 48,
     "metadata": {},
     "output_type": "execute_result"
    }
   ],
   "source": [
    "df.head(15)"
   ]
  },
  {
   "cell_type": "markdown",
   "metadata": {},
   "source": [
    "**Вывод** Очистили датафрейм от дубликатов. Возможно, банку стоит проверить валидацию на сервере. Там заявки должны проверяться на дубли автоматически"
   ]
  },
  {
   "cell_type": "markdown",
   "metadata": {},
   "source": []
  },
  {
   "cell_type": "markdown",
   "metadata": {},
   "source": [
    "### Лемматизация"
   ]
  },
  {
   "cell_type": "markdown",
   "metadata": {},
   "source": [
    "В датасете есть столбец credit_purpose, в котором указаны цели на кредит. Необходимо выяснить количество уникальных лемм"
   ]
  },
  {
   "cell_type": "code",
   "execution_count": 49,
   "metadata": {},
   "outputs": [
    {
     "data": {
      "text/plain": [
       "['покупка жилья',\n",
       " 'приобретение автомобиля',\n",
       " 'дополнительное образование',\n",
       " 'сыграть свадьбу',\n",
       " 'операции с жильем',\n",
       " 'образование',\n",
       " 'на проведение свадьбы',\n",
       " 'покупка жилья для семьи',\n",
       " 'покупка недвижимости',\n",
       " 'покупка коммерческой недвижимости',\n",
       " 'покупка жилой недвижимости',\n",
       " 'строительство собственной недвижимости',\n",
       " 'недвижимость',\n",
       " 'строительство недвижимости',\n",
       " 'на покупку подержанного автомобиля',\n",
       " 'на покупку своего автомобиля',\n",
       " 'операции с коммерческой недвижимостью',\n",
       " 'строительство жилой недвижимости',\n",
       " 'жилье',\n",
       " 'операции со своей недвижимостью',\n",
       " 'автомобили',\n",
       " 'заняться образованием',\n",
       " 'сделка с подержанным автомобилем',\n",
       " 'получение образования',\n",
       " 'автомобиль',\n",
       " 'свадьба',\n",
       " 'получение дополнительного образования',\n",
       " 'покупка своего жилья',\n",
       " 'операции с недвижимостью',\n",
       " 'получение высшего образования',\n",
       " 'свой автомобиль',\n",
       " 'сделка с автомобилем',\n",
       " 'профильное образование',\n",
       " 'высшее образование',\n",
       " 'покупка жилья для сдачи',\n",
       " 'на покупку автомобиля',\n",
       " 'ремонт жилью',\n",
       " 'заняться высшим образованием']"
      ]
     },
     "execution_count": 49,
     "metadata": {},
     "output_type": "execute_result"
    }
   ],
   "source": [
    "# Узнаем уникальные значения\n",
    "unique_credit_purposes = df['credit_purpose'].unique().tolist()\n",
    "unique_credit_purposes"
   ]
  },
  {
   "cell_type": "markdown",
   "metadata": {},
   "source": [
    "Видим, что есть похожие друг на друга цели, но выраженные разными словами. Лемматизируем полученный выше список, получив \"рейтинг\" уникальных лемм"
   ]
  },
  {
   "cell_type": "code",
   "execution_count": 50,
   "metadata": {},
   "outputs": [
    {
     "data": {
      "text/plain": [
       "[(' ', 33570),\n",
       " ('\\n', 21454),\n",
       " ('недвижимость', 6351),\n",
       " ('покупка', 5897),\n",
       " ('жилье', 4460),\n",
       " ('автомобиль', 4306),\n",
       " ('образование', 4013),\n",
       " ('с', 2918),\n",
       " ('операция', 2604),\n",
       " ('свадьба', 2324),\n",
       " ('свой', 2230),\n",
       " ('на', 2222),\n",
       " ('строительство', 1878),\n",
       " ('высокий', 1374),\n",
       " ('получение', 1314),\n",
       " ('коммерческий', 1311),\n",
       " ('для', 1289),\n",
       " ('жилой', 1230),\n",
       " ('сделка', 941),\n",
       " ('дополнительный', 906),\n",
       " ('заниматься', 904),\n",
       " ('проведение', 768),\n",
       " ('сыграть', 765),\n",
       " ('сдача', 651),\n",
       " ('семья', 638),\n",
       " ('собственный', 635),\n",
       " ('со', 627),\n",
       " ('ремонт', 607),\n",
       " ('подержанный', 486),\n",
       " ('подержать', 478),\n",
       " ('приобретение', 461),\n",
       " ('профильный', 436)]"
      ]
     },
     "execution_count": 50,
     "metadata": {},
     "output_type": "execute_result"
    }
   ],
   "source": [
    "m = Mystem()\n",
    "list_of_lemmas = []\n",
    "for element in df['credit_purpose']:\n",
    "    lemma = m.lemmatize(element)\n",
    "    list_of_lemmas.extend(lemma)\n",
    "\n",
    "unique_lemmas = Counter(list_of_lemmas)\n",
    "sorted(unique_lemmas.items(), key = lambda pair: pair[1], reverse=True)#отсортирую список лемм по убыванию \"рейтинга\"(кол-во повторений)"
   ]
  },
  {
   "cell_type": "markdown",
   "metadata": {},
   "source": [
    "<b>Выделим основные цели кредита:</b>\n",
    "<ul>\n",
    "    <li>Недвижимость</li>\n",
    "    <li>Автомобиль</li>\n",
    "    <li>Образование</li>\n",
    "    <li>Свадьба</li>\n",
    "</ul>"
   ]
  },
  {
   "cell_type": "markdown",
   "metadata": {},
   "source": [
    "**Вывод** выделили леммы и получили 4 основные цели, на которые люди берут кредит чаще всего"
   ]
  },
  {
   "cell_type": "markdown",
   "metadata": {},
   "source": []
  },
  {
   "cell_type": "markdown",
   "metadata": {},
   "source": [
    "### Категоризация данных"
   ]
  },
  {
   "cell_type": "markdown",
   "metadata": {},
   "source": [
    "Благодаря лемматизации мы выявили 4 основные цели на получение кредита. Теперь использую метод apply() объединим данные в категории в столбце credit_purpose (цели кредитования). Это сократит объём данных и упростит их чтение."
   ]
  },
  {
   "cell_type": "code",
   "execution_count": 51,
   "metadata": {},
   "outputs": [
    {
     "name": "stdout",
     "output_type": "stream",
     "text": [
      "недвижимость    10811\n",
      "автомобиль       4306\n",
      "образование      4013\n",
      "свадьба          2324\n",
      "Name: credit_purpose, dtype: int64\n"
     ]
    }
   ],
   "source": [
    "def credit_purpose_category (row):\n",
    "    credit_purpose = row['credit_purpose']\n",
    "    if 'недв' in row['credit_purpose']:\n",
    "        return 'недвижимость'\n",
    "    if 'жил' in row['credit_purpose']:\n",
    "        return 'недвижимость'\n",
    "    if 'строит' in row['credit_purpose']:\n",
    "        return 'недвижимость'\n",
    "    if 'образ' in row['credit_purpose']:\n",
    "        return 'образование'\n",
    "    if 'авто' in row['credit_purpose']:\n",
    "        return 'автомобиль'\n",
    "    if 'свад' in row['credit_purpose']:\n",
    "        return 'свадьба'\n",
    "    else:\n",
    "        return 'потребительский'\n",
    " \n",
    "df['credit_purpose'] = df.apply(credit_purpose_category, axis=1)#заменяем старые данные в столбце credit_purpose новыми, применяем метод к строкам\n",
    "print (df['credit_purpose'].value_counts())#узнаем, сколько записей разных категорий в столбце credit_purpose"
   ]
  },
  {
   "cell_type": "markdown",
   "metadata": {},
   "source": [
    "Объединим данные в категории в столбце number_of_children (количество детей)"
   ]
  },
  {
   "cell_type": "code",
   "execution_count": 52,
   "metadata": {},
   "outputs": [
    {
     "name": "stdout",
     "output_type": "stream",
     "text": [
      "детей нет      14091\n",
      "1-2 ребенка     6983\n",
      "многодетные      380\n",
      "Name: number_of_children, dtype: int64\n"
     ]
    }
   ],
   "source": [
    "def children_category(row):\n",
    "    if row['number_of_children'] == 0:\n",
    "        return 'детей нет'\n",
    "    if 1 <= row['number_of_children'] <= 2:\n",
    "        return '1-2 ребенка'\n",
    "    else:\n",
    "        return 'многодетные'\n",
    "df['number_of_children'] = df.apply(children_category, axis=1)#заменяем старые данные в столбце number_of_children новыми\n",
    "print (df['number_of_children'].value_counts())#узнаем, сколько записей разных категорий в столбце number_of_children"
   ]
  },
  {
   "cell_type": "markdown",
   "metadata": {},
   "source": [
    "Объединим данные в категории в столбце years_employed (рабочий стаж в годах)"
   ]
  },
  {
   "cell_type": "code",
   "execution_count": 53,
   "metadata": {},
   "outputs": [
    {
     "name": "stdout",
     "output_type": "stream",
     "text": [
      "стаж до 10 лет       14860\n",
      "стаж более 30 лет     3589\n",
      "стаж 10-30 лет        3005\n",
      "Name: years_employed, dtype: int64\n"
     ]
    }
   ],
   "source": [
    "def years_employed_category(row):\n",
    "    if row['years_employed'] < 10:\n",
    "        return 'стаж до 10 лет'\n",
    "    if 10 <= row['years_employed'] <= 30:\n",
    "        return 'стаж 10-30 лет'\n",
    "    else:\n",
    "        return 'стаж более 30 лет'\n",
    "df['years_employed'] = df.apply(years_employed_category, axis=1)#заменяем старые данные в столбце years_employed новыми\n",
    "print (df['years_employed'].value_counts())#узнаем, сколько записей разных категорий в столбце years_employed"
   ]
  },
  {
   "cell_type": "markdown",
   "metadata": {},
   "source": [
    "Также считаю, что нужно объединить данные в категории по уровню дохода. Но так как мы не знаем по какой стране/городу предоставлены данные для анализа, то разделим доход на 4 группы"
   ]
  },
  {
   "cell_type": "code",
   "execution_count": 54,
   "metadata": {},
   "outputs": [
    {
     "data": {
      "text/plain": [
       "0.25     89088.50\n",
       "0.50    135781.00\n",
       "0.75    195813.25\n",
       "Name: monthly_income, dtype: float64"
      ]
     },
     "execution_count": 54,
     "metadata": {},
     "output_type": "execute_result"
    }
   ],
   "source": [
    "df['monthly_income'].quantile([0.25,0.5,0.75]) #выделим группы доходов по квантилям"
   ]
  },
  {
   "cell_type": "code",
   "execution_count": 55,
   "metadata": {},
   "outputs": [],
   "source": [
    "def income_status_category(monthly_income):\n",
    "    if monthly_income <= df['monthly_income'].quantile(0.25):\n",
    "            return 'Низкий уровень дохода'\n",
    "    if monthly_income <= df['monthly_income'].quantile(0.50):\n",
    "            return 'Средний уровень дохода'\n",
    "    if monthly_income < df['monthly_income'].quantile(0.75):\n",
    "            return 'Высокий уровень дохода'\n",
    "    return 'Сверхвысокий уровень дохода'\n",
    "df['income_status'] = df['monthly_income'].apply(income_status_category)"
   ]
  },
  {
   "cell_type": "code",
   "execution_count": 56,
   "metadata": {},
   "outputs": [
    {
     "data": {
      "text/html": [
       "<div>\n",
       "<style scoped>\n",
       "    .dataframe tbody tr th:only-of-type {\n",
       "        vertical-align: middle;\n",
       "    }\n",
       "\n",
       "    .dataframe tbody tr th {\n",
       "        vertical-align: top;\n",
       "    }\n",
       "\n",
       "    .dataframe thead th {\n",
       "        text-align: right;\n",
       "    }\n",
       "</style>\n",
       "<table border=\"1\" class=\"dataframe\">\n",
       "  <thead>\n",
       "    <tr style=\"text-align: right;\">\n",
       "      <th></th>\n",
       "      <th>number_of_children</th>\n",
       "      <th>days_employed</th>\n",
       "      <th>client_age_in_years</th>\n",
       "      <th>education</th>\n",
       "      <th>education_id</th>\n",
       "      <th>family_status</th>\n",
       "      <th>family_status_id</th>\n",
       "      <th>gender</th>\n",
       "      <th>employment_type</th>\n",
       "      <th>credit_status</th>\n",
       "      <th>monthly_income</th>\n",
       "      <th>credit_purpose</th>\n",
       "      <th>years_employed</th>\n",
       "      <th>income_status</th>\n",
       "    </tr>\n",
       "  </thead>\n",
       "  <tbody>\n",
       "    <tr>\n",
       "      <td>0</td>\n",
       "      <td>1-2 ребенка</td>\n",
       "      <td>8437</td>\n",
       "      <td>42</td>\n",
       "      <td>высшее</td>\n",
       "      <td>0</td>\n",
       "      <td>женат / замужем</td>\n",
       "      <td>0</td>\n",
       "      <td>F</td>\n",
       "      <td>сотрудник</td>\n",
       "      <td>0</td>\n",
       "      <td>253875</td>\n",
       "      <td>недвижимость</td>\n",
       "      <td>стаж 10-30 лет</td>\n",
       "      <td>Сверхвысокий уровень дохода</td>\n",
       "    </tr>\n",
       "    <tr>\n",
       "      <td>1</td>\n",
       "      <td>1-2 ребенка</td>\n",
       "      <td>4024</td>\n",
       "      <td>36</td>\n",
       "      <td>среднее</td>\n",
       "      <td>1</td>\n",
       "      <td>женат / замужем</td>\n",
       "      <td>0</td>\n",
       "      <td>F</td>\n",
       "      <td>сотрудник</td>\n",
       "      <td>0</td>\n",
       "      <td>112080</td>\n",
       "      <td>автомобиль</td>\n",
       "      <td>стаж 10-30 лет</td>\n",
       "      <td>Средний уровень дохода</td>\n",
       "    </tr>\n",
       "    <tr>\n",
       "      <td>2</td>\n",
       "      <td>детей нет</td>\n",
       "      <td>5623</td>\n",
       "      <td>33</td>\n",
       "      <td>среднее</td>\n",
       "      <td>1</td>\n",
       "      <td>женат / замужем</td>\n",
       "      <td>0</td>\n",
       "      <td>M</td>\n",
       "      <td>сотрудник</td>\n",
       "      <td>0</td>\n",
       "      <td>145885</td>\n",
       "      <td>недвижимость</td>\n",
       "      <td>стаж 10-30 лет</td>\n",
       "      <td>Высокий уровень дохода</td>\n",
       "    </tr>\n",
       "    <tr>\n",
       "      <td>3</td>\n",
       "      <td>многодетные</td>\n",
       "      <td>4124</td>\n",
       "      <td>32</td>\n",
       "      <td>среднее</td>\n",
       "      <td>1</td>\n",
       "      <td>женат / замужем</td>\n",
       "      <td>0</td>\n",
       "      <td>M</td>\n",
       "      <td>сотрудник</td>\n",
       "      <td>0</td>\n",
       "      <td>267628</td>\n",
       "      <td>образование</td>\n",
       "      <td>стаж 10-30 лет</td>\n",
       "      <td>Сверхвысокий уровень дохода</td>\n",
       "    </tr>\n",
       "    <tr>\n",
       "      <td>4</td>\n",
       "      <td>детей нет</td>\n",
       "      <td>340266</td>\n",
       "      <td>53</td>\n",
       "      <td>среднее</td>\n",
       "      <td>1</td>\n",
       "      <td>гражданский брак</td>\n",
       "      <td>1</td>\n",
       "      <td>F</td>\n",
       "      <td>пенсионер</td>\n",
       "      <td>0</td>\n",
       "      <td>158616</td>\n",
       "      <td>свадьба</td>\n",
       "      <td>стаж более 30 лет</td>\n",
       "      <td>Высокий уровень дохода</td>\n",
       "    </tr>\n",
       "    <tr>\n",
       "      <td>5</td>\n",
       "      <td>детей нет</td>\n",
       "      <td>926</td>\n",
       "      <td>27</td>\n",
       "      <td>высшее</td>\n",
       "      <td>0</td>\n",
       "      <td>гражданский брак</td>\n",
       "      <td>1</td>\n",
       "      <td>M</td>\n",
       "      <td>компаньон</td>\n",
       "      <td>0</td>\n",
       "      <td>255763</td>\n",
       "      <td>недвижимость</td>\n",
       "      <td>стаж до 10 лет</td>\n",
       "      <td>Сверхвысокий уровень дохода</td>\n",
       "    </tr>\n",
       "    <tr>\n",
       "      <td>6</td>\n",
       "      <td>детей нет</td>\n",
       "      <td>2879</td>\n",
       "      <td>43</td>\n",
       "      <td>высшее</td>\n",
       "      <td>0</td>\n",
       "      <td>женат / замужем</td>\n",
       "      <td>0</td>\n",
       "      <td>F</td>\n",
       "      <td>компаньон</td>\n",
       "      <td>0</td>\n",
       "      <td>240525</td>\n",
       "      <td>недвижимость</td>\n",
       "      <td>стаж до 10 лет</td>\n",
       "      <td>Сверхвысокий уровень дохода</td>\n",
       "    </tr>\n",
       "    <tr>\n",
       "      <td>7</td>\n",
       "      <td>детей нет</td>\n",
       "      <td>152</td>\n",
       "      <td>50</td>\n",
       "      <td>среднее</td>\n",
       "      <td>1</td>\n",
       "      <td>женат / замужем</td>\n",
       "      <td>0</td>\n",
       "      <td>M</td>\n",
       "      <td>сотрудник</td>\n",
       "      <td>0</td>\n",
       "      <td>135823</td>\n",
       "      <td>образование</td>\n",
       "      <td>стаж до 10 лет</td>\n",
       "      <td>Высокий уровень дохода</td>\n",
       "    </tr>\n",
       "    <tr>\n",
       "      <td>8</td>\n",
       "      <td>1-2 ребенка</td>\n",
       "      <td>6929</td>\n",
       "      <td>35</td>\n",
       "      <td>высшее</td>\n",
       "      <td>0</td>\n",
       "      <td>гражданский брак</td>\n",
       "      <td>1</td>\n",
       "      <td>F</td>\n",
       "      <td>сотрудник</td>\n",
       "      <td>0</td>\n",
       "      <td>95856</td>\n",
       "      <td>свадьба</td>\n",
       "      <td>стаж 10-30 лет</td>\n",
       "      <td>Средний уровень дохода</td>\n",
       "    </tr>\n",
       "    <tr>\n",
       "      <td>9</td>\n",
       "      <td>детей нет</td>\n",
       "      <td>2188</td>\n",
       "      <td>41</td>\n",
       "      <td>среднее</td>\n",
       "      <td>1</td>\n",
       "      <td>женат / замужем</td>\n",
       "      <td>0</td>\n",
       "      <td>M</td>\n",
       "      <td>сотрудник</td>\n",
       "      <td>0</td>\n",
       "      <td>144425</td>\n",
       "      <td>недвижимость</td>\n",
       "      <td>стаж до 10 лет</td>\n",
       "      <td>Высокий уровень дохода</td>\n",
       "    </tr>\n",
       "    <tr>\n",
       "      <td>10</td>\n",
       "      <td>1-2 ребенка</td>\n",
       "      <td>4171</td>\n",
       "      <td>36</td>\n",
       "      <td>высшее</td>\n",
       "      <td>0</td>\n",
       "      <td>женат / замужем</td>\n",
       "      <td>0</td>\n",
       "      <td>M</td>\n",
       "      <td>компаньон</td>\n",
       "      <td>0</td>\n",
       "      <td>113943</td>\n",
       "      <td>недвижимость</td>\n",
       "      <td>стаж 10-30 лет</td>\n",
       "      <td>Средний уровень дохода</td>\n",
       "    </tr>\n",
       "    <tr>\n",
       "      <td>11</td>\n",
       "      <td>детей нет</td>\n",
       "      <td>792</td>\n",
       "      <td>40</td>\n",
       "      <td>среднее</td>\n",
       "      <td>1</td>\n",
       "      <td>женат / замужем</td>\n",
       "      <td>0</td>\n",
       "      <td>F</td>\n",
       "      <td>сотрудник</td>\n",
       "      <td>0</td>\n",
       "      <td>77069</td>\n",
       "      <td>недвижимость</td>\n",
       "      <td>стаж до 10 лет</td>\n",
       "      <td>Низкий уровень дохода</td>\n",
       "    </tr>\n",
       "    <tr>\n",
       "      <td>12</td>\n",
       "      <td>детей нет</td>\n",
       "      <td>0</td>\n",
       "      <td>65</td>\n",
       "      <td>среднее</td>\n",
       "      <td>1</td>\n",
       "      <td>гражданский брак</td>\n",
       "      <td>1</td>\n",
       "      <td>M</td>\n",
       "      <td>пенсионер</td>\n",
       "      <td>0</td>\n",
       "      <td>0</td>\n",
       "      <td>свадьба</td>\n",
       "      <td>стаж до 10 лет</td>\n",
       "      <td>Низкий уровень дохода</td>\n",
       "    </tr>\n",
       "    <tr>\n",
       "      <td>13</td>\n",
       "      <td>детей нет</td>\n",
       "      <td>1846</td>\n",
       "      <td>54</td>\n",
       "      <td>неоконченное высшее</td>\n",
       "      <td>2</td>\n",
       "      <td>женат / замужем</td>\n",
       "      <td>0</td>\n",
       "      <td>F</td>\n",
       "      <td>сотрудник</td>\n",
       "      <td>0</td>\n",
       "      <td>130458</td>\n",
       "      <td>автомобиль</td>\n",
       "      <td>стаж до 10 лет</td>\n",
       "      <td>Средний уровень дохода</td>\n",
       "    </tr>\n",
       "    <tr>\n",
       "      <td>14</td>\n",
       "      <td>детей нет</td>\n",
       "      <td>1844</td>\n",
       "      <td>56</td>\n",
       "      <td>высшее</td>\n",
       "      <td>0</td>\n",
       "      <td>гражданский брак</td>\n",
       "      <td>1</td>\n",
       "      <td>F</td>\n",
       "      <td>компаньон</td>\n",
       "      <td>1</td>\n",
       "      <td>165127</td>\n",
       "      <td>недвижимость</td>\n",
       "      <td>стаж до 10 лет</td>\n",
       "      <td>Высокий уровень дохода</td>\n",
       "    </tr>\n",
       "  </tbody>\n",
       "</table>\n",
       "</div>"
      ],
      "text/plain": [
       "   number_of_children  days_employed  client_age_in_years  \\\n",
       "0         1-2 ребенка           8437                   42   \n",
       "1         1-2 ребенка           4024                   36   \n",
       "2           детей нет           5623                   33   \n",
       "3         многодетные           4124                   32   \n",
       "4           детей нет         340266                   53   \n",
       "5           детей нет            926                   27   \n",
       "6           детей нет           2879                   43   \n",
       "7           детей нет            152                   50   \n",
       "8         1-2 ребенка           6929                   35   \n",
       "9           детей нет           2188                   41   \n",
       "10        1-2 ребенка           4171                   36   \n",
       "11          детей нет            792                   40   \n",
       "12          детей нет              0                   65   \n",
       "13          детей нет           1846                   54   \n",
       "14          детей нет           1844                   56   \n",
       "\n",
       "              education  education_id     family_status  family_status_id  \\\n",
       "0                высшее             0   женат / замужем                 0   \n",
       "1               среднее             1   женат / замужем                 0   \n",
       "2               среднее             1   женат / замужем                 0   \n",
       "3               среднее             1   женат / замужем                 0   \n",
       "4               среднее             1  гражданский брак                 1   \n",
       "5                высшее             0  гражданский брак                 1   \n",
       "6                высшее             0   женат / замужем                 0   \n",
       "7               среднее             1   женат / замужем                 0   \n",
       "8                высшее             0  гражданский брак                 1   \n",
       "9               среднее             1   женат / замужем                 0   \n",
       "10               высшее             0   женат / замужем                 0   \n",
       "11              среднее             1   женат / замужем                 0   \n",
       "12              среднее             1  гражданский брак                 1   \n",
       "13  неоконченное высшее             2   женат / замужем                 0   \n",
       "14               высшее             0  гражданский брак                 1   \n",
       "\n",
       "   gender employment_type  credit_status  monthly_income credit_purpose  \\\n",
       "0       F       сотрудник              0          253875   недвижимость   \n",
       "1       F       сотрудник              0          112080     автомобиль   \n",
       "2       M       сотрудник              0          145885   недвижимость   \n",
       "3       M       сотрудник              0          267628    образование   \n",
       "4       F       пенсионер              0          158616        свадьба   \n",
       "5       M       компаньон              0          255763   недвижимость   \n",
       "6       F       компаньон              0          240525   недвижимость   \n",
       "7       M       сотрудник              0          135823    образование   \n",
       "8       F       сотрудник              0           95856        свадьба   \n",
       "9       M       сотрудник              0          144425   недвижимость   \n",
       "10      M       компаньон              0          113943   недвижимость   \n",
       "11      F       сотрудник              0           77069   недвижимость   \n",
       "12      M       пенсионер              0               0        свадьба   \n",
       "13      F       сотрудник              0          130458     автомобиль   \n",
       "14      F       компаньон              1          165127   недвижимость   \n",
       "\n",
       "       years_employed                income_status  \n",
       "0      стаж 10-30 лет  Сверхвысокий уровень дохода  \n",
       "1      стаж 10-30 лет       Средний уровень дохода  \n",
       "2      стаж 10-30 лет       Высокий уровень дохода  \n",
       "3      стаж 10-30 лет  Сверхвысокий уровень дохода  \n",
       "4   стаж более 30 лет       Высокий уровень дохода  \n",
       "5      стаж до 10 лет  Сверхвысокий уровень дохода  \n",
       "6      стаж до 10 лет  Сверхвысокий уровень дохода  \n",
       "7      стаж до 10 лет       Высокий уровень дохода  \n",
       "8      стаж 10-30 лет       Средний уровень дохода  \n",
       "9      стаж до 10 лет       Высокий уровень дохода  \n",
       "10     стаж 10-30 лет       Средний уровень дохода  \n",
       "11     стаж до 10 лет        Низкий уровень дохода  \n",
       "12     стаж до 10 лет        Низкий уровень дохода  \n",
       "13     стаж до 10 лет       Средний уровень дохода  \n",
       "14     стаж до 10 лет       Высокий уровень дохода  "
      ]
     },
     "execution_count": 56,
     "metadata": {},
     "output_type": "execute_result"
    }
   ],
   "source": [
    "df.head(15)#смотрим, как изминились данные"
   ]
  },
  {
   "cell_type": "markdown",
   "metadata": {},
   "source": [
    "**Вывод**\n",
    "С помощью категоризации мы сократили объём данных и упростили их чтение.\n",
    "Были выделены категории для уровня дохода, стажа работы, целей получения кредита и количества детей"
   ]
  },
  {
   "cell_type": "markdown",
   "metadata": {},
   "source": []
  },
  {
   "cell_type": "markdown",
   "metadata": {},
   "source": [
    "## Шаг 3. Ответьте на вопросы"
   ]
  },
  {
   "cell_type": "markdown",
   "metadata": {},
   "source": [
    "- Есть ли зависимость между наличием детей и возвратом кредита в срок?"
   ]
  },
  {
   "cell_type": "markdown",
   "metadata": {},
   "source": [
    "Для ответа на данный вопрос подойдёт сводная таблица. По ней легко будет ответить и дать краткие пояснения"
   ]
  },
  {
   "cell_type": "code",
   "execution_count": 57,
   "metadata": {},
   "outputs": [
    {
     "data": {
      "text/html": [
       "<div>\n",
       "<style scoped>\n",
       "    .dataframe tbody tr th:only-of-type {\n",
       "        vertical-align: middle;\n",
       "    }\n",
       "\n",
       "    .dataframe tbody tr th {\n",
       "        vertical-align: top;\n",
       "    }\n",
       "\n",
       "    .dataframe thead th {\n",
       "        text-align: right;\n",
       "    }\n",
       "</style>\n",
       "<table border=\"1\" class=\"dataframe\">\n",
       "  <thead>\n",
       "    <tr style=\"text-align: right;\">\n",
       "      <th>credit_status</th>\n",
       "      <th>0</th>\n",
       "      <th>1</th>\n",
       "      <th>ratio</th>\n",
       "    </tr>\n",
       "    <tr>\n",
       "      <th>number_of_children</th>\n",
       "      <th></th>\n",
       "      <th></th>\n",
       "      <th></th>\n",
       "    </tr>\n",
       "  </thead>\n",
       "  <tbody>\n",
       "    <tr>\n",
       "      <td>1-2 ребенка</td>\n",
       "      <td>6336</td>\n",
       "      <td>647</td>\n",
       "      <td>10.211490</td>\n",
       "    </tr>\n",
       "    <tr>\n",
       "      <td>детей нет</td>\n",
       "      <td>13028</td>\n",
       "      <td>1063</td>\n",
       "      <td>8.159349</td>\n",
       "    </tr>\n",
       "    <tr>\n",
       "      <td>многодетные</td>\n",
       "      <td>349</td>\n",
       "      <td>31</td>\n",
       "      <td>8.882521</td>\n",
       "    </tr>\n",
       "  </tbody>\n",
       "</table>\n",
       "</div>"
      ],
      "text/plain": [
       "credit_status           0     1      ratio\n",
       "number_of_children                        \n",
       "1-2 ребенка          6336   647  10.211490\n",
       "детей нет           13028  1063   8.159349\n",
       "многодетные           349    31   8.882521"
      ]
     },
     "execution_count": 57,
     "metadata": {},
     "output_type": "execute_result"
    }
   ],
   "source": [
    "#произведем группировку данных по столбцу number_of_children\n",
    "#группировку значений будем производить по слобцу credit_status\n",
    "#значения, по которым мы хотим увидеть сводную таблицу берем из credit_purpose\n",
    "#функцией count будем производить подсчет количества значений\n",
    "children_pivot = df.pivot_table(index = ['number_of_children'], \n",
    "                                columns = ['credit_status'],\n",
    "                                values = 'credit_purpose', aggfunc='count')\n",
    "\n",
    "children_pivot['ratio'] = children_pivot[1] / children_pivot[0] * 100\n",
    "children_pivot"
   ]
  },
  {
   "cell_type": "markdown",
   "metadata": {},
   "source": [
    "**Вывод** Люди без детей и многодетные отдают кредиты практически одинаково, но всё же бездетные имеют самый лучший показатель возврата кредита. Люди с 1-2 детьми отдают кредиты хуже всего."
   ]
  },
  {
   "cell_type": "markdown",
   "metadata": {},
   "source": [
    "- Есть ли зависимость между семейным положением и возвратом кредита в срок?"
   ]
  },
  {
   "cell_type": "code",
   "execution_count": 58,
   "metadata": {},
   "outputs": [
    {
     "data": {
      "text/html": [
       "<div>\n",
       "<style scoped>\n",
       "    .dataframe tbody tr th:only-of-type {\n",
       "        vertical-align: middle;\n",
       "    }\n",
       "\n",
       "    .dataframe tbody tr th {\n",
       "        vertical-align: top;\n",
       "    }\n",
       "\n",
       "    .dataframe thead th {\n",
       "        text-align: right;\n",
       "    }\n",
       "</style>\n",
       "<table border=\"1\" class=\"dataframe\">\n",
       "  <thead>\n",
       "    <tr style=\"text-align: right;\">\n",
       "      <th>credit_status</th>\n",
       "      <th>0</th>\n",
       "      <th>1</th>\n",
       "      <th>ratio</th>\n",
       "    </tr>\n",
       "    <tr>\n",
       "      <th>family_status</th>\n",
       "      <th></th>\n",
       "      <th></th>\n",
       "      <th></th>\n",
       "    </tr>\n",
       "  </thead>\n",
       "  <tbody>\n",
       "    <tr>\n",
       "      <td>в разводе</td>\n",
       "      <td>1110</td>\n",
       "      <td>85</td>\n",
       "      <td>7.657658</td>\n",
       "    </tr>\n",
       "    <tr>\n",
       "      <td>вдовец / вдова</td>\n",
       "      <td>896</td>\n",
       "      <td>63</td>\n",
       "      <td>7.031250</td>\n",
       "    </tr>\n",
       "    <tr>\n",
       "      <td>гражданский брак</td>\n",
       "      <td>3763</td>\n",
       "      <td>388</td>\n",
       "      <td>10.310922</td>\n",
       "    </tr>\n",
       "    <tr>\n",
       "      <td>женат / замужем</td>\n",
       "      <td>11408</td>\n",
       "      <td>931</td>\n",
       "      <td>8.160940</td>\n",
       "    </tr>\n",
       "    <tr>\n",
       "      <td>не женат / не замужем</td>\n",
       "      <td>2536</td>\n",
       "      <td>274</td>\n",
       "      <td>10.804416</td>\n",
       "    </tr>\n",
       "  </tbody>\n",
       "</table>\n",
       "</div>"
      ],
      "text/plain": [
       "credit_status              0    1      ratio\n",
       "family_status                               \n",
       "в разводе               1110   85   7.657658\n",
       "вдовец / вдова           896   63   7.031250\n",
       "гражданский брак        3763  388  10.310922\n",
       "женат / замужем        11408  931   8.160940\n",
       "не женат / не замужем   2536  274  10.804416"
      ]
     },
     "execution_count": 58,
     "metadata": {},
     "output_type": "execute_result"
    }
   ],
   "source": [
    "family_status_pivot = df.pivot_table(index=['family_status'], columns=['credit_status'], values='monthly_income', aggfunc='count')\n",
    "family_status_pivot['ratio'] = family_status_pivot[1] / family_status_pivot[0] * 100\n",
    "family_status_pivot"
   ]
  },
  {
   "cell_type": "markdown",
   "metadata": {},
   "source": [
    "**Вывод** Люди в разводе и вдовы/вдовцы имеют самые лучшие показатели. Граждане, которые не имеют узаконенных отношений, более склонны к просрочке по выплатам кредита."
   ]
  },
  {
   "cell_type": "markdown",
   "metadata": {},
   "source": [
    "- Есть ли зависимость между уровнем дохода и возвратом кредита в срок?"
   ]
  },
  {
   "cell_type": "code",
   "execution_count": 59,
   "metadata": {},
   "outputs": [
    {
     "data": {
      "text/html": [
       "<div>\n",
       "<style scoped>\n",
       "    .dataframe tbody tr th:only-of-type {\n",
       "        vertical-align: middle;\n",
       "    }\n",
       "\n",
       "    .dataframe tbody tr th {\n",
       "        vertical-align: top;\n",
       "    }\n",
       "\n",
       "    .dataframe thead th {\n",
       "        text-align: right;\n",
       "    }\n",
       "</style>\n",
       "<table border=\"1\" class=\"dataframe\">\n",
       "  <thead>\n",
       "    <tr style=\"text-align: right;\">\n",
       "      <th>credit_status</th>\n",
       "      <th>0</th>\n",
       "      <th>1</th>\n",
       "      <th>ratio</th>\n",
       "    </tr>\n",
       "    <tr>\n",
       "      <th>income_status</th>\n",
       "      <th></th>\n",
       "      <th></th>\n",
       "      <th></th>\n",
       "    </tr>\n",
       "  </thead>\n",
       "  <tbody>\n",
       "    <tr>\n",
       "      <td>Высокий уровень дохода</td>\n",
       "      <td>4882</td>\n",
       "      <td>481</td>\n",
       "      <td>9.852519</td>\n",
       "    </tr>\n",
       "    <tr>\n",
       "      <td>Низкий уровень дохода</td>\n",
       "      <td>4945</td>\n",
       "      <td>419</td>\n",
       "      <td>8.473205</td>\n",
       "    </tr>\n",
       "    <tr>\n",
       "      <td>Сверхвысокий уровень дохода</td>\n",
       "      <td>4981</td>\n",
       "      <td>383</td>\n",
       "      <td>7.689219</td>\n",
       "    </tr>\n",
       "    <tr>\n",
       "      <td>Средний уровень дохода</td>\n",
       "      <td>4905</td>\n",
       "      <td>458</td>\n",
       "      <td>9.337411</td>\n",
       "    </tr>\n",
       "  </tbody>\n",
       "</table>\n",
       "</div>"
      ],
      "text/plain": [
       "credit_status                   0    1     ratio\n",
       "income_status                                   \n",
       "Высокий уровень дохода       4882  481  9.852519\n",
       "Низкий уровень дохода        4945  419  8.473205\n",
       "Сверхвысокий уровень дохода  4981  383  7.689219\n",
       "Средний уровень дохода       4905  458  9.337411"
      ]
     },
     "execution_count": 59,
     "metadata": {},
     "output_type": "execute_result"
    }
   ],
   "source": [
    "monthly_income_pivot = df.pivot_table(index=['income_status'], columns=['credit_status'], values='education_id', aggfunc='count')\n",
    "monthly_income_pivot['ratio'] = monthly_income_pivot[1] / monthly_income_pivot[0] * 100\n",
    "monthly_income_pivot"
   ]
  },
  {
   "cell_type": "markdown",
   "metadata": {},
   "source": [
    "Чем больше заработок, тем хуже такие люди выплачивают кредиты (интересная находка, на самом деле)."
   ]
  },
  {
   "cell_type": "code",
   "execution_count": 60,
   "metadata": {},
   "outputs": [
    {
     "data": {
      "text/plain": [
       "Сверхвысокий уровень дохода    0.250023\n",
       "Низкий уровень дохода          0.250023\n",
       "Высокий уровень дохода         0.249977\n",
       "Средний уровень дохода         0.249977\n",
       "Name: income_status, dtype: float64"
      ]
     },
     "execution_count": 60,
     "metadata": {},
     "output_type": "execute_result"
    }
   ],
   "source": [
    "# Проверим количество людей в каждой из групп\n",
    "df['income_status'].value_counts(normalize = True)"
   ]
  },
  {
   "cell_type": "markdown",
   "metadata": {},
   "source": [
    "**Вывод** Люди со сверхвысоким уровнем дохода выплачивают кредиты лучше всего, а вот те, у кого уровень дохода средний и высокий отдают кредиты хуже. Мне не совсем ясно, почему так, но возможно, эти люди просто берут слишком большие суммы, ошибочно полагая, что их заработка хватит на выплаты по кредиты.\n",
    "Люди с низким уровнем дохода отдают кредиты неплохо: лучше, чем клиенты с высоким и средним уровнями дохода, но хуче, чем клиенты со сверхвысоким уровнем дохода"
   ]
  },
  {
   "cell_type": "markdown",
   "metadata": {},
   "source": [
    "- Как разные цели кредита влияют на его возврат в срок?"
   ]
  },
  {
   "cell_type": "code",
   "execution_count": 61,
   "metadata": {},
   "outputs": [
    {
     "data": {
      "text/html": [
       "<div>\n",
       "<style scoped>\n",
       "    .dataframe tbody tr th:only-of-type {\n",
       "        vertical-align: middle;\n",
       "    }\n",
       "\n",
       "    .dataframe tbody tr th {\n",
       "        vertical-align: top;\n",
       "    }\n",
       "\n",
       "    .dataframe thead th {\n",
       "        text-align: right;\n",
       "    }\n",
       "</style>\n",
       "<table border=\"1\" class=\"dataframe\">\n",
       "  <thead>\n",
       "    <tr style=\"text-align: right;\">\n",
       "      <th>credit_status</th>\n",
       "      <th>0</th>\n",
       "      <th>1</th>\n",
       "      <th>ratio</th>\n",
       "    </tr>\n",
       "    <tr>\n",
       "      <th>credit_purpose</th>\n",
       "      <th></th>\n",
       "      <th></th>\n",
       "      <th></th>\n",
       "    </tr>\n",
       "  </thead>\n",
       "  <tbody>\n",
       "    <tr>\n",
       "      <td>автомобиль</td>\n",
       "      <td>3903</td>\n",
       "      <td>403</td>\n",
       "      <td>10.325391</td>\n",
       "    </tr>\n",
       "    <tr>\n",
       "      <td>недвижимость</td>\n",
       "      <td>10029</td>\n",
       "      <td>782</td>\n",
       "      <td>7.797388</td>\n",
       "    </tr>\n",
       "    <tr>\n",
       "      <td>образование</td>\n",
       "      <td>3643</td>\n",
       "      <td>370</td>\n",
       "      <td>10.156464</td>\n",
       "    </tr>\n",
       "    <tr>\n",
       "      <td>свадьба</td>\n",
       "      <td>2138</td>\n",
       "      <td>186</td>\n",
       "      <td>8.699719</td>\n",
       "    </tr>\n",
       "  </tbody>\n",
       "</table>\n",
       "</div>"
      ],
      "text/plain": [
       "credit_status       0    1      ratio\n",
       "credit_purpose                       \n",
       "автомобиль       3903  403  10.325391\n",
       "недвижимость    10029  782   7.797388\n",
       "образование      3643  370  10.156464\n",
       "свадьба          2138  186   8.699719"
      ]
     },
     "execution_count": 61,
     "metadata": {},
     "output_type": "execute_result"
    }
   ],
   "source": [
    "credit_purpose_pivot = df.pivot_table(index=['credit_purpose'], columns=['credit_status'], values='education_id', aggfunc='count')\n",
    "credit_purpose_pivot['ratio'] = credit_purpose_pivot[1] / credit_purpose_pivot[0] * 100\n",
    "credit_purpose_pivot"
   ]
  },
  {
   "cell_type": "markdown",
   "metadata": {},
   "source": [
    "**Вывод** \n",
    "Заемщики, берущие кредит для приобретения/проведение операций с жильем и на свадьбу, наиболее ответственны и менее склонны нарушать обязательства по выплатам кредита в срок."
   ]
  },
  {
   "cell_type": "markdown",
   "metadata": {},
   "source": [
    "## Шаг 4. Общий вывод"
   ]
  },
  {
   "cell_type": "markdown",
   "metadata": {},
   "source": [
    "Существует зависимость между уровнем дохода, количества детей, целей на кредит и семейным положением. Слишком большой разницы по показателям не было, но возможно, если данных будет больше, то разница станет более очевидной. Это уже может внести существенное влияние на банковскую систему.\n",
    "Заемщики с официально оформленными отношениями (или которые в прошлом были в официальном в браке) и не имеющие детей - самые ответственные заемщики.Заемщики, состоящие в неофициальном браке или находящиеся без отношений, при этом имеющие 1-2 детей - наименее ответственные заемщики."
   ]
  },
  {
   "cell_type": "markdown",
   "metadata": {},
   "source": [
    "## Чек-лист готовности проекта\n",
    "\n",
    "Поставьте 'x' в выполненных пунктах. Далее нажмите Shift+Enter."
   ]
  },
  {
   "cell_type": "markdown",
   "metadata": {},
   "source": [
    "- [x]  открыт файл;\n",
    "- [x]  файл изучен;\n",
    "- [x]  определены пропущенные значения;\n",
    "- [x]  заполнены пропущенные значения;\n",
    "- [x]  есть пояснение, какие пропущенные значения обнаружены;\n",
    "- [x]  описаны возможные причины появления пропусков в данных;\n",
    "- [x]  объяснено, по какому принципу заполнены пропуски;\n",
    "- [x]  заменен вещественный тип данных на целочисленный;\n",
    "- [x]  есть пояснение, какой метод используется для изменения типа данных и почему;\n",
    "- [x]  удалены дубликаты;\n",
    "- [x]  есть пояснение, какой метод используется для поиска и удаления дубликатов;\n",
    "- [x]  описаны возможные причины появления дубликатов в данных;\n",
    "- [x]  выделены леммы в значениях столбца с целями получения кредита;\n",
    "- [x]  описан процесс лемматизации;\n",
    "- [x]  данные категоризированы;\n",
    "- [x]  есть объяснение принципа категоризации данных;\n",
    "- [x]  есть ответ на вопрос: \"Есть ли зависимость между наличием детей и возвратом кредита в срок?\";\n",
    "- [x]  есть ответ на вопрос: \"Есть ли зависимость между семейным положением и возвратом кредита в срок?\";\n",
    "- [x]  есть ответ на вопрос: \"Есть ли зависимость между уровнем дохода и возвратом кредита в срок?\";\n",
    "- [x]  есть ответ на вопрос: \"Как разные цели кредита влияют на его возврат в срок?\";\n",
    "- [x]  в каждом этапе есть выводы;\n",
    "- [x]  есть общий вывод."
   ]
  }
 ],
 "metadata": {
  "ExecuteTimeLog": [
   {
    "duration": 836,
    "start_time": "2022-01-23T13:39:14.961Z"
   },
   {
    "duration": 70,
    "start_time": "2022-01-23T13:39:32.791Z"
   },
   {
    "duration": 73,
    "start_time": "2022-01-23T13:40:28.562Z"
   },
   {
    "duration": 86,
    "start_time": "2022-01-23T13:41:37.618Z"
   },
   {
    "duration": 77,
    "start_time": "2022-01-23T13:43:16.173Z"
   },
   {
    "duration": 77,
    "start_time": "2022-01-23T13:51:27.420Z"
   },
   {
    "duration": 70,
    "start_time": "2022-01-23T14:00:07.762Z"
   },
   {
    "duration": 78,
    "start_time": "2022-01-23T14:00:51.468Z"
   },
   {
    "duration": 83,
    "start_time": "2022-01-23T14:01:04.152Z"
   },
   {
    "duration": 71,
    "start_time": "2022-01-23T14:01:17.254Z"
   },
   {
    "duration": 726,
    "start_time": "2022-01-24T18:11:12.850Z"
   },
   {
    "duration": 62,
    "start_time": "2022-01-24T18:13:12.337Z"
   },
   {
    "duration": 13,
    "start_time": "2022-01-24T18:13:15.666Z"
   },
   {
    "duration": 39,
    "start_time": "2022-01-24T18:14:36.435Z"
   },
   {
    "duration": 18,
    "start_time": "2022-01-24T18:17:35.530Z"
   },
   {
    "duration": 10,
    "start_time": "2022-01-24T18:54:34.337Z"
   },
   {
    "duration": 4,
    "start_time": "2022-01-24T18:55:00.035Z"
   },
   {
    "duration": 4,
    "start_time": "2022-01-24T18:55:08.217Z"
   },
   {
    "duration": 10,
    "start_time": "2022-01-24T18:57:23.094Z"
   },
   {
    "duration": 6090,
    "start_time": "2022-01-24T19:04:17.273Z"
   },
   {
    "duration": 12,
    "start_time": "2022-01-24T19:04:32.676Z"
   },
   {
    "duration": 6193,
    "start_time": "2022-01-24T19:04:44.593Z"
   },
   {
    "duration": 9,
    "start_time": "2022-01-24T19:05:12.083Z"
   },
   {
    "duration": 4,
    "start_time": "2022-01-24T19:05:18.888Z"
   },
   {
    "duration": 11,
    "start_time": "2022-01-24T19:05:22.502Z"
   },
   {
    "duration": 8,
    "start_time": "2022-01-24T19:05:32.754Z"
   },
   {
    "duration": 4,
    "start_time": "2022-01-24T19:05:34.928Z"
   },
   {
    "duration": 11,
    "start_time": "2022-01-24T19:05:38.233Z"
   },
   {
    "duration": 5838,
    "start_time": "2022-01-24T19:05:42.951Z"
   },
   {
    "duration": 63,
    "start_time": "2022-01-24T19:06:08.148Z"
   },
   {
    "duration": 14,
    "start_time": "2022-01-24T19:06:08.214Z"
   },
   {
    "duration": 39,
    "start_time": "2022-01-24T19:06:08.231Z"
   },
   {
    "duration": 12,
    "start_time": "2022-01-24T19:06:08.272Z"
   },
   {
    "duration": 5,
    "start_time": "2022-01-24T19:06:08.307Z"
   },
   {
    "duration": 9,
    "start_time": "2022-01-24T19:06:08.314Z"
   },
   {
    "duration": 24,
    "start_time": "2022-01-24T19:06:08.325Z"
   },
   {
    "duration": 4,
    "start_time": "2022-01-24T19:06:08.351Z"
   },
   {
    "duration": 10,
    "start_time": "2022-01-24T19:07:01.768Z"
   },
   {
    "duration": 5,
    "start_time": "2022-01-24T19:17:08.332Z"
   },
   {
    "duration": 7,
    "start_time": "2022-01-24T19:17:34.294Z"
   },
   {
    "duration": 4,
    "start_time": "2022-01-24T19:18:29.612Z"
   },
   {
    "duration": 7,
    "start_time": "2022-01-24T19:19:05.581Z"
   },
   {
    "duration": 7,
    "start_time": "2022-01-24T19:20:34.118Z"
   },
   {
    "duration": 7,
    "start_time": "2022-01-24T19:23:23.056Z"
   },
   {
    "duration": 7,
    "start_time": "2022-01-24T19:36:18.394Z"
   },
   {
    "duration": 5,
    "start_time": "2022-01-24T19:42:27.429Z"
   },
   {
    "duration": 5,
    "start_time": "2022-01-24T19:42:51.383Z"
   },
   {
    "duration": 9,
    "start_time": "2022-01-24T19:44:22.209Z"
   },
   {
    "duration": 4,
    "start_time": "2022-01-24T19:45:30.482Z"
   },
   {
    "duration": 9,
    "start_time": "2022-01-24T19:46:14.328Z"
   },
   {
    "duration": 11,
    "start_time": "2022-01-24T19:52:38.188Z"
   },
   {
    "duration": 6,
    "start_time": "2022-01-24T19:53:32.227Z"
   },
   {
    "duration": 5646,
    "start_time": "2022-01-24T19:54:38.441Z"
   },
   {
    "duration": 5,
    "start_time": "2022-01-24T19:54:51.311Z"
   },
   {
    "duration": 11,
    "start_time": "2022-01-24T19:55:52.654Z"
   },
   {
    "duration": 5878,
    "start_time": "2022-01-24T19:56:32.112Z"
   },
   {
    "duration": 6,
    "start_time": "2022-01-24T19:56:41.141Z"
   },
   {
    "duration": 13,
    "start_time": "2022-01-24T19:56:50.045Z"
   },
   {
    "duration": 6,
    "start_time": "2022-01-24T19:56:52.015Z"
   },
   {
    "duration": 13,
    "start_time": "2022-01-24T19:57:29.740Z"
   },
   {
    "duration": 8,
    "start_time": "2022-01-24T19:57:32.943Z"
   },
   {
    "duration": 68,
    "start_time": "2022-01-24T19:59:37.494Z"
   },
   {
    "duration": 14,
    "start_time": "2022-01-24T19:59:37.564Z"
   },
   {
    "duration": 43,
    "start_time": "2022-01-24T19:59:37.594Z"
   },
   {
    "duration": 12,
    "start_time": "2022-01-24T19:59:37.639Z"
   },
   {
    "duration": 7,
    "start_time": "2022-01-24T19:59:37.653Z"
   },
   {
    "duration": 4,
    "start_time": "2022-01-24T19:59:37.662Z"
   },
   {
    "duration": 44,
    "start_time": "2022-01-24T19:59:37.668Z"
   },
   {
    "duration": 9,
    "start_time": "2022-01-24T19:59:37.714Z"
   },
   {
    "duration": 11,
    "start_time": "2022-01-24T19:59:37.726Z"
   },
   {
    "duration": 6,
    "start_time": "2022-01-24T19:59:37.739Z"
   },
   {
    "duration": 9,
    "start_time": "2022-01-24T19:59:37.747Z"
   },
   {
    "duration": 11,
    "start_time": "2022-01-24T19:59:37.758Z"
   },
   {
    "duration": 38,
    "start_time": "2022-01-24T19:59:37.771Z"
   },
   {
    "duration": 13,
    "start_time": "2022-01-24T19:59:37.812Z"
   },
   {
    "duration": 9,
    "start_time": "2022-01-24T19:59:37.828Z"
   },
   {
    "duration": 12,
    "start_time": "2022-01-24T19:59:37.839Z"
   },
   {
    "duration": 21,
    "start_time": "2022-01-24T19:59:37.854Z"
   },
   {
    "duration": 15,
    "start_time": "2022-01-24T19:59:37.877Z"
   },
   {
    "duration": 22,
    "start_time": "2022-01-24T19:59:37.894Z"
   },
   {
    "duration": 8,
    "start_time": "2022-01-24T19:59:37.918Z"
   },
   {
    "duration": 8,
    "start_time": "2022-01-24T19:59:37.928Z"
   },
   {
    "duration": 12,
    "start_time": "2022-01-24T19:59:37.938Z"
   },
   {
    "duration": 12,
    "start_time": "2022-01-24T19:59:37.952Z"
   },
   {
    "duration": 4,
    "start_time": "2022-01-24T19:59:37.967Z"
   },
   {
    "duration": 38,
    "start_time": "2022-01-24T19:59:37.973Z"
   },
   {
    "duration": 10,
    "start_time": "2022-01-24T19:59:38.013Z"
   },
   {
    "duration": 7,
    "start_time": "2022-01-24T19:59:38.027Z"
   },
   {
    "duration": 14,
    "start_time": "2022-01-24T19:59:38.036Z"
   },
   {
    "duration": 228,
    "start_time": "2022-01-27T11:38:11.564Z"
   },
   {
    "duration": 623,
    "start_time": "2022-01-27T11:38:16.217Z"
   },
   {
    "duration": 11,
    "start_time": "2022-01-27T11:38:16.842Z"
   },
   {
    "duration": 32,
    "start_time": "2022-01-27T11:38:16.855Z"
   },
   {
    "duration": 24,
    "start_time": "2022-01-27T11:38:16.888Z"
   },
   {
    "duration": 9,
    "start_time": "2022-01-27T11:38:16.915Z"
   },
   {
    "duration": 4,
    "start_time": "2022-01-27T11:38:16.927Z"
   },
   {
    "duration": 11,
    "start_time": "2022-01-27T11:38:16.933Z"
   },
   {
    "duration": 5,
    "start_time": "2022-01-27T11:38:16.946Z"
   },
   {
    "duration": 19,
    "start_time": "2022-01-27T11:38:16.953Z"
   },
   {
    "duration": 6,
    "start_time": "2022-01-27T11:38:16.974Z"
   },
   {
    "duration": 33,
    "start_time": "2022-01-27T11:38:16.981Z"
   },
   {
    "duration": 9,
    "start_time": "2022-01-27T11:38:17.016Z"
   },
   {
    "duration": 243,
    "start_time": "2022-01-27T11:38:17.028Z"
   },
   {
    "duration": 2394,
    "start_time": "2022-01-27T11:38:14.879Z"
   },
   {
    "duration": 2391,
    "start_time": "2022-01-27T11:38:14.883Z"
   },
   {
    "duration": 2384,
    "start_time": "2022-01-27T11:38:14.891Z"
   },
   {
    "duration": 2383,
    "start_time": "2022-01-27T11:38:14.893Z"
   },
   {
    "duration": 2383,
    "start_time": "2022-01-27T11:38:14.894Z"
   },
   {
    "duration": 2381,
    "start_time": "2022-01-27T11:38:14.897Z"
   },
   {
    "duration": 2380,
    "start_time": "2022-01-27T11:38:14.899Z"
   },
   {
    "duration": 2380,
    "start_time": "2022-01-27T11:38:14.900Z"
   },
   {
    "duration": 2380,
    "start_time": "2022-01-27T11:38:14.901Z"
   },
   {
    "duration": 2380,
    "start_time": "2022-01-27T11:38:14.902Z"
   },
   {
    "duration": 2380,
    "start_time": "2022-01-27T11:38:14.903Z"
   },
   {
    "duration": 2380,
    "start_time": "2022-01-27T11:38:14.904Z"
   },
   {
    "duration": 2380,
    "start_time": "2022-01-27T11:38:14.905Z"
   },
   {
    "duration": 2380,
    "start_time": "2022-01-27T11:38:14.906Z"
   },
   {
    "duration": 2372,
    "start_time": "2022-01-27T11:38:14.915Z"
   },
   {
    "duration": 2372,
    "start_time": "2022-01-27T11:38:14.916Z"
   },
   {
    "duration": 11,
    "start_time": "2022-01-27T11:38:56.267Z"
   },
   {
    "duration": 6,
    "start_time": "2022-01-27T11:39:56.816Z"
   },
   {
    "duration": 4,
    "start_time": "2022-01-27T11:40:48.382Z"
   },
   {
    "duration": 50,
    "start_time": "2022-01-27T11:41:07.009Z"
   },
   {
    "duration": 11,
    "start_time": "2022-01-27T11:41:07.061Z"
   },
   {
    "duration": 41,
    "start_time": "2022-01-27T11:41:07.074Z"
   },
   {
    "duration": 10,
    "start_time": "2022-01-27T11:41:07.118Z"
   },
   {
    "duration": 6,
    "start_time": "2022-01-27T11:41:07.130Z"
   },
   {
    "duration": 3,
    "start_time": "2022-01-27T11:41:07.138Z"
   },
   {
    "duration": 10,
    "start_time": "2022-01-27T11:41:07.143Z"
   },
   {
    "duration": 5,
    "start_time": "2022-01-27T11:41:07.155Z"
   },
   {
    "duration": 49,
    "start_time": "2022-01-27T11:41:07.163Z"
   },
   {
    "duration": 4,
    "start_time": "2022-01-27T11:41:07.215Z"
   },
   {
    "duration": 6,
    "start_time": "2022-01-27T11:41:07.221Z"
   },
   {
    "duration": 6,
    "start_time": "2022-01-27T11:41:07.228Z"
   },
   {
    "duration": 10,
    "start_time": "2022-01-27T11:41:07.235Z"
   },
   {
    "duration": 8,
    "start_time": "2022-01-27T11:41:07.247Z"
   },
   {
    "duration": 4,
    "start_time": "2022-01-27T11:41:07.256Z"
   },
   {
    "duration": 7,
    "start_time": "2022-01-27T11:41:07.262Z"
   },
   {
    "duration": 5,
    "start_time": "2022-01-27T11:41:07.270Z"
   },
   {
    "duration": 39,
    "start_time": "2022-01-27T11:41:07.276Z"
   },
   {
    "duration": 5,
    "start_time": "2022-01-27T11:41:07.317Z"
   },
   {
    "duration": 7,
    "start_time": "2022-01-27T11:41:07.323Z"
   },
   {
    "duration": 7,
    "start_time": "2022-01-27T11:41:07.331Z"
   },
   {
    "duration": 3,
    "start_time": "2022-01-27T11:41:07.340Z"
   },
   {
    "duration": 6,
    "start_time": "2022-01-27T11:41:07.344Z"
   },
   {
    "duration": 7,
    "start_time": "2022-01-27T11:41:07.351Z"
   },
   {
    "duration": 2,
    "start_time": "2022-01-27T11:41:07.360Z"
   },
   {
    "duration": 9,
    "start_time": "2022-01-27T11:41:07.364Z"
   },
   {
    "duration": 4,
    "start_time": "2022-01-27T11:41:07.411Z"
   },
   {
    "duration": 5,
    "start_time": "2022-01-27T11:41:07.417Z"
   },
   {
    "duration": 5,
    "start_time": "2022-01-27T11:41:07.424Z"
   },
   {
    "duration": 5,
    "start_time": "2022-01-27T11:49:22.252Z"
   },
   {
    "duration": 4,
    "start_time": "2022-01-27T11:49:53.848Z"
   },
   {
    "duration": 13,
    "start_time": "2022-01-27T11:52:27.900Z"
   },
   {
    "duration": 7,
    "start_time": "2022-01-27T11:53:03.103Z"
   },
   {
    "duration": 4,
    "start_time": "2022-01-27T11:53:49.245Z"
   },
   {
    "duration": 10,
    "start_time": "2022-01-27T11:57:34.090Z"
   },
   {
    "duration": 5,
    "start_time": "2022-01-27T12:02:53.620Z"
   },
   {
    "duration": 7,
    "start_time": "2022-01-27T12:18:18.905Z"
   },
   {
    "duration": 5,
    "start_time": "2022-01-27T12:21:57.454Z"
   },
   {
    "duration": 12,
    "start_time": "2022-01-27T12:22:36.567Z"
   },
   {
    "duration": 14,
    "start_time": "2022-01-27T12:22:54.960Z"
   },
   {
    "duration": 8,
    "start_time": "2022-01-27T12:29:10.042Z"
   },
   {
    "duration": 9,
    "start_time": "2022-01-27T12:31:05.724Z"
   },
   {
    "duration": 9,
    "start_time": "2022-01-27T12:31:24.552Z"
   },
   {
    "duration": 9,
    "start_time": "2022-01-27T12:31:36.588Z"
   },
   {
    "duration": 9,
    "start_time": "2022-01-27T12:32:16.436Z"
   },
   {
    "duration": 9,
    "start_time": "2022-01-27T12:32:40.839Z"
   },
   {
    "duration": 8,
    "start_time": "2022-01-27T12:33:23.719Z"
   },
   {
    "duration": 14,
    "start_time": "2022-01-27T12:41:00.143Z"
   },
   {
    "duration": 5,
    "start_time": "2022-01-27T12:41:39.615Z"
   },
   {
    "duration": 209,
    "start_time": "2022-01-27T12:45:02.849Z"
   },
   {
    "duration": 16,
    "start_time": "2022-01-27T12:45:10.225Z"
   },
   {
    "duration": 19,
    "start_time": "2022-01-27T12:50:33.504Z"
   },
   {
    "duration": 25,
    "start_time": "2022-01-27T12:50:50.984Z"
   },
   {
    "duration": 14,
    "start_time": "2022-01-27T12:51:28.823Z"
   },
   {
    "duration": 5,
    "start_time": "2022-01-27T12:53:02.253Z"
   },
   {
    "duration": 5,
    "start_time": "2022-01-27T12:53:04.016Z"
   },
   {
    "duration": 53,
    "start_time": "2022-01-27T12:53:09.836Z"
   },
   {
    "duration": 12,
    "start_time": "2022-01-27T12:53:09.891Z"
   },
   {
    "duration": 32,
    "start_time": "2022-01-27T12:53:09.906Z"
   },
   {
    "duration": 9,
    "start_time": "2022-01-27T12:53:09.940Z"
   },
   {
    "duration": 7,
    "start_time": "2022-01-27T12:53:09.951Z"
   },
   {
    "duration": 4,
    "start_time": "2022-01-27T12:53:09.959Z"
   },
   {
    "duration": 10,
    "start_time": "2022-01-27T12:53:09.964Z"
   },
   {
    "duration": 4,
    "start_time": "2022-01-27T12:53:09.976Z"
   },
   {
    "duration": 40,
    "start_time": "2022-01-27T12:53:09.981Z"
   },
   {
    "duration": 4,
    "start_time": "2022-01-27T12:53:10.023Z"
   },
   {
    "duration": 5,
    "start_time": "2022-01-27T12:53:10.028Z"
   },
   {
    "duration": 6,
    "start_time": "2022-01-27T12:53:10.034Z"
   },
   {
    "duration": 13,
    "start_time": "2022-01-27T12:53:10.042Z"
   },
   {
    "duration": 8,
    "start_time": "2022-01-27T12:53:10.056Z"
   },
   {
    "duration": 7,
    "start_time": "2022-01-27T12:53:10.066Z"
   },
   {
    "duration": 39,
    "start_time": "2022-01-27T12:53:10.074Z"
   },
   {
    "duration": 9,
    "start_time": "2022-01-27T12:53:10.115Z"
   },
   {
    "duration": 6,
    "start_time": "2022-01-27T12:53:10.126Z"
   },
   {
    "duration": 6,
    "start_time": "2022-01-27T12:53:10.134Z"
   },
   {
    "duration": 8,
    "start_time": "2022-01-27T12:53:10.142Z"
   },
   {
    "duration": 7,
    "start_time": "2022-01-27T12:53:10.151Z"
   },
   {
    "duration": 4,
    "start_time": "2022-01-27T12:53:10.159Z"
   },
   {
    "duration": 3,
    "start_time": "2022-01-27T12:53:10.167Z"
   },
   {
    "duration": 42,
    "start_time": "2022-01-27T12:53:10.172Z"
   },
   {
    "duration": 4,
    "start_time": "2022-01-27T12:53:10.216Z"
   },
   {
    "duration": 14,
    "start_time": "2022-01-27T12:53:10.221Z"
   },
   {
    "duration": 8,
    "start_time": "2022-01-27T12:53:10.236Z"
   },
   {
    "duration": 4,
    "start_time": "2022-01-27T12:53:10.245Z"
   },
   {
    "duration": 8,
    "start_time": "2022-01-27T12:53:10.251Z"
   },
   {
    "duration": 7,
    "start_time": "2022-01-27T12:53:10.261Z"
   },
   {
    "duration": 10,
    "start_time": "2022-01-27T12:53:10.270Z"
   },
   {
    "duration": 37,
    "start_time": "2022-01-27T12:53:10.281Z"
   },
   {
    "duration": 12,
    "start_time": "2022-01-27T12:53:10.319Z"
   },
   {
    "duration": 4,
    "start_time": "2022-01-27T12:53:10.333Z"
   },
   {
    "duration": 9,
    "start_time": "2022-01-27T12:53:10.338Z"
   },
   {
    "duration": 2,
    "start_time": "2022-01-27T12:53:10.349Z"
   },
   {
    "duration": 9,
    "start_time": "2022-01-27T12:53:10.353Z"
   },
   {
    "duration": 3,
    "start_time": "2022-01-27T12:53:10.364Z"
   },
   {
    "duration": 46,
    "start_time": "2022-01-27T12:53:10.369Z"
   },
   {
    "duration": 3,
    "start_time": "2022-01-27T12:53:10.417Z"
   },
   {
    "duration": 16,
    "start_time": "2022-01-27T12:53:10.422Z"
   },
   {
    "duration": 5,
    "start_time": "2022-01-27T12:53:10.439Z"
   },
   {
    "duration": 6,
    "start_time": "2022-01-27T12:53:10.446Z"
   },
   {
    "duration": 17,
    "start_time": "2022-01-27T12:53:10.453Z"
   },
   {
    "duration": 56,
    "start_time": "2022-01-27T12:53:10.472Z"
   },
   {
    "duration": 16,
    "start_time": "2022-01-27T12:53:10.530Z"
   },
   {
    "duration": 13,
    "start_time": "2022-01-27T12:53:10.547Z"
   },
   {
    "duration": 5,
    "start_time": "2022-01-27T13:01:49.657Z"
   },
   {
    "duration": 47,
    "start_time": "2022-01-27T13:06:30.156Z"
   },
   {
    "duration": 45,
    "start_time": "2022-01-27T13:06:34.071Z"
   },
   {
    "duration": 11,
    "start_time": "2022-01-27T13:06:34.118Z"
   },
   {
    "duration": 30,
    "start_time": "2022-01-27T13:06:34.131Z"
   },
   {
    "duration": 10,
    "start_time": "2022-01-27T13:06:34.163Z"
   },
   {
    "duration": 6,
    "start_time": "2022-01-27T13:06:34.175Z"
   },
   {
    "duration": 3,
    "start_time": "2022-01-27T13:06:34.183Z"
   },
   {
    "duration": 10,
    "start_time": "2022-01-27T13:06:34.211Z"
   },
   {
    "duration": 7,
    "start_time": "2022-01-27T13:06:34.222Z"
   },
   {
    "duration": 12,
    "start_time": "2022-01-27T13:06:34.231Z"
   },
   {
    "duration": 3,
    "start_time": "2022-01-27T13:06:34.245Z"
   },
   {
    "duration": 4,
    "start_time": "2022-01-27T13:06:34.250Z"
   },
   {
    "duration": 6,
    "start_time": "2022-01-27T13:06:34.255Z"
   },
   {
    "duration": 11,
    "start_time": "2022-01-27T13:06:34.262Z"
   },
   {
    "duration": 39,
    "start_time": "2022-01-27T13:06:34.274Z"
   },
   {
    "duration": 3,
    "start_time": "2022-01-27T13:06:34.314Z"
   },
   {
    "duration": 6,
    "start_time": "2022-01-27T13:06:34.319Z"
   },
   {
    "duration": 3,
    "start_time": "2022-01-27T13:06:34.326Z"
   },
   {
    "duration": 6,
    "start_time": "2022-01-27T13:06:34.330Z"
   },
   {
    "duration": 5,
    "start_time": "2022-01-27T13:06:34.337Z"
   },
   {
    "duration": 5,
    "start_time": "2022-01-27T13:06:34.344Z"
   },
   {
    "duration": 4,
    "start_time": "2022-01-27T13:06:34.351Z"
   },
   {
    "duration": 6,
    "start_time": "2022-01-27T13:06:34.356Z"
   },
   {
    "duration": 6,
    "start_time": "2022-01-27T13:06:34.363Z"
   },
   {
    "duration": 43,
    "start_time": "2022-01-27T13:06:34.370Z"
   },
   {
    "duration": 6,
    "start_time": "2022-01-27T13:06:34.414Z"
   },
   {
    "duration": 12,
    "start_time": "2022-01-27T13:06:34.421Z"
   },
   {
    "duration": 6,
    "start_time": "2022-01-27T13:06:34.436Z"
   },
   {
    "duration": 4,
    "start_time": "2022-01-27T13:06:34.444Z"
   },
   {
    "duration": 6,
    "start_time": "2022-01-27T13:06:34.450Z"
   },
   {
    "duration": 5,
    "start_time": "2022-01-27T13:06:34.457Z"
   },
   {
    "duration": 6,
    "start_time": "2022-01-27T13:06:34.464Z"
   },
   {
    "duration": 8,
    "start_time": "2022-01-27T13:06:34.512Z"
   },
   {
    "duration": 13,
    "start_time": "2022-01-27T13:06:34.521Z"
   },
   {
    "duration": 4,
    "start_time": "2022-01-27T13:06:34.536Z"
   },
   {
    "duration": 9,
    "start_time": "2022-01-27T13:06:34.541Z"
   },
   {
    "duration": 3,
    "start_time": "2022-01-27T13:06:34.551Z"
   },
   {
    "duration": 12,
    "start_time": "2022-01-27T13:06:34.555Z"
   },
   {
    "duration": 4,
    "start_time": "2022-01-27T13:06:34.568Z"
   },
   {
    "duration": 41,
    "start_time": "2022-01-27T13:06:34.574Z"
   },
   {
    "duration": 6,
    "start_time": "2022-01-27T13:06:34.616Z"
   },
   {
    "duration": 16,
    "start_time": "2022-01-27T13:06:34.623Z"
   },
   {
    "duration": 6,
    "start_time": "2022-01-27T13:06:34.640Z"
   },
   {
    "duration": 9,
    "start_time": "2022-01-27T13:06:34.647Z"
   },
   {
    "duration": 17,
    "start_time": "2022-01-27T13:06:34.657Z"
   },
   {
    "duration": 48,
    "start_time": "2022-01-27T13:06:34.675Z"
   },
   {
    "duration": 16,
    "start_time": "2022-01-27T13:06:34.724Z"
   },
   {
    "duration": 13,
    "start_time": "2022-01-27T13:06:34.741Z"
   },
   {
    "duration": 7,
    "start_time": "2022-01-27T13:06:34.755Z"
   },
   {
    "duration": 214,
    "start_time": "2022-01-27T13:07:05.471Z"
   },
   {
    "duration": 3142,
    "start_time": "2022-01-27T13:07:45.622Z"
   },
   {
    "duration": 3241,
    "start_time": "2022-01-27T13:08:37.440Z"
   },
   {
    "duration": 3254,
    "start_time": "2022-01-27T13:09:45.111Z"
   },
   {
    "duration": 3202,
    "start_time": "2022-01-27T13:10:39.381Z"
   },
   {
    "duration": 3465,
    "start_time": "2022-01-27T13:11:00.965Z"
   },
   {
    "duration": 3408,
    "start_time": "2022-01-27T13:11:15.358Z"
   },
   {
    "duration": 217,
    "start_time": "2022-01-27T13:26:14.027Z"
   },
   {
    "duration": 606,
    "start_time": "2022-01-27T13:26:53.663Z"
   },
   {
    "duration": 5,
    "start_time": "2022-01-27T13:26:59.365Z"
   },
   {
    "duration": 6,
    "start_time": "2022-01-27T13:29:25.147Z"
   },
   {
    "duration": 5,
    "start_time": "2022-01-27T13:29:43.485Z"
   },
   {
    "duration": 5,
    "start_time": "2022-01-27T13:30:12.956Z"
   },
   {
    "duration": 4,
    "start_time": "2022-01-27T13:32:09.423Z"
   },
   {
    "duration": 5,
    "start_time": "2022-01-27T13:32:40.175Z"
   },
   {
    "duration": 5,
    "start_time": "2022-01-27T13:36:46.650Z"
   },
   {
    "duration": 71,
    "start_time": "2022-01-27T14:03:58.703Z"
   },
   {
    "duration": 250,
    "start_time": "2022-01-27T14:04:10.076Z"
   },
   {
    "duration": 46,
    "start_time": "2022-01-27T14:04:35.737Z"
   },
   {
    "duration": 12,
    "start_time": "2022-01-27T14:04:35.784Z"
   },
   {
    "duration": 32,
    "start_time": "2022-01-27T14:04:35.798Z"
   },
   {
    "duration": 10,
    "start_time": "2022-01-27T14:04:35.832Z"
   },
   {
    "duration": 9,
    "start_time": "2022-01-27T14:04:35.843Z"
   },
   {
    "duration": 5,
    "start_time": "2022-01-27T14:04:35.853Z"
   },
   {
    "duration": 10,
    "start_time": "2022-01-27T14:04:35.860Z"
   },
   {
    "duration": 4,
    "start_time": "2022-01-27T14:04:35.873Z"
   },
   {
    "duration": 36,
    "start_time": "2022-01-27T14:04:35.879Z"
   },
   {
    "duration": 4,
    "start_time": "2022-01-27T14:04:35.917Z"
   },
   {
    "duration": 4,
    "start_time": "2022-01-27T14:04:35.923Z"
   },
   {
    "duration": 5,
    "start_time": "2022-01-27T14:04:35.929Z"
   },
   {
    "duration": 11,
    "start_time": "2022-01-27T14:04:35.936Z"
   },
   {
    "duration": 9,
    "start_time": "2022-01-27T14:04:35.949Z"
   },
   {
    "duration": 4,
    "start_time": "2022-01-27T14:04:35.960Z"
   },
   {
    "duration": 6,
    "start_time": "2022-01-27T14:04:35.965Z"
   },
   {
    "duration": 3,
    "start_time": "2022-01-27T14:04:36.012Z"
   },
   {
    "duration": 8,
    "start_time": "2022-01-27T14:04:36.016Z"
   },
   {
    "duration": 5,
    "start_time": "2022-01-27T14:04:36.025Z"
   },
   {
    "duration": 10,
    "start_time": "2022-01-27T14:04:36.032Z"
   },
   {
    "duration": 5,
    "start_time": "2022-01-27T14:04:36.044Z"
   },
   {
    "duration": 3,
    "start_time": "2022-01-27T14:04:36.051Z"
   },
   {
    "duration": 4,
    "start_time": "2022-01-27T14:04:36.056Z"
   },
   {
    "duration": 4,
    "start_time": "2022-01-27T14:04:36.062Z"
   },
   {
    "duration": 4,
    "start_time": "2022-01-27T14:04:36.067Z"
   },
   {
    "duration": 16,
    "start_time": "2022-01-27T14:04:36.113Z"
   },
   {
    "duration": 12,
    "start_time": "2022-01-27T14:04:36.131Z"
   },
   {
    "duration": 5,
    "start_time": "2022-01-27T14:04:36.145Z"
   },
   {
    "duration": 7,
    "start_time": "2022-01-27T14:04:36.152Z"
   },
   {
    "duration": 6,
    "start_time": "2022-01-27T14:04:36.160Z"
   },
   {
    "duration": 7,
    "start_time": "2022-01-27T14:04:36.168Z"
   },
   {
    "duration": 9,
    "start_time": "2022-01-27T14:04:36.212Z"
   },
   {
    "duration": 14,
    "start_time": "2022-01-27T14:04:36.222Z"
   },
   {
    "duration": 4,
    "start_time": "2022-01-27T14:04:36.237Z"
   },
   {
    "duration": 11,
    "start_time": "2022-01-27T14:04:36.243Z"
   },
   {
    "duration": 3,
    "start_time": "2022-01-27T14:04:36.255Z"
   },
   {
    "duration": 11,
    "start_time": "2022-01-27T14:04:36.260Z"
   },
   {
    "duration": 41,
    "start_time": "2022-01-27T14:04:36.272Z"
   },
   {
    "duration": 7,
    "start_time": "2022-01-27T14:04:36.315Z"
   },
   {
    "duration": 4,
    "start_time": "2022-01-27T14:04:36.324Z"
   },
   {
    "duration": 18,
    "start_time": "2022-01-27T14:04:36.330Z"
   },
   {
    "duration": 8,
    "start_time": "2022-01-27T14:04:36.350Z"
   },
   {
    "duration": 14,
    "start_time": "2022-01-27T14:04:36.360Z"
   },
   {
    "duration": 44,
    "start_time": "2022-01-27T14:04:36.375Z"
   },
   {
    "duration": 20,
    "start_time": "2022-01-27T14:04:36.421Z"
   },
   {
    "duration": 21,
    "start_time": "2022-01-27T14:04:36.443Z"
   },
   {
    "duration": 13,
    "start_time": "2022-01-27T14:04:36.466Z"
   },
   {
    "duration": 8,
    "start_time": "2022-01-27T14:04:36.481Z"
   },
   {
    "duration": 3222,
    "start_time": "2022-01-27T14:04:36.513Z"
   },
   {
    "duration": 186,
    "start_time": "2022-01-27T14:04:39.737Z"
   },
   {
    "duration": 588,
    "start_time": "2022-01-27T14:05:38.557Z"
   },
   {
    "duration": 583,
    "start_time": "2022-01-27T14:08:45.193Z"
   },
   {
    "duration": 13,
    "start_time": "2022-01-27T14:10:06.297Z"
   },
   {
    "duration": 256,
    "start_time": "2022-01-27T15:46:25.892Z"
   },
   {
    "duration": 13,
    "start_time": "2022-01-27T15:46:39.715Z"
   },
   {
    "duration": 392,
    "start_time": "2022-01-27T16:07:56.587Z"
   },
   {
    "duration": 409,
    "start_time": "2022-01-27T16:08:53.616Z"
   },
   {
    "duration": 252,
    "start_time": "2022-01-27T16:09:16.964Z"
   },
   {
    "duration": 13,
    "start_time": "2022-01-27T16:09:42.386Z"
   },
   {
    "duration": 12,
    "start_time": "2022-01-27T16:10:52.630Z"
   },
   {
    "duration": 15,
    "start_time": "2022-01-27T16:11:43.333Z"
   },
   {
    "duration": 18,
    "start_time": "2022-01-27T16:12:46.731Z"
   },
   {
    "duration": 33,
    "start_time": "2022-01-27T16:21:54.204Z"
   },
   {
    "duration": 13,
    "start_time": "2022-01-27T16:22:34.318Z"
   },
   {
    "duration": 196,
    "start_time": "2022-01-27T16:23:26.847Z"
   },
   {
    "duration": 207,
    "start_time": "2022-01-27T16:23:57.466Z"
   },
   {
    "duration": 8,
    "start_time": "2022-01-27T16:24:04.021Z"
   },
   {
    "duration": 10,
    "start_time": "2022-01-27T16:24:27.824Z"
   },
   {
    "duration": 25,
    "start_time": "2022-01-27T16:27:09.614Z"
   },
   {
    "duration": 20,
    "start_time": "2022-01-27T16:31:12.807Z"
   },
   {
    "duration": 6,
    "start_time": "2022-01-27T16:37:27.942Z"
   },
   {
    "duration": 215,
    "start_time": "2022-01-27T16:40:14.433Z"
   },
   {
    "duration": 9,
    "start_time": "2022-01-27T16:40:37.721Z"
   },
   {
    "duration": 13,
    "start_time": "2022-01-27T16:40:51.960Z"
   },
   {
    "duration": 46,
    "start_time": "2022-01-27T16:41:49.367Z"
   },
   {
    "duration": 11,
    "start_time": "2022-01-27T16:41:49.414Z"
   },
   {
    "duration": 32,
    "start_time": "2022-01-27T16:41:49.427Z"
   },
   {
    "duration": 9,
    "start_time": "2022-01-27T16:41:49.461Z"
   },
   {
    "duration": 5,
    "start_time": "2022-01-27T16:41:49.471Z"
   },
   {
    "duration": 37,
    "start_time": "2022-01-27T16:41:49.477Z"
   },
   {
    "duration": 9,
    "start_time": "2022-01-27T16:41:49.516Z"
   },
   {
    "duration": 4,
    "start_time": "2022-01-27T16:41:49.527Z"
   },
   {
    "duration": 9,
    "start_time": "2022-01-27T16:41:49.532Z"
   },
   {
    "duration": 4,
    "start_time": "2022-01-27T16:41:49.543Z"
   },
   {
    "duration": 4,
    "start_time": "2022-01-27T16:41:49.548Z"
   },
   {
    "duration": 5,
    "start_time": "2022-01-27T16:41:49.553Z"
   },
   {
    "duration": 10,
    "start_time": "2022-01-27T16:41:49.559Z"
   },
   {
    "duration": 43,
    "start_time": "2022-01-27T16:41:49.570Z"
   },
   {
    "duration": 4,
    "start_time": "2022-01-27T16:41:49.615Z"
   },
   {
    "duration": 6,
    "start_time": "2022-01-27T16:41:49.620Z"
   },
   {
    "duration": 3,
    "start_time": "2022-01-27T16:41:49.628Z"
   },
   {
    "duration": 4,
    "start_time": "2022-01-27T16:41:49.634Z"
   },
   {
    "duration": 7,
    "start_time": "2022-01-27T16:41:49.640Z"
   },
   {
    "duration": 7,
    "start_time": "2022-01-27T16:41:49.649Z"
   },
   {
    "duration": 4,
    "start_time": "2022-01-27T16:41:49.657Z"
   },
   {
    "duration": 4,
    "start_time": "2022-01-27T16:41:49.663Z"
   },
   {
    "duration": 45,
    "start_time": "2022-01-27T16:41:49.668Z"
   },
   {
    "duration": 6,
    "start_time": "2022-01-27T16:41:49.714Z"
   },
   {
    "duration": 4,
    "start_time": "2022-01-27T16:41:49.722Z"
   },
   {
    "duration": 12,
    "start_time": "2022-01-27T16:41:49.727Z"
   },
   {
    "duration": 6,
    "start_time": "2022-01-27T16:41:49.741Z"
   },
   {
    "duration": 4,
    "start_time": "2022-01-27T16:41:49.749Z"
   },
   {
    "duration": 6,
    "start_time": "2022-01-27T16:41:49.754Z"
   },
   {
    "duration": 4,
    "start_time": "2022-01-27T16:41:49.762Z"
   },
   {
    "duration": 49,
    "start_time": "2022-01-27T16:41:49.767Z"
   },
   {
    "duration": 8,
    "start_time": "2022-01-27T16:41:49.818Z"
   },
   {
    "duration": 13,
    "start_time": "2022-01-27T16:41:49.828Z"
   },
   {
    "duration": 4,
    "start_time": "2022-01-27T16:41:49.842Z"
   },
   {
    "duration": 9,
    "start_time": "2022-01-27T16:41:49.847Z"
   },
   {
    "duration": 3,
    "start_time": "2022-01-27T16:41:49.857Z"
   },
   {
    "duration": 9,
    "start_time": "2022-01-27T16:41:49.861Z"
   },
   {
    "duration": 4,
    "start_time": "2022-01-27T16:41:49.871Z"
   },
   {
    "duration": 40,
    "start_time": "2022-01-27T16:41:49.876Z"
   },
   {
    "duration": 5,
    "start_time": "2022-01-27T16:41:49.918Z"
   },
   {
    "duration": 15,
    "start_time": "2022-01-27T16:41:49.924Z"
   },
   {
    "duration": 5,
    "start_time": "2022-01-27T16:41:49.941Z"
   },
   {
    "duration": 4,
    "start_time": "2022-01-27T16:41:49.947Z"
   },
   {
    "duration": 14,
    "start_time": "2022-01-27T16:41:49.953Z"
   },
   {
    "duration": 50,
    "start_time": "2022-01-27T16:41:49.969Z"
   },
   {
    "duration": 15,
    "start_time": "2022-01-27T16:41:50.021Z"
   },
   {
    "duration": 11,
    "start_time": "2022-01-27T16:41:50.038Z"
   },
   {
    "duration": 6,
    "start_time": "2022-01-27T16:41:50.051Z"
   },
   {
    "duration": 3111,
    "start_time": "2022-01-27T16:41:50.059Z"
   },
   {
    "duration": 577,
    "start_time": "2022-01-27T16:41:53.172Z"
   },
   {
    "duration": 2761,
    "start_time": "2022-01-27T16:41:53.753Z"
   },
   {
    "duration": 2285,
    "start_time": "2022-01-27T16:41:54.231Z"
   },
   {
    "duration": 2285,
    "start_time": "2022-01-27T16:41:54.232Z"
   },
   {
    "duration": 2284,
    "start_time": "2022-01-27T16:41:54.234Z"
   },
   {
    "duration": 2284,
    "start_time": "2022-01-27T16:41:54.235Z"
   },
   {
    "duration": 2284,
    "start_time": "2022-01-27T16:41:54.236Z"
   },
   {
    "duration": 2283,
    "start_time": "2022-01-27T16:41:54.238Z"
   },
   {
    "duration": 260,
    "start_time": "2022-01-27T16:44:06.846Z"
   },
   {
    "duration": 57,
    "start_time": "2022-01-27T16:44:11.245Z"
   },
   {
    "duration": 13,
    "start_time": "2022-01-27T16:44:11.304Z"
   },
   {
    "duration": 32,
    "start_time": "2022-01-27T16:44:11.320Z"
   },
   {
    "duration": 14,
    "start_time": "2022-01-27T16:44:11.354Z"
   },
   {
    "duration": 7,
    "start_time": "2022-01-27T16:44:11.369Z"
   },
   {
    "duration": 4,
    "start_time": "2022-01-27T16:44:11.378Z"
   },
   {
    "duration": 35,
    "start_time": "2022-01-27T16:44:11.384Z"
   },
   {
    "duration": 3,
    "start_time": "2022-01-27T16:44:11.422Z"
   },
   {
    "duration": 10,
    "start_time": "2022-01-27T16:44:11.427Z"
   },
   {
    "duration": 4,
    "start_time": "2022-01-27T16:44:11.438Z"
   },
   {
    "duration": 6,
    "start_time": "2022-01-27T16:44:11.444Z"
   },
   {
    "duration": 5,
    "start_time": "2022-01-27T16:44:11.451Z"
   },
   {
    "duration": 55,
    "start_time": "2022-01-27T16:44:11.458Z"
   },
   {
    "duration": 6,
    "start_time": "2022-01-27T16:44:11.515Z"
   },
   {
    "duration": 5,
    "start_time": "2022-01-27T16:44:11.523Z"
   },
   {
    "duration": 6,
    "start_time": "2022-01-27T16:44:11.530Z"
   },
   {
    "duration": 6,
    "start_time": "2022-01-27T16:44:11.537Z"
   },
   {
    "duration": 6,
    "start_time": "2022-01-27T16:44:11.545Z"
   },
   {
    "duration": 6,
    "start_time": "2022-01-27T16:44:11.553Z"
   },
   {
    "duration": 7,
    "start_time": "2022-01-27T16:44:11.561Z"
   },
   {
    "duration": 45,
    "start_time": "2022-01-27T16:44:11.570Z"
   },
   {
    "duration": 4,
    "start_time": "2022-01-27T16:44:11.617Z"
   },
   {
    "duration": 4,
    "start_time": "2022-01-27T16:44:11.624Z"
   },
   {
    "duration": 6,
    "start_time": "2022-01-27T16:44:11.630Z"
   },
   {
    "duration": 4,
    "start_time": "2022-01-27T16:44:11.637Z"
   },
   {
    "duration": 12,
    "start_time": "2022-01-27T16:44:11.642Z"
   },
   {
    "duration": 8,
    "start_time": "2022-01-27T16:44:11.655Z"
   },
   {
    "duration": 6,
    "start_time": "2022-01-27T16:44:11.664Z"
   },
   {
    "duration": 43,
    "start_time": "2022-01-27T16:44:11.672Z"
   },
   {
    "duration": 4,
    "start_time": "2022-01-27T16:44:11.717Z"
   },
   {
    "duration": 8,
    "start_time": "2022-01-27T16:44:11.722Z"
   },
   {
    "duration": 7,
    "start_time": "2022-01-27T16:44:11.731Z"
   },
   {
    "duration": 11,
    "start_time": "2022-01-27T16:44:11.740Z"
   },
   {
    "duration": 5,
    "start_time": "2022-01-27T16:44:11.752Z"
   },
   {
    "duration": 9,
    "start_time": "2022-01-27T16:44:11.758Z"
   },
   {
    "duration": 3,
    "start_time": "2022-01-27T16:44:11.768Z"
   },
   {
    "duration": 47,
    "start_time": "2022-01-27T16:44:11.772Z"
   },
   {
    "duration": 4,
    "start_time": "2022-01-27T16:44:11.820Z"
   },
   {
    "duration": 5,
    "start_time": "2022-01-27T16:44:11.826Z"
   },
   {
    "duration": 3,
    "start_time": "2022-01-27T16:44:11.833Z"
   },
   {
    "duration": 15,
    "start_time": "2022-01-27T16:44:11.837Z"
   },
   {
    "duration": 5,
    "start_time": "2022-01-27T16:44:11.854Z"
   },
   {
    "duration": 8,
    "start_time": "2022-01-27T16:44:11.860Z"
   },
   {
    "duration": 46,
    "start_time": "2022-01-27T16:44:11.869Z"
   },
   {
    "duration": 19,
    "start_time": "2022-01-27T16:44:11.916Z"
   },
   {
    "duration": 16,
    "start_time": "2022-01-27T16:44:11.936Z"
   },
   {
    "duration": 12,
    "start_time": "2022-01-27T16:44:11.954Z"
   },
   {
    "duration": 7,
    "start_time": "2022-01-27T16:44:11.968Z"
   },
   {
    "duration": 3068,
    "start_time": "2022-01-27T16:44:11.976Z"
   },
   {
    "duration": 599,
    "start_time": "2022-01-27T16:44:15.046Z"
   },
   {
    "duration": 259,
    "start_time": "2022-01-27T16:44:15.647Z"
   },
   {
    "duration": 2654,
    "start_time": "2022-01-27T16:44:15.908Z"
   },
   {
    "duration": 2288,
    "start_time": "2022-01-27T16:44:16.276Z"
   },
   {
    "duration": 2287,
    "start_time": "2022-01-27T16:44:16.278Z"
   },
   {
    "duration": 2287,
    "start_time": "2022-01-27T16:44:16.279Z"
   },
   {
    "duration": 2286,
    "start_time": "2022-01-27T16:44:16.281Z"
   },
   {
    "duration": 2286,
    "start_time": "2022-01-27T16:44:16.282Z"
   },
   {
    "duration": 364,
    "start_time": "2022-01-27T16:44:46.772Z"
   },
   {
    "duration": 2687,
    "start_time": "2022-01-27T16:45:18.408Z"
   },
   {
    "duration": 376,
    "start_time": "2022-01-27T16:45:27.625Z"
   },
   {
    "duration": 45,
    "start_time": "2022-01-27T16:45:39.855Z"
   },
   {
    "duration": 12,
    "start_time": "2022-01-27T16:45:39.902Z"
   },
   {
    "duration": 45,
    "start_time": "2022-01-27T16:45:39.917Z"
   },
   {
    "duration": 15,
    "start_time": "2022-01-27T16:45:39.964Z"
   },
   {
    "duration": 6,
    "start_time": "2022-01-27T16:45:39.980Z"
   },
   {
    "duration": 25,
    "start_time": "2022-01-27T16:45:39.988Z"
   },
   {
    "duration": 13,
    "start_time": "2022-01-27T16:45:40.016Z"
   },
   {
    "duration": 5,
    "start_time": "2022-01-27T16:45:40.032Z"
   },
   {
    "duration": 14,
    "start_time": "2022-01-27T16:45:40.039Z"
   },
   {
    "duration": 4,
    "start_time": "2022-01-27T16:45:40.055Z"
   },
   {
    "duration": 5,
    "start_time": "2022-01-27T16:45:40.061Z"
   },
   {
    "duration": 48,
    "start_time": "2022-01-27T16:45:40.067Z"
   },
   {
    "duration": 12,
    "start_time": "2022-01-27T16:45:40.117Z"
   },
   {
    "duration": 8,
    "start_time": "2022-01-27T16:45:40.131Z"
   },
   {
    "duration": 10,
    "start_time": "2022-01-27T16:45:40.141Z"
   },
   {
    "duration": 7,
    "start_time": "2022-01-27T16:45:40.152Z"
   },
   {
    "duration": 4,
    "start_time": "2022-01-27T16:45:40.160Z"
   },
   {
    "duration": 6,
    "start_time": "2022-01-27T16:45:40.166Z"
   },
   {
    "duration": 44,
    "start_time": "2022-01-27T16:45:40.174Z"
   },
   {
    "duration": 9,
    "start_time": "2022-01-27T16:45:40.220Z"
   },
   {
    "duration": 6,
    "start_time": "2022-01-27T16:45:40.231Z"
   },
   {
    "duration": 7,
    "start_time": "2022-01-27T16:45:40.239Z"
   },
   {
    "duration": 4,
    "start_time": "2022-01-27T16:45:40.249Z"
   },
   {
    "duration": 5,
    "start_time": "2022-01-27T16:45:40.256Z"
   },
   {
    "duration": 6,
    "start_time": "2022-01-27T16:45:40.262Z"
   },
   {
    "duration": 11,
    "start_time": "2022-01-27T16:45:40.312Z"
   },
   {
    "duration": 9,
    "start_time": "2022-01-27T16:45:40.325Z"
   },
   {
    "duration": 5,
    "start_time": "2022-01-27T16:45:40.336Z"
   },
   {
    "duration": 14,
    "start_time": "2022-01-27T16:45:40.343Z"
   },
   {
    "duration": 6,
    "start_time": "2022-01-27T16:45:40.359Z"
   },
   {
    "duration": 9,
    "start_time": "2022-01-27T16:45:40.367Z"
   },
   {
    "duration": 43,
    "start_time": "2022-01-27T16:45:40.378Z"
   },
   {
    "duration": 50,
    "start_time": "2022-01-27T16:45:40.423Z"
   },
   {
    "duration": 5,
    "start_time": "2022-01-27T16:45:40.475Z"
   },
   {
    "duration": 11,
    "start_time": "2022-01-27T16:45:40.482Z"
   },
   {
    "duration": 3,
    "start_time": "2022-01-27T16:45:40.495Z"
   },
   {
    "duration": 9,
    "start_time": "2022-01-27T16:45:40.500Z"
   },
   {
    "duration": 5,
    "start_time": "2022-01-27T16:45:40.511Z"
   },
   {
    "duration": 9,
    "start_time": "2022-01-27T16:45:40.518Z"
   },
   {
    "duration": 5,
    "start_time": "2022-01-27T16:45:40.529Z"
   },
   {
    "duration": 29,
    "start_time": "2022-01-27T16:45:40.536Z"
   },
   {
    "duration": 7,
    "start_time": "2022-01-27T16:45:40.567Z"
   },
   {
    "duration": 6,
    "start_time": "2022-01-27T16:45:40.575Z"
   },
   {
    "duration": 46,
    "start_time": "2022-01-27T16:45:40.583Z"
   },
   {
    "duration": 18,
    "start_time": "2022-01-27T16:45:40.631Z"
   },
   {
    "duration": 20,
    "start_time": "2022-01-27T16:45:40.651Z"
   },
   {
    "duration": 12,
    "start_time": "2022-01-27T16:45:40.673Z"
   },
   {
    "duration": 30,
    "start_time": "2022-01-27T16:45:40.687Z"
   },
   {
    "duration": 3748,
    "start_time": "2022-01-27T16:45:40.718Z"
   },
   {
    "duration": 628,
    "start_time": "2022-01-27T16:45:44.468Z"
   },
   {
    "duration": 268,
    "start_time": "2022-01-27T16:45:45.098Z"
   },
   {
    "duration": 282,
    "start_time": "2022-01-27T16:45:45.368Z"
   },
   {
    "duration": 8,
    "start_time": "2022-01-27T16:45:45.652Z"
   },
   {
    "duration": 13,
    "start_time": "2022-01-27T16:45:45.663Z"
   },
   {
    "duration": 39,
    "start_time": "2022-01-27T16:45:45.678Z"
   },
   {
    "duration": 40,
    "start_time": "2022-01-27T16:45:45.720Z"
   },
   {
    "duration": 21,
    "start_time": "2022-01-27T16:45:45.761Z"
   },
   {
    "duration": 19,
    "start_time": "2022-01-27T16:51:24.507Z"
   },
   {
    "duration": 19,
    "start_time": "2022-01-27T16:51:39.594Z"
   },
   {
    "duration": 204,
    "start_time": "2022-01-27T16:55:04.607Z"
   },
   {
    "duration": 219,
    "start_time": "2022-01-27T16:55:29.556Z"
   },
   {
    "duration": 18,
    "start_time": "2022-01-27T16:56:36.087Z"
   },
   {
    "duration": 7,
    "start_time": "2022-01-27T16:58:30.694Z"
   },
   {
    "duration": 30,
    "start_time": "2022-01-27T17:04:39.026Z"
   },
   {
    "duration": 50,
    "start_time": "2022-01-27T17:29:41.625Z"
   },
   {
    "duration": 13,
    "start_time": "2022-01-27T17:29:41.677Z"
   },
   {
    "duration": 48,
    "start_time": "2022-01-27T17:29:41.693Z"
   },
   {
    "duration": 10,
    "start_time": "2022-01-27T17:29:41.743Z"
   },
   {
    "duration": 6,
    "start_time": "2022-01-27T17:29:41.754Z"
   },
   {
    "duration": 4,
    "start_time": "2022-01-27T17:29:41.761Z"
   },
   {
    "duration": 8,
    "start_time": "2022-01-27T17:29:41.767Z"
   },
   {
    "duration": 36,
    "start_time": "2022-01-27T17:29:41.778Z"
   },
   {
    "duration": 9,
    "start_time": "2022-01-27T17:29:41.816Z"
   },
   {
    "duration": 4,
    "start_time": "2022-01-27T17:29:41.827Z"
   },
   {
    "duration": 4,
    "start_time": "2022-01-27T17:29:41.832Z"
   },
   {
    "duration": 5,
    "start_time": "2022-01-27T17:29:41.838Z"
   },
   {
    "duration": 11,
    "start_time": "2022-01-27T17:29:41.844Z"
   },
   {
    "duration": 8,
    "start_time": "2022-01-27T17:29:41.856Z"
   },
   {
    "duration": 6,
    "start_time": "2022-01-27T17:29:41.865Z"
   },
   {
    "duration": 43,
    "start_time": "2022-01-27T17:29:41.873Z"
   },
   {
    "duration": 4,
    "start_time": "2022-01-27T17:29:41.918Z"
   },
   {
    "duration": 6,
    "start_time": "2022-01-27T17:29:41.924Z"
   },
   {
    "duration": 6,
    "start_time": "2022-01-27T17:29:41.931Z"
   },
   {
    "duration": 7,
    "start_time": "2022-01-27T17:29:41.939Z"
   },
   {
    "duration": 6,
    "start_time": "2022-01-27T17:29:41.948Z"
   },
   {
    "duration": 5,
    "start_time": "2022-01-27T17:29:41.955Z"
   },
   {
    "duration": 48,
    "start_time": "2022-01-27T17:29:41.965Z"
   },
   {
    "duration": 6,
    "start_time": "2022-01-27T17:29:42.017Z"
   },
   {
    "duration": 4,
    "start_time": "2022-01-27T17:29:42.025Z"
   },
   {
    "duration": 14,
    "start_time": "2022-01-27T17:29:42.031Z"
   },
   {
    "duration": 9,
    "start_time": "2022-01-27T17:29:42.046Z"
   },
   {
    "duration": 5,
    "start_time": "2022-01-27T17:29:42.057Z"
   },
   {
    "duration": 52,
    "start_time": "2022-01-27T17:29:42.064Z"
   },
   {
    "duration": 7,
    "start_time": "2022-01-27T17:29:42.118Z"
   },
   {
    "duration": 8,
    "start_time": "2022-01-27T17:29:42.127Z"
   },
   {
    "duration": 8,
    "start_time": "2022-01-27T17:29:42.137Z"
   },
   {
    "duration": 14,
    "start_time": "2022-01-27T17:29:42.147Z"
   },
   {
    "duration": 6,
    "start_time": "2022-01-27T17:29:42.162Z"
   },
   {
    "duration": 10,
    "start_time": "2022-01-27T17:29:42.212Z"
   },
   {
    "duration": 3,
    "start_time": "2022-01-27T17:29:42.224Z"
   },
   {
    "duration": 9,
    "start_time": "2022-01-27T17:29:42.229Z"
   },
   {
    "duration": 3,
    "start_time": "2022-01-27T17:29:42.240Z"
   },
   {
    "duration": 6,
    "start_time": "2022-01-27T17:29:42.245Z"
   },
   {
    "duration": 11,
    "start_time": "2022-01-27T17:29:42.253Z"
   },
   {
    "duration": 47,
    "start_time": "2022-01-27T17:29:42.266Z"
   },
   {
    "duration": 6,
    "start_time": "2022-01-27T17:29:42.315Z"
   },
   {
    "duration": 22,
    "start_time": "2022-01-27T17:29:42.322Z"
   },
   {
    "duration": 31,
    "start_time": "2022-01-27T17:29:42.346Z"
   },
   {
    "duration": 21,
    "start_time": "2022-01-27T17:29:42.379Z"
   },
   {
    "duration": 17,
    "start_time": "2022-01-27T17:29:42.401Z"
   },
   {
    "duration": 12,
    "start_time": "2022-01-27T17:29:42.419Z"
   },
   {
    "duration": 18,
    "start_time": "2022-01-27T17:29:42.433Z"
   },
   {
    "duration": 3101,
    "start_time": "2022-01-27T17:29:42.453Z"
   },
   {
    "duration": 598,
    "start_time": "2022-01-27T17:29:45.555Z"
   },
   {
    "duration": 262,
    "start_time": "2022-01-27T17:29:46.154Z"
   },
   {
    "duration": 262,
    "start_time": "2022-01-27T17:29:46.418Z"
   },
   {
    "duration": 6,
    "start_time": "2022-01-27T17:29:46.681Z"
   },
   {
    "duration": 8,
    "start_time": "2022-01-27T17:29:46.689Z"
   },
   {
    "duration": 26,
    "start_time": "2022-01-27T17:29:46.698Z"
   },
   {
    "duration": 23,
    "start_time": "2022-01-27T17:29:46.725Z"
   },
   {
    "duration": 17,
    "start_time": "2022-01-27T17:29:46.749Z"
   },
   {
    "duration": 45,
    "start_time": "2022-01-27T17:29:46.768Z"
   },
   {
    "duration": 7,
    "start_time": "2022-01-27T17:29:46.814Z"
   },
   {
    "duration": 23,
    "start_time": "2022-01-27T17:29:46.822Z"
   },
   {
    "duration": 15,
    "start_time": "2022-01-27T17:30:59.859Z"
   },
   {
    "duration": 48,
    "start_time": "2022-01-27T17:31:12.465Z"
   },
   {
    "duration": 13,
    "start_time": "2022-01-27T17:31:12.514Z"
   },
   {
    "duration": 22,
    "start_time": "2022-01-27T17:31:12.529Z"
   },
   {
    "duration": 32,
    "start_time": "2022-01-27T17:31:12.553Z"
   },
   {
    "duration": 26,
    "start_time": "2022-01-27T17:31:12.586Z"
   },
   {
    "duration": 5,
    "start_time": "2022-01-27T17:31:12.614Z"
   },
   {
    "duration": 7,
    "start_time": "2022-01-27T17:31:12.621Z"
   },
   {
    "duration": 10,
    "start_time": "2022-01-27T17:31:12.629Z"
   },
   {
    "duration": 4,
    "start_time": "2022-01-27T17:31:12.642Z"
   },
   {
    "duration": 9,
    "start_time": "2022-01-27T17:31:12.648Z"
   },
   {
    "duration": 4,
    "start_time": "2022-01-27T17:31:12.659Z"
   },
   {
    "duration": 4,
    "start_time": "2022-01-27T17:31:12.664Z"
   },
   {
    "duration": 43,
    "start_time": "2022-01-27T17:31:12.670Z"
   },
   {
    "duration": 11,
    "start_time": "2022-01-27T17:31:12.715Z"
   },
   {
    "duration": 8,
    "start_time": "2022-01-27T17:31:12.728Z"
   },
   {
    "duration": 4,
    "start_time": "2022-01-27T17:31:12.737Z"
   },
   {
    "duration": 5,
    "start_time": "2022-01-27T17:31:12.743Z"
   },
   {
    "duration": 4,
    "start_time": "2022-01-27T17:31:12.750Z"
   },
   {
    "duration": 7,
    "start_time": "2022-01-27T17:31:12.755Z"
   },
   {
    "duration": 11,
    "start_time": "2022-01-27T17:31:12.764Z"
   },
   {
    "duration": 38,
    "start_time": "2022-01-27T17:31:12.777Z"
   },
   {
    "duration": 5,
    "start_time": "2022-01-27T17:31:12.817Z"
   },
   {
    "duration": 5,
    "start_time": "2022-01-27T17:31:12.823Z"
   },
   {
    "duration": 5,
    "start_time": "2022-01-27T17:31:12.829Z"
   },
   {
    "duration": 5,
    "start_time": "2022-01-27T17:31:12.835Z"
   },
   {
    "duration": 4,
    "start_time": "2022-01-27T17:31:12.842Z"
   },
   {
    "duration": 12,
    "start_time": "2022-01-27T17:31:12.849Z"
   },
   {
    "duration": 8,
    "start_time": "2022-01-27T17:31:12.863Z"
   },
   {
    "duration": 42,
    "start_time": "2022-01-27T17:31:12.873Z"
   },
   {
    "duration": 10,
    "start_time": "2022-01-27T17:31:12.917Z"
   },
   {
    "duration": 6,
    "start_time": "2022-01-27T17:31:12.928Z"
   },
   {
    "duration": 7,
    "start_time": "2022-01-27T17:31:12.936Z"
   },
   {
    "duration": 7,
    "start_time": "2022-01-27T17:31:12.945Z"
   },
   {
    "duration": 12,
    "start_time": "2022-01-27T17:31:12.954Z"
   },
   {
    "duration": 4,
    "start_time": "2022-01-27T17:31:12.967Z"
   },
   {
    "duration": 46,
    "start_time": "2022-01-27T17:31:12.973Z"
   },
   {
    "duration": 6,
    "start_time": "2022-01-27T17:31:13.020Z"
   },
   {
    "duration": 17,
    "start_time": "2022-01-27T17:31:13.027Z"
   },
   {
    "duration": 6,
    "start_time": "2022-01-27T17:31:13.046Z"
   },
   {
    "duration": 22,
    "start_time": "2022-01-27T17:31:13.053Z"
   },
   {
    "duration": 9,
    "start_time": "2022-01-27T17:31:13.076Z"
   },
   {
    "duration": 16,
    "start_time": "2022-01-27T17:31:13.087Z"
   },
   {
    "duration": 9,
    "start_time": "2022-01-27T17:31:13.104Z"
   },
   {
    "duration": 18,
    "start_time": "2022-01-27T17:31:13.114Z"
   },
   {
    "duration": 22,
    "start_time": "2022-01-27T17:31:13.133Z"
   },
   {
    "duration": 20,
    "start_time": "2022-01-27T17:31:13.156Z"
   },
   {
    "duration": 15,
    "start_time": "2022-01-27T17:31:13.178Z"
   },
   {
    "duration": 24,
    "start_time": "2022-01-27T17:31:13.194Z"
   },
   {
    "duration": 6,
    "start_time": "2022-01-27T17:31:13.220Z"
   },
   {
    "duration": 3139,
    "start_time": "2022-01-27T17:31:13.228Z"
   },
   {
    "duration": 599,
    "start_time": "2022-01-27T17:31:16.369Z"
   },
   {
    "duration": 264,
    "start_time": "2022-01-27T17:31:16.970Z"
   },
   {
    "duration": 271,
    "start_time": "2022-01-27T17:31:17.236Z"
   },
   {
    "duration": 7,
    "start_time": "2022-01-27T17:31:17.509Z"
   },
   {
    "duration": 10,
    "start_time": "2022-01-27T17:31:17.518Z"
   },
   {
    "duration": 16,
    "start_time": "2022-01-27T17:31:17.530Z"
   },
   {
    "duration": 25,
    "start_time": "2022-01-27T17:31:17.548Z"
   },
   {
    "duration": 47,
    "start_time": "2022-01-27T17:31:17.575Z"
   },
   {
    "duration": 19,
    "start_time": "2022-01-27T17:31:17.623Z"
   },
   {
    "duration": 6,
    "start_time": "2022-01-27T17:31:17.644Z"
   },
   {
    "duration": 18,
    "start_time": "2022-01-27T17:31:17.652Z"
   },
   {
    "duration": 629,
    "start_time": "2022-02-05T09:45:07.566Z"
   },
   {
    "duration": 19,
    "start_time": "2022-02-05T09:45:08.197Z"
   },
   {
    "duration": 12,
    "start_time": "2022-02-05T09:45:08.218Z"
   },
   {
    "duration": 32,
    "start_time": "2022-02-05T09:45:08.231Z"
   },
   {
    "duration": 10,
    "start_time": "2022-02-05T09:45:08.265Z"
   },
   {
    "duration": 6,
    "start_time": "2022-02-05T09:45:08.277Z"
   },
   {
    "duration": 29,
    "start_time": "2022-02-05T09:45:08.285Z"
   },
   {
    "duration": 9,
    "start_time": "2022-02-05T09:45:08.317Z"
   },
   {
    "duration": 4,
    "start_time": "2022-02-05T09:45:08.328Z"
   },
   {
    "duration": 9,
    "start_time": "2022-02-05T09:45:08.333Z"
   },
   {
    "duration": 5,
    "start_time": "2022-02-05T09:45:08.343Z"
   },
   {
    "duration": 4,
    "start_time": "2022-02-05T09:45:08.349Z"
   },
   {
    "duration": 4,
    "start_time": "2022-02-05T09:45:08.355Z"
   },
   {
    "duration": 55,
    "start_time": "2022-02-05T09:45:08.361Z"
   },
   {
    "duration": 9,
    "start_time": "2022-02-05T09:45:08.418Z"
   },
   {
    "duration": 5,
    "start_time": "2022-02-05T09:45:08.428Z"
   },
   {
    "duration": 6,
    "start_time": "2022-02-05T09:45:08.434Z"
   },
   {
    "duration": 9,
    "start_time": "2022-02-05T09:45:08.441Z"
   },
   {
    "duration": 11,
    "start_time": "2022-02-05T09:45:08.451Z"
   },
   {
    "duration": 7,
    "start_time": "2022-02-05T09:45:08.464Z"
   },
   {
    "duration": 8,
    "start_time": "2022-02-05T09:45:08.473Z"
   },
   {
    "duration": 33,
    "start_time": "2022-02-05T09:45:08.483Z"
   },
   {
    "duration": 3,
    "start_time": "2022-02-05T09:45:08.520Z"
   },
   {
    "duration": 5,
    "start_time": "2022-02-05T09:45:08.525Z"
   },
   {
    "duration": 6,
    "start_time": "2022-02-05T09:45:08.531Z"
   },
   {
    "duration": 4,
    "start_time": "2022-02-05T09:45:08.538Z"
   },
   {
    "duration": 12,
    "start_time": "2022-02-05T09:45:08.543Z"
   },
   {
    "duration": 11,
    "start_time": "2022-02-05T09:45:08.556Z"
   },
   {
    "duration": 5,
    "start_time": "2022-02-05T09:45:08.568Z"
   },
   {
    "duration": 43,
    "start_time": "2022-02-05T09:45:08.574Z"
   },
   {
    "duration": 7,
    "start_time": "2022-02-05T09:45:08.619Z"
   },
   {
    "duration": 7,
    "start_time": "2022-02-05T09:45:08.627Z"
   },
   {
    "duration": 8,
    "start_time": "2022-02-05T09:45:08.636Z"
   },
   {
    "duration": 15,
    "start_time": "2022-02-05T09:45:08.645Z"
   },
   {
    "duration": 6,
    "start_time": "2022-02-05T09:45:08.662Z"
   },
   {
    "duration": 10,
    "start_time": "2022-02-05T09:45:08.712Z"
   },
   {
    "duration": 4,
    "start_time": "2022-02-05T09:45:08.723Z"
   },
   {
    "duration": 9,
    "start_time": "2022-02-05T09:45:08.729Z"
   },
   {
    "duration": 5,
    "start_time": "2022-02-05T09:45:08.740Z"
   },
   {
    "duration": 8,
    "start_time": "2022-02-05T09:45:08.746Z"
   },
   {
    "duration": 4,
    "start_time": "2022-02-05T09:45:08.755Z"
   },
   {
    "duration": 55,
    "start_time": "2022-02-05T09:45:08.761Z"
   },
   {
    "duration": 5,
    "start_time": "2022-02-05T09:45:08.818Z"
   },
   {
    "duration": 5,
    "start_time": "2022-02-05T09:45:08.825Z"
   },
   {
    "duration": 18,
    "start_time": "2022-02-05T09:45:08.831Z"
   },
   {
    "duration": 18,
    "start_time": "2022-02-05T09:45:08.850Z"
   },
   {
    "duration": 44,
    "start_time": "2022-02-05T09:45:08.870Z"
   },
   {
    "duration": 13,
    "start_time": "2022-02-05T09:45:08.916Z"
   },
   {
    "duration": 7,
    "start_time": "2022-02-05T09:45:08.930Z"
   },
   {
    "duration": 3288,
    "start_time": "2022-02-05T09:45:08.939Z"
   },
   {
    "duration": 622,
    "start_time": "2022-02-05T09:45:12.228Z"
   },
   {
    "duration": 281,
    "start_time": "2022-02-05T09:45:12.851Z"
   },
   {
    "duration": 279,
    "start_time": "2022-02-05T09:45:13.133Z"
   },
   {
    "duration": 7,
    "start_time": "2022-02-05T09:45:13.414Z"
   },
   {
    "duration": 9,
    "start_time": "2022-02-05T09:45:13.423Z"
   },
   {
    "duration": 17,
    "start_time": "2022-02-05T09:45:13.434Z"
   },
   {
    "duration": 25,
    "start_time": "2022-02-05T09:45:13.453Z"
   },
   {
    "duration": 42,
    "start_time": "2022-02-05T09:45:13.480Z"
   },
   {
    "duration": 19,
    "start_time": "2022-02-05T09:45:13.524Z"
   },
   {
    "duration": 7,
    "start_time": "2022-02-05T09:45:13.545Z"
   },
   {
    "duration": 18,
    "start_time": "2022-02-05T09:45:13.554Z"
   },
   {
    "duration": 621,
    "start_time": "2022-02-05T10:19:29.553Z"
   },
   {
    "duration": 19,
    "start_time": "2022-02-05T10:19:30.176Z"
   },
   {
    "duration": 19,
    "start_time": "2022-02-05T10:19:30.197Z"
   },
   {
    "duration": 39,
    "start_time": "2022-02-05T10:19:30.218Z"
   },
   {
    "duration": 10,
    "start_time": "2022-02-05T10:19:30.259Z"
   },
   {
    "duration": 14,
    "start_time": "2022-02-05T10:19:30.270Z"
   },
   {
    "duration": 17,
    "start_time": "2022-02-05T10:19:30.285Z"
   },
   {
    "duration": 39,
    "start_time": "2022-02-05T10:19:30.304Z"
   },
   {
    "duration": 17,
    "start_time": "2022-02-05T10:19:30.346Z"
   },
   {
    "duration": 22,
    "start_time": "2022-02-05T10:19:30.365Z"
   },
   {
    "duration": 20,
    "start_time": "2022-02-05T10:19:30.388Z"
   },
   {
    "duration": 19,
    "start_time": "2022-02-05T10:19:30.409Z"
   },
   {
    "duration": 14,
    "start_time": "2022-02-05T10:19:30.429Z"
   },
   {
    "duration": 19,
    "start_time": "2022-02-05T10:19:30.444Z"
   },
   {
    "duration": 19,
    "start_time": "2022-02-05T10:19:30.465Z"
   },
   {
    "duration": 5,
    "start_time": "2022-02-05T10:19:30.486Z"
   },
   {
    "duration": 17,
    "start_time": "2022-02-05T10:19:30.493Z"
   },
   {
    "duration": 7,
    "start_time": "2022-02-05T10:19:30.511Z"
   },
   {
    "duration": 9,
    "start_time": "2022-02-05T10:19:30.519Z"
   },
   {
    "duration": 25,
    "start_time": "2022-02-05T10:19:30.530Z"
   },
   {
    "duration": 17,
    "start_time": "2022-02-05T10:19:30.557Z"
   },
   {
    "duration": 12,
    "start_time": "2022-02-05T10:19:30.576Z"
   },
   {
    "duration": 6,
    "start_time": "2022-02-05T10:19:30.593Z"
   },
   {
    "duration": 18,
    "start_time": "2022-02-05T10:19:30.601Z"
   },
   {
    "duration": 13,
    "start_time": "2022-02-05T10:19:30.621Z"
   },
   {
    "duration": 21,
    "start_time": "2022-02-05T10:19:30.636Z"
   },
   {
    "duration": 19,
    "start_time": "2022-02-05T10:19:30.659Z"
   },
   {
    "duration": 34,
    "start_time": "2022-02-05T10:19:30.679Z"
   },
   {
    "duration": 22,
    "start_time": "2022-02-05T10:19:30.715Z"
   },
   {
    "duration": 20,
    "start_time": "2022-02-05T10:19:30.739Z"
   },
   {
    "duration": 18,
    "start_time": "2022-02-05T10:19:30.761Z"
   },
   {
    "duration": 14,
    "start_time": "2022-02-05T10:19:30.781Z"
   },
   {
    "duration": 9,
    "start_time": "2022-02-05T10:19:30.798Z"
   },
   {
    "duration": 25,
    "start_time": "2022-02-05T10:19:30.809Z"
   },
   {
    "duration": 7,
    "start_time": "2022-02-05T10:19:30.835Z"
   },
   {
    "duration": 30,
    "start_time": "2022-02-05T10:19:30.844Z"
   },
   {
    "duration": 16,
    "start_time": "2022-02-05T10:19:30.876Z"
   },
   {
    "duration": 14,
    "start_time": "2022-02-05T10:19:30.893Z"
   },
   {
    "duration": 18,
    "start_time": "2022-02-05T10:19:30.909Z"
   },
   {
    "duration": 29,
    "start_time": "2022-02-05T10:19:30.928Z"
   },
   {
    "duration": 19,
    "start_time": "2022-02-05T10:19:30.959Z"
   },
   {
    "duration": 30,
    "start_time": "2022-02-05T10:19:30.980Z"
   },
   {
    "duration": 14,
    "start_time": "2022-02-05T10:19:31.012Z"
   },
   {
    "duration": 20,
    "start_time": "2022-02-05T10:19:31.028Z"
   },
   {
    "duration": 42,
    "start_time": "2022-02-05T10:19:31.049Z"
   },
   {
    "duration": 21,
    "start_time": "2022-02-05T10:19:31.092Z"
   },
   {
    "duration": 19,
    "start_time": "2022-02-05T10:19:31.114Z"
   },
   {
    "duration": 14,
    "start_time": "2022-02-05T10:19:31.135Z"
   },
   {
    "duration": 17,
    "start_time": "2022-02-05T10:19:31.150Z"
   },
   {
    "duration": 3268,
    "start_time": "2022-02-05T10:19:31.169Z"
   },
   {
    "duration": 611,
    "start_time": "2022-02-05T10:19:34.439Z"
   },
   {
    "duration": 275,
    "start_time": "2022-02-05T10:19:35.052Z"
   },
   {
    "duration": 285,
    "start_time": "2022-02-05T10:19:35.328Z"
   },
   {
    "duration": 6,
    "start_time": "2022-02-05T10:19:35.615Z"
   },
   {
    "duration": 12,
    "start_time": "2022-02-05T10:19:35.623Z"
   },
   {
    "duration": 21,
    "start_time": "2022-02-05T10:19:35.636Z"
   },
   {
    "duration": 29,
    "start_time": "2022-02-05T10:19:35.658Z"
   },
   {
    "duration": 39,
    "start_time": "2022-02-05T10:19:35.689Z"
   },
   {
    "duration": 17,
    "start_time": "2022-02-05T10:19:35.730Z"
   },
   {
    "duration": 7,
    "start_time": "2022-02-05T10:19:35.749Z"
   },
   {
    "duration": 25,
    "start_time": "2022-02-05T10:19:35.757Z"
   },
   {
    "duration": 658,
    "start_time": "2022-02-05T10:19:54.308Z"
   },
   {
    "duration": 20,
    "start_time": "2022-02-05T10:19:54.968Z"
   },
   {
    "duration": 13,
    "start_time": "2022-02-05T10:19:54.990Z"
   },
   {
    "duration": 39,
    "start_time": "2022-02-05T10:19:55.004Z"
   },
   {
    "duration": 10,
    "start_time": "2022-02-05T10:19:55.045Z"
   },
   {
    "duration": 6,
    "start_time": "2022-02-05T10:19:55.057Z"
   },
   {
    "duration": 3,
    "start_time": "2022-02-05T10:19:55.065Z"
   },
   {
    "duration": 9,
    "start_time": "2022-02-05T10:19:55.071Z"
   },
   {
    "duration": 34,
    "start_time": "2022-02-05T10:19:55.081Z"
   },
   {
    "duration": 12,
    "start_time": "2022-02-05T10:19:55.116Z"
   },
   {
    "duration": 4,
    "start_time": "2022-02-05T10:19:55.130Z"
   },
   {
    "duration": 4,
    "start_time": "2022-02-05T10:19:55.136Z"
   },
   {
    "duration": 5,
    "start_time": "2022-02-05T10:19:55.141Z"
   },
   {
    "duration": 12,
    "start_time": "2022-02-05T10:19:55.148Z"
   },
   {
    "duration": 8,
    "start_time": "2022-02-05T10:19:55.161Z"
   },
   {
    "duration": 43,
    "start_time": "2022-02-05T10:19:55.171Z"
   },
   {
    "duration": 5,
    "start_time": "2022-02-05T10:19:55.216Z"
   },
   {
    "duration": 3,
    "start_time": "2022-02-05T10:19:55.223Z"
   },
   {
    "duration": 5,
    "start_time": "2022-02-05T10:19:55.228Z"
   },
   {
    "duration": 6,
    "start_time": "2022-02-05T10:19:55.235Z"
   },
   {
    "duration": 7,
    "start_time": "2022-02-05T10:19:55.242Z"
   },
   {
    "duration": 5,
    "start_time": "2022-02-05T10:19:55.250Z"
   },
   {
    "duration": 3,
    "start_time": "2022-02-05T10:19:55.259Z"
   },
   {
    "duration": 9,
    "start_time": "2022-02-05T10:19:55.264Z"
   },
   {
    "duration": 5,
    "start_time": "2022-02-05T10:19:55.312Z"
   },
   {
    "duration": 4,
    "start_time": "2022-02-05T10:19:55.318Z"
   },
   {
    "duration": 13,
    "start_time": "2022-02-05T10:19:55.323Z"
   },
   {
    "duration": 11,
    "start_time": "2022-02-05T10:19:55.338Z"
   },
   {
    "duration": 5,
    "start_time": "2022-02-05T10:19:55.350Z"
   },
   {
    "duration": 10,
    "start_time": "2022-02-05T10:19:55.356Z"
   },
   {
    "duration": 5,
    "start_time": "2022-02-05T10:19:55.367Z"
   },
   {
    "duration": 45,
    "start_time": "2022-02-05T10:19:55.374Z"
   },
   {
    "duration": 7,
    "start_time": "2022-02-05T10:19:55.421Z"
   },
   {
    "duration": 14,
    "start_time": "2022-02-05T10:19:55.430Z"
   },
   {
    "duration": 4,
    "start_time": "2022-02-05T10:19:55.446Z"
   },
   {
    "duration": 10,
    "start_time": "2022-02-05T10:19:55.451Z"
   },
   {
    "duration": 3,
    "start_time": "2022-02-05T10:19:55.462Z"
   },
   {
    "duration": 10,
    "start_time": "2022-02-05T10:19:55.466Z"
   },
   {
    "duration": 4,
    "start_time": "2022-02-05T10:19:55.512Z"
   },
   {
    "duration": 14,
    "start_time": "2022-02-05T10:19:55.518Z"
   },
   {
    "duration": 6,
    "start_time": "2022-02-05T10:19:55.533Z"
   },
   {
    "duration": 15,
    "start_time": "2022-02-05T10:19:55.542Z"
   },
   {
    "duration": 6,
    "start_time": "2022-02-05T10:19:55.558Z"
   },
   {
    "duration": 4,
    "start_time": "2022-02-05T10:19:55.566Z"
   },
   {
    "duration": 47,
    "start_time": "2022-02-05T10:19:55.572Z"
   },
   {
    "duration": 22,
    "start_time": "2022-02-05T10:19:55.621Z"
   },
   {
    "duration": 19,
    "start_time": "2022-02-05T10:19:55.645Z"
   },
   {
    "duration": 46,
    "start_time": "2022-02-05T10:19:55.666Z"
   },
   {
    "duration": 8,
    "start_time": "2022-02-05T10:19:55.714Z"
   },
   {
    "duration": 3420,
    "start_time": "2022-02-05T10:19:55.724Z"
   },
   {
    "duration": 625,
    "start_time": "2022-02-05T10:19:59.146Z"
   },
   {
    "duration": 285,
    "start_time": "2022-02-05T10:19:59.773Z"
   },
   {
    "duration": 291,
    "start_time": "2022-02-05T10:20:00.060Z"
   },
   {
    "duration": 7,
    "start_time": "2022-02-05T10:20:00.353Z"
   },
   {
    "duration": 14,
    "start_time": "2022-02-05T10:20:00.362Z"
   },
   {
    "duration": 29,
    "start_time": "2022-02-05T10:20:00.378Z"
   },
   {
    "duration": 43,
    "start_time": "2022-02-05T10:20:00.409Z"
   },
   {
    "duration": 19,
    "start_time": "2022-02-05T10:20:00.454Z"
   },
   {
    "duration": 26,
    "start_time": "2022-02-05T10:20:00.475Z"
   },
   {
    "duration": 22,
    "start_time": "2022-02-05T10:20:00.503Z"
   },
   {
    "duration": 35,
    "start_time": "2022-02-05T10:20:00.527Z"
   },
   {
    "duration": 690,
    "start_time": "2022-02-05T11:02:01.620Z"
   },
   {
    "duration": 18,
    "start_time": "2022-02-05T11:02:02.312Z"
   },
   {
    "duration": 12,
    "start_time": "2022-02-05T11:02:02.332Z"
   },
   {
    "duration": 44,
    "start_time": "2022-02-05T11:02:02.346Z"
   },
   {
    "duration": 11,
    "start_time": "2022-02-05T11:02:02.392Z"
   },
   {
    "duration": 6,
    "start_time": "2022-02-05T11:02:02.405Z"
   },
   {
    "duration": 4,
    "start_time": "2022-02-05T11:02:02.413Z"
   },
   {
    "duration": 8,
    "start_time": "2022-02-05T11:02:02.419Z"
   },
   {
    "duration": 4,
    "start_time": "2022-02-05T11:02:02.428Z"
   },
   {
    "duration": 41,
    "start_time": "2022-02-05T11:02:02.433Z"
   },
   {
    "duration": 6,
    "start_time": "2022-02-05T11:02:02.476Z"
   },
   {
    "duration": 5,
    "start_time": "2022-02-05T11:02:02.483Z"
   },
   {
    "duration": 5,
    "start_time": "2022-02-05T11:02:02.490Z"
   },
   {
    "duration": 11,
    "start_time": "2022-02-05T11:02:02.497Z"
   },
   {
    "duration": 7,
    "start_time": "2022-02-05T11:02:02.510Z"
   },
   {
    "duration": 5,
    "start_time": "2022-02-05T11:02:02.518Z"
   },
   {
    "duration": 49,
    "start_time": "2022-02-05T11:02:02.525Z"
   },
   {
    "duration": 3,
    "start_time": "2022-02-05T11:02:02.576Z"
   },
   {
    "duration": 5,
    "start_time": "2022-02-05T11:02:02.581Z"
   },
   {
    "duration": 6,
    "start_time": "2022-02-05T11:02:02.587Z"
   },
   {
    "duration": 9,
    "start_time": "2022-02-05T11:02:02.595Z"
   },
   {
    "duration": 9,
    "start_time": "2022-02-05T11:02:02.605Z"
   },
   {
    "duration": 4,
    "start_time": "2022-02-05T11:02:02.618Z"
   },
   {
    "duration": 8,
    "start_time": "2022-02-05T11:02:02.624Z"
   },
   {
    "duration": 10,
    "start_time": "2022-02-05T11:02:02.633Z"
   },
   {
    "duration": 28,
    "start_time": "2022-02-05T11:02:02.644Z"
   },
   {
    "duration": 12,
    "start_time": "2022-02-05T11:02:02.674Z"
   },
   {
    "duration": 11,
    "start_time": "2022-02-05T11:02:02.687Z"
   },
   {
    "duration": 8,
    "start_time": "2022-02-05T11:02:02.700Z"
   },
   {
    "duration": 12,
    "start_time": "2022-02-05T11:02:02.710Z"
   },
   {
    "duration": 10,
    "start_time": "2022-02-05T11:02:02.723Z"
   },
   {
    "duration": 10,
    "start_time": "2022-02-05T11:02:02.735Z"
   },
   {
    "duration": 8,
    "start_time": "2022-02-05T11:02:02.747Z"
   },
   {
    "duration": 23,
    "start_time": "2022-02-05T11:02:02.757Z"
   },
   {
    "duration": 5,
    "start_time": "2022-02-05T11:02:02.782Z"
   },
   {
    "duration": 8,
    "start_time": "2022-02-05T11:02:02.789Z"
   },
   {
    "duration": 4,
    "start_time": "2022-02-05T11:02:02.799Z"
   },
   {
    "duration": 12,
    "start_time": "2022-02-05T11:02:02.805Z"
   },
   {
    "duration": 5,
    "start_time": "2022-02-05T11:02:02.819Z"
   },
   {
    "duration": 11,
    "start_time": "2022-02-05T11:02:02.826Z"
   },
   {
    "duration": 11,
    "start_time": "2022-02-05T11:02:02.838Z"
   },
   {
    "duration": 32,
    "start_time": "2022-02-05T11:02:02.850Z"
   },
   {
    "duration": 5,
    "start_time": "2022-02-05T11:02:02.884Z"
   },
   {
    "duration": 6,
    "start_time": "2022-02-05T11:02:02.891Z"
   },
   {
    "duration": 21,
    "start_time": "2022-02-05T11:02:02.898Z"
   },
   {
    "duration": 19,
    "start_time": "2022-02-05T11:02:02.920Z"
   },
   {
    "duration": 40,
    "start_time": "2022-02-05T11:02:02.940Z"
   },
   {
    "duration": 12,
    "start_time": "2022-02-05T11:02:02.981Z"
   },
   {
    "duration": 6,
    "start_time": "2022-02-05T11:02:02.994Z"
   },
   {
    "duration": 3678,
    "start_time": "2022-02-05T11:02:03.002Z"
   },
   {
    "duration": 583,
    "start_time": "2022-02-05T11:02:06.682Z"
   },
   {
    "duration": 258,
    "start_time": "2022-02-05T11:02:07.267Z"
   },
   {
    "duration": 253,
    "start_time": "2022-02-05T11:02:07.527Z"
   },
   {
    "duration": 6,
    "start_time": "2022-02-05T11:02:07.782Z"
   },
   {
    "duration": 9,
    "start_time": "2022-02-05T11:02:07.790Z"
   },
   {
    "duration": 15,
    "start_time": "2022-02-05T11:02:07.800Z"
   },
   {
    "duration": 24,
    "start_time": "2022-02-05T11:02:07.816Z"
   },
   {
    "duration": 41,
    "start_time": "2022-02-05T11:02:07.841Z"
   },
   {
    "duration": 17,
    "start_time": "2022-02-05T11:02:07.884Z"
   },
   {
    "duration": 6,
    "start_time": "2022-02-05T11:02:07.902Z"
   },
   {
    "duration": 18,
    "start_time": "2022-02-05T11:02:07.910Z"
   },
   {
    "duration": 8,
    "start_time": "2022-02-05T11:02:46.369Z"
   },
   {
    "duration": 479,
    "start_time": "2022-02-05T11:09:52.692Z"
   },
   {
    "duration": 6,
    "start_time": "2022-02-05T11:13:07.848Z"
   },
   {
    "duration": 5,
    "start_time": "2022-02-05T11:13:19.503Z"
   },
   {
    "duration": 42087,
    "start_time": "2022-02-05T11:13:54.298Z"
   },
   {
    "duration": 5,
    "start_time": "2022-02-05T11:14:36.387Z"
   },
   {
    "duration": 14,
    "start_time": "2022-02-05T11:15:36.754Z"
   },
   {
    "duration": 801,
    "start_time": "2022-02-06T07:05:52.445Z"
   },
   {
    "duration": 29,
    "start_time": "2022-02-06T07:05:53.248Z"
   },
   {
    "duration": 17,
    "start_time": "2022-02-06T07:05:53.280Z"
   },
   {
    "duration": 73,
    "start_time": "2022-02-06T07:05:53.300Z"
   },
   {
    "duration": 14,
    "start_time": "2022-02-06T07:05:53.376Z"
   },
   {
    "duration": 8,
    "start_time": "2022-02-06T07:05:53.392Z"
   },
   {
    "duration": 30,
    "start_time": "2022-02-06T07:05:53.403Z"
   },
   {
    "duration": 13,
    "start_time": "2022-02-06T07:05:53.437Z"
   },
   {
    "duration": 6,
    "start_time": "2022-02-06T07:05:53.453Z"
   },
   {
    "duration": 17,
    "start_time": "2022-02-06T07:05:53.461Z"
   },
   {
    "duration": 9,
    "start_time": "2022-02-06T07:05:53.481Z"
   },
   {
    "duration": 45,
    "start_time": "2022-02-06T07:05:53.492Z"
   },
   {
    "duration": 11,
    "start_time": "2022-02-06T07:05:53.541Z"
   },
   {
    "duration": 15,
    "start_time": "2022-02-06T07:05:53.555Z"
   },
   {
    "duration": 11,
    "start_time": "2022-02-06T07:05:53.574Z"
   },
   {
    "duration": 6,
    "start_time": "2022-02-06T07:05:53.632Z"
   },
   {
    "duration": 11,
    "start_time": "2022-02-06T07:05:53.640Z"
   },
   {
    "duration": 11,
    "start_time": "2022-02-06T07:05:53.653Z"
   },
   {
    "duration": 11,
    "start_time": "2022-02-06T07:05:53.667Z"
   },
   {
    "duration": 10,
    "start_time": "2022-02-06T07:05:53.681Z"
   },
   {
    "duration": 46,
    "start_time": "2022-02-06T07:05:53.694Z"
   },
   {
    "duration": 9,
    "start_time": "2022-02-06T07:05:53.743Z"
   },
   {
    "duration": 5,
    "start_time": "2022-02-06T07:05:53.761Z"
   },
   {
    "duration": 7,
    "start_time": "2022-02-06T07:05:53.769Z"
   },
   {
    "duration": 59,
    "start_time": "2022-02-06T07:05:53.778Z"
   },
   {
    "duration": 8,
    "start_time": "2022-02-06T07:05:53.839Z"
   },
   {
    "duration": 18,
    "start_time": "2022-02-06T07:05:53.849Z"
   },
   {
    "duration": 10,
    "start_time": "2022-02-06T07:05:53.869Z"
   },
   {
    "duration": 8,
    "start_time": "2022-02-06T07:05:53.881Z"
   },
   {
    "duration": 51,
    "start_time": "2022-02-06T07:05:53.892Z"
   },
   {
    "duration": 9,
    "start_time": "2022-02-06T07:05:53.945Z"
   },
   {
    "duration": 9,
    "start_time": "2022-02-06T07:05:53.957Z"
   },
   {
    "duration": 11,
    "start_time": "2022-02-06T07:05:53.969Z"
   },
   {
    "duration": 58,
    "start_time": "2022-02-06T07:05:53.982Z"
   },
   {
    "duration": 7,
    "start_time": "2022-02-06T07:05:54.043Z"
   },
   {
    "duration": 21,
    "start_time": "2022-02-06T07:05:54.052Z"
   },
   {
    "duration": 4,
    "start_time": "2022-02-06T07:05:54.075Z"
   },
   {
    "duration": 20,
    "start_time": "2022-02-06T07:05:54.081Z"
   },
   {
    "duration": 32,
    "start_time": "2022-02-06T07:05:54.104Z"
   },
   {
    "duration": 18,
    "start_time": "2022-02-06T07:05:54.140Z"
   },
   {
    "duration": 7,
    "start_time": "2022-02-06T07:05:54.161Z"
   },
   {
    "duration": 61,
    "start_time": "2022-02-06T07:05:54.171Z"
   },
   {
    "duration": 9,
    "start_time": "2022-02-06T07:05:54.235Z"
   },
   {
    "duration": 9,
    "start_time": "2022-02-06T07:05:54.247Z"
   },
   {
    "duration": 26,
    "start_time": "2022-02-06T07:05:54.258Z"
   },
   {
    "duration": 72,
    "start_time": "2022-02-06T07:05:54.286Z"
   },
   {
    "duration": 25,
    "start_time": "2022-02-06T07:05:54.361Z"
   },
   {
    "duration": 46,
    "start_time": "2022-02-06T07:05:54.389Z"
   },
   {
    "duration": 10,
    "start_time": "2022-02-06T07:05:54.438Z"
   },
   {
    "duration": 4903,
    "start_time": "2022-02-06T07:05:54.451Z"
   },
   {
    "duration": 1035,
    "start_time": "2022-02-06T07:05:59.357Z"
   },
   {
    "duration": 461,
    "start_time": "2022-02-06T07:06:00.394Z"
   },
   {
    "duration": 467,
    "start_time": "2022-02-06T07:06:00.857Z"
   },
   {
    "duration": 15,
    "start_time": "2022-02-06T07:06:01.326Z"
   },
   {
    "duration": 62234,
    "start_time": "2022-02-06T07:06:01.344Z"
   },
   {
    "duration": 23,
    "start_time": "2022-02-06T07:07:03.580Z"
   },
   {
    "duration": 61,
    "start_time": "2022-02-06T07:07:03.605Z"
   },
   {
    "duration": 29,
    "start_time": "2022-02-06T07:07:03.668Z"
   },
   {
    "duration": 53,
    "start_time": "2022-02-06T07:07:03.699Z"
   },
   {
    "duration": 9,
    "start_time": "2022-02-06T07:07:03.755Z"
   },
   {
    "duration": 28,
    "start_time": "2022-02-06T07:07:03.766Z"
   }
  ],
  "kernelspec": {
   "display_name": "Python 3 (ipykernel)",
   "language": "python",
   "name": "python3"
  },
  "language_info": {
   "codemirror_mode": {
    "name": "ipython",
    "version": 3
   },
   "file_extension": ".py",
   "mimetype": "text/x-python",
   "name": "python",
   "nbconvert_exporter": "python",
   "pygments_lexer": "ipython3",
   "version": "3.9.7"
  },
  "toc": {
   "base_numbering": 1,
   "nav_menu": {},
   "number_sections": true,
   "sideBar": true,
   "skip_h1_title": true,
   "title_cell": "Содержание",
   "title_sidebar": "Contents",
   "toc_cell": false,
   "toc_position": {},
   "toc_section_display": true,
   "toc_window_display": true
  }
 },
 "nbformat": 4,
 "nbformat_minor": 2
}
